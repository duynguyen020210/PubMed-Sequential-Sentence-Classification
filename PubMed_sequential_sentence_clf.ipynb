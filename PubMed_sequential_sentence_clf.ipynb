{
  "nbformat": 4,
  "nbformat_minor": 0,
  "metadata": {
    "colab": {
      "provenance": [],
      "toc_visible": true
    },
    "kernelspec": {
      "name": "python3",
      "display_name": "Python 3"
    },
    "language_info": {
      "name": "python"
    }
  },
  "cells": [
    {
      "cell_type": "code",
      "execution_count": null,
      "metadata": {
        "colab": {
          "base_uri": "https://localhost:8080/"
        },
        "id": "WgcL-jAOHrp2",
        "outputId": "67a96a2a-c50e-44f3-9f2a-0717a52f845a"
      },
      "outputs": [
        {
          "output_type": "stream",
          "name": "stdout",
          "text": [
            "/bin/bash: nvidia-smi: command not found\n"
          ]
        }
      ],
      "source": [
        "!nvidia-smi"
      ]
    },
    {
      "cell_type": "code",
      "execution_count": null,
      "metadata": {
        "id": "1kecMDc9wwev"
      },
      "outputs": [],
      "source": [
        "!pip install -q keras-tuner"
      ]
    },
    {
      "cell_type": "code",
      "execution_count": null,
      "metadata": {
        "colab": {
          "base_uri": "https://localhost:8080/"
        },
        "id": "GJk_dxS6KPOW",
        "outputId": "b506ae82-720a-4dbd-a49c-43bacd92a5c7"
      },
      "outputs": [
        {
          "output_type": "stream",
          "name": "stdout",
          "text": [
            "/content/drive/MyDrive/SkimLit_NPL\n"
          ]
        }
      ],
      "source": [
        "%cd /content/drive/MyDrive/SkimLit_NPL"
      ]
    },
    {
      "cell_type": "code",
      "execution_count": null,
      "metadata": {
        "id": "1FzM12Qghphp"
      },
      "outputs": [],
      "source": [
        "import numpy as np\n",
        "import pandas as pd\n",
        "import matplotlib.pyplot as plt\n",
        "import tensorflow as tf\n",
        "from datetime import datetime\n",
        "import os\n",
        "import keras\n",
        "from sklearn.preprocessing import OneHotEncoder\n",
        "from sklearn.preprocessing import LabelEncoder\n",
        "from sklearn.feature_extraction.text import TfidfVectorizer\n",
        "from sklearn.naive_bayes import MultinomialNB\n",
        "from sklearn.pipeline import Pipeline\n",
        "from sklearn.metrics import accuracy_score, precision_recall_fscore_support\n",
        "from tensorflow.keras import layers, Model\n",
        "from tensorflow.keras.optimizers import Adam\n",
        "from tensorflow.keras.layers.experimental.preprocessing import TextVectorization\n",
        "from tensorflow.keras.callbacks import TensorBoard, EarlyStopping, ModelCheckpoint\n",
        "import random\n",
        "from tensorflow.keras.layers import Input, Conv1D, GlobalAveragePooling1D, GlobalMaxPooling1D,Dense, BatchNormalization, Dropout, Concatenate\n",
        "import tensorflow_hub as hub\n",
        "from keras.utils import plot_model\n",
        "import keras_tuner as kt"
      ]
    },
    {
      "cell_type": "code",
      "execution_count": null,
      "metadata": {
        "colab": {
          "base_uri": "https://localhost:8080/",
          "height": 206
        },
        "id": "-Ibb4nMGa1SZ",
        "outputId": "4303bdee-a8ed-4943-acde-df9d5c2d4268"
      },
      "outputs": [
        {
          "output_type": "execute_result",
          "data": {
            "text/plain": [
              "   Experiments                                              Model\n",
              "0            0                      MultinomialNB (baseline model\n",
              "1            1                       Conv1D with token embeddings\n",
              "2            2  Using Feature extraction with pretrained token...\n",
              "3            3                   Conv1D with character embeddings\n",
              "4            4  Combining pretrained token embeddings + charac..."
            ],
            "text/html": [
              "\n",
              "  <div id=\"df-a393a9d2-a20d-4754-a6ed-d6edfbafce9b\">\n",
              "    <div class=\"colab-df-container\">\n",
              "      <div>\n",
              "<style scoped>\n",
              "    .dataframe tbody tr th:only-of-type {\n",
              "        vertical-align: middle;\n",
              "    }\n",
              "\n",
              "    .dataframe tbody tr th {\n",
              "        vertical-align: top;\n",
              "    }\n",
              "\n",
              "    .dataframe thead th {\n",
              "        text-align: right;\n",
              "    }\n",
              "</style>\n",
              "<table border=\"1\" class=\"dataframe\">\n",
              "  <thead>\n",
              "    <tr style=\"text-align: right;\">\n",
              "      <th></th>\n",
              "      <th>Experiments</th>\n",
              "      <th>Model</th>\n",
              "    </tr>\n",
              "  </thead>\n",
              "  <tbody>\n",
              "    <tr>\n",
              "      <th>0</th>\n",
              "      <td>0</td>\n",
              "      <td>MultinomialNB (baseline model</td>\n",
              "    </tr>\n",
              "    <tr>\n",
              "      <th>1</th>\n",
              "      <td>1</td>\n",
              "      <td>Conv1D with token embeddings</td>\n",
              "    </tr>\n",
              "    <tr>\n",
              "      <th>2</th>\n",
              "      <td>2</td>\n",
              "      <td>Using Feature extraction with pretrained token...</td>\n",
              "    </tr>\n",
              "    <tr>\n",
              "      <th>3</th>\n",
              "      <td>3</td>\n",
              "      <td>Conv1D with character embeddings</td>\n",
              "    </tr>\n",
              "    <tr>\n",
              "      <th>4</th>\n",
              "      <td>4</td>\n",
              "      <td>Combining pretrained token embeddings + charac...</td>\n",
              "    </tr>\n",
              "  </tbody>\n",
              "</table>\n",
              "</div>\n",
              "      <button class=\"colab-df-convert\" onclick=\"convertToInteractive('df-a393a9d2-a20d-4754-a6ed-d6edfbafce9b')\"\n",
              "              title=\"Convert this dataframe to an interactive table.\"\n",
              "              style=\"display:none;\">\n",
              "        \n",
              "  <svg xmlns=\"http://www.w3.org/2000/svg\" height=\"24px\"viewBox=\"0 0 24 24\"\n",
              "       width=\"24px\">\n",
              "    <path d=\"M0 0h24v24H0V0z\" fill=\"none\"/>\n",
              "    <path d=\"M18.56 5.44l.94 2.06.94-2.06 2.06-.94-2.06-.94-.94-2.06-.94 2.06-2.06.94zm-11 1L8.5 8.5l.94-2.06 2.06-.94-2.06-.94L8.5 2.5l-.94 2.06-2.06.94zm10 10l.94 2.06.94-2.06 2.06-.94-2.06-.94-.94-2.06-.94 2.06-2.06.94z\"/><path d=\"M17.41 7.96l-1.37-1.37c-.4-.4-.92-.59-1.43-.59-.52 0-1.04.2-1.43.59L10.3 9.45l-7.72 7.72c-.78.78-.78 2.05 0 2.83L4 21.41c.39.39.9.59 1.41.59.51 0 1.02-.2 1.41-.59l7.78-7.78 2.81-2.81c.8-.78.8-2.07 0-2.86zM5.41 20L4 18.59l7.72-7.72 1.47 1.35L5.41 20z\"/>\n",
              "  </svg>\n",
              "      </button>\n",
              "      \n",
              "  <style>\n",
              "    .colab-df-container {\n",
              "      display:flex;\n",
              "      flex-wrap:wrap;\n",
              "      gap: 12px;\n",
              "    }\n",
              "\n",
              "    .colab-df-convert {\n",
              "      background-color: #E8F0FE;\n",
              "      border: none;\n",
              "      border-radius: 50%;\n",
              "      cursor: pointer;\n",
              "      display: none;\n",
              "      fill: #1967D2;\n",
              "      height: 32px;\n",
              "      padding: 0 0 0 0;\n",
              "      width: 32px;\n",
              "    }\n",
              "\n",
              "    .colab-df-convert:hover {\n",
              "      background-color: #E2EBFA;\n",
              "      box-shadow: 0px 1px 2px rgba(60, 64, 67, 0.3), 0px 1px 3px 1px rgba(60, 64, 67, 0.15);\n",
              "      fill: #174EA6;\n",
              "    }\n",
              "\n",
              "    [theme=dark] .colab-df-convert {\n",
              "      background-color: #3B4455;\n",
              "      fill: #D2E3FC;\n",
              "    }\n",
              "\n",
              "    [theme=dark] .colab-df-convert:hover {\n",
              "      background-color: #434B5C;\n",
              "      box-shadow: 0px 1px 3px 1px rgba(0, 0, 0, 0.15);\n",
              "      filter: drop-shadow(0px 1px 2px rgba(0, 0, 0, 0.3));\n",
              "      fill: #FFFFFF;\n",
              "    }\n",
              "  </style>\n",
              "\n",
              "      <script>\n",
              "        const buttonEl =\n",
              "          document.querySelector('#df-a393a9d2-a20d-4754-a6ed-d6edfbafce9b button.colab-df-convert');\n",
              "        buttonEl.style.display =\n",
              "          google.colab.kernel.accessAllowed ? 'block' : 'none';\n",
              "\n",
              "        async function convertToInteractive(key) {\n",
              "          const element = document.querySelector('#df-a393a9d2-a20d-4754-a6ed-d6edfbafce9b');\n",
              "          const dataTable =\n",
              "            await google.colab.kernel.invokeFunction('convertToInteractive',\n",
              "                                                     [key], {});\n",
              "          if (!dataTable) return;\n",
              "\n",
              "          const docLinkHtml = 'Like what you see? Visit the ' +\n",
              "            '<a target=\"_blank\" href=https://colab.research.google.com/notebooks/data_table.ipynb>data table notebook</a>'\n",
              "            + ' to learn more about interactive tables.';\n",
              "          element.innerHTML = '';\n",
              "          dataTable['output_type'] = 'display_data';\n",
              "          await google.colab.output.renderOutput(dataTable, element);\n",
              "          const docLink = document.createElement('div');\n",
              "          docLink.innerHTML = docLinkHtml;\n",
              "          element.appendChild(docLink);\n",
              "        }\n",
              "      </script>\n",
              "    </div>\n",
              "  </div>\n",
              "  "
            ]
          },
          "metadata": {},
          "execution_count": 59
        }
      ],
      "source": [
        "# Recording experiments performed\n",
        "experiments = {\"Experiments\": [0, 1, 2, 3, 4],\n",
        "            \"Model\": [\"MultinomialNB (baseline model\", \"Conv1D with token embeddings\", \"Using Feature extraction with pretrained token embeddings\",\n",
        "                      \"Conv1D with character embeddings\", \"Combining pretrained token embeddings + characters embeddings\",\n",
        "                      ]}\n",
        "experiments = pd.DataFrame(experiments)\n",
        "experiments"
      ]
    },
    {
      "cell_type": "markdown",
      "metadata": {
        "id": "aI_sByAzIszq"
      },
      "source": [
        "#1. Preprocessing data\n",
        "\n"
      ]
    },
    {
      "cell_type": "markdown",
      "metadata": {
        "id": "A7XQU0L0PHhT"
      },
      "source": [
        "##1.1 Download data"
      ]
    },
    {
      "cell_type": "markdown",
      "metadata": {
        "id": "pcsPK4dVPLV0"
      },
      "source": [
        "We will the PubMed 200k RCT dataset by link: https://arxiv.org/abs/1710.06071"
      ]
    },
    {
      "cell_type": "code",
      "execution_count": null,
      "metadata": {
        "id": "R769-HfCJgse"
      },
      "outputs": [],
      "source": [
        "# #Download data from authors github\n",
        "# !git clone https://github.com/Franck-Dernoncourt/pubmed-rct"
      ]
    },
    {
      "cell_type": "code",
      "execution_count": null,
      "metadata": {
        "colab": {
          "base_uri": "https://localhost:8080/"
        },
        "id": "xvcpvuSaKW3n",
        "outputId": "7d368e92-5ebb-4d93-f7de-08fb6ac6845b"
      },
      "outputs": [
        {
          "output_type": "stream",
          "name": "stdout",
          "text": [
            "logs  pubmed-rct\n"
          ]
        }
      ],
      "source": [
        "!ls"
      ]
    },
    {
      "cell_type": "code",
      "execution_count": null,
      "metadata": {
        "colab": {
          "base_uri": "https://localhost:8080/"
        },
        "id": "w1kdkWjhK3mO",
        "outputId": "4267c72f-9f98-4878-c453-f37c543f0ac4"
      },
      "outputs": [
        {
          "output_type": "stream",
          "name": "stdout",
          "text": [
            "/content/drive/MyDrive/SkimLit_NPL/pubmed-rct\n"
          ]
        }
      ],
      "source": [
        "%cd pubmed-rct"
      ]
    },
    {
      "cell_type": "code",
      "execution_count": null,
      "metadata": {
        "colab": {
          "base_uri": "https://localhost:8080/"
        },
        "id": "FRnB7GffK8H1",
        "outputId": "8a73d10b-c0e5-4d34-df20-96694a37aad7"
      },
      "outputs": [
        {
          "output_type": "stream",
          "name": "stdout",
          "text": [
            "checkpoints  models\t\t\t\t\t    pubmed-rct\n",
            "logs\t     PubMed_200k_RCT\t\t\t\t    README.md\n",
            "model_5      PubMed_200k_RCT_numbers_replaced_with_at_sign  train.txt\n",
            "model_5.h5   PubMed_20k_RCT\t\t\t\t    train.zip\n",
            "model.png    PubMed_20k_RCT_numbers_replaced_with_at_sign   untitled_project\n"
          ]
        }
      ],
      "source": [
        "!ls"
      ]
    },
    {
      "cell_type": "markdown",
      "metadata": {
        "id": "YB0-yapbK8uu"
      },
      "source": [
        "We will use PubMed 20k to build the model and experiment on it. Then we upscale to 200k dataset"
      ]
    },
    {
      "cell_type": "code",
      "execution_count": null,
      "metadata": {
        "colab": {
          "base_uri": "https://localhost:8080/"
        },
        "id": "UKIqY2YPLfvt",
        "outputId": "9e5c395f-fd03-4d71-b1cb-7d4f31ea0d12"
      },
      "outputs": [
        {
          "output_type": "stream",
          "name": "stdout",
          "text": [
            "dev.txt  test.txt  train.txt\n",
            "dev.txt  test.txt  train.txt\n"
          ]
        }
      ],
      "source": [
        "!ls PubMed_20k_RCT_numbers_replaced_with_at_sign\n",
        "!ls PubMed_20k_RCT"
      ]
    },
    {
      "cell_type": "code",
      "execution_count": null,
      "metadata": {
        "colab": {
          "base_uri": "https://localhost:8080/"
        },
        "id": "rDv87tmdm1Fo",
        "outputId": "5123ad57-2e1a-42d3-e218-d33b02deb87a"
      },
      "outputs": [
        {
          "output_type": "stream",
          "name": "stdout",
          "text": [
            "dev.txt  test.txt  train.txt\n",
            "dev.txt  test.txt  train.7z\n"
          ]
        }
      ],
      "source": [
        "!ls PubMed_200k_RCT_numbers_replaced_with_at_sign\n",
        "!ls PubMed_200k_RCT"
      ]
    },
    {
      "cell_type": "code",
      "execution_count": null,
      "metadata": {
        "id": "OQdunhrnnl5h"
      },
      "outputs": [],
      "source": [
        "# !unzip /content/drive/MyDrive/SkimLit_NPL/pubmed-rct/PubMed_200k_RCT_numbers_replaced_with_at_sign/train.zip -d \"/content/drive/MyDrive/SkimLit_NPL/pubmed-rct/PubMed_200k_RCT_numbers_replaced_with_at_sign\""
      ]
    },
    {
      "cell_type": "code",
      "execution_count": null,
      "metadata": {
        "colab": {
          "base_uri": "https://localhost:8080/"
        },
        "id": "mTXQA-tlpJ9v",
        "outputId": "4a3cecb7-70e2-4d19-d7d5-40f58e9b0799"
      },
      "outputs": [
        {
          "output_type": "stream",
          "name": "stdout",
          "text": [
            "dev.txt  test.txt  train.txt\n"
          ]
        }
      ],
      "source": [
        "!ls PubMed_200k_RCT_numbers_replaced_with_at_sign"
      ]
    },
    {
      "cell_type": "code",
      "execution_count": null,
      "metadata": {
        "id": "h56A-poOL1oF"
      },
      "outputs": [],
      "source": [
        "data_dir = \"/content/drive/MyDrive/SkimLit_NPL/pubmed-rct/PubMed_200k_RCT_numbers_replaced_with_at_sign/\" "
      ]
    },
    {
      "cell_type": "code",
      "execution_count": null,
      "metadata": {
        "colab": {
          "base_uri": "https://localhost:8080/"
        },
        "id": "mjdC15xvODyi",
        "outputId": "39219f94-5ffe-454d-ef89-1d25f55fdabe"
      },
      "outputs": [
        {
          "output_type": "execute_result",
          "data": {
            "text/plain": [
              "['/content/drive/MyDrive/SkimLit_NPL/pubmed-rct/PubMed_200k_RCT_numbers_replaced_with_at_sign/train.txt',\n",
              " '/content/drive/MyDrive/SkimLit_NPL/pubmed-rct/PubMed_200k_RCT_numbers_replaced_with_at_sign/dev.txt',\n",
              " '/content/drive/MyDrive/SkimLit_NPL/pubmed-rct/PubMed_200k_RCT_numbers_replaced_with_at_sign/test.txt']"
            ]
          },
          "metadata": {},
          "execution_count": 69
        }
      ],
      "source": [
        "import os\n",
        "filenames = [data_dir + filename for filename in os.listdir(data_dir)]\n",
        "filenames"
      ]
    },
    {
      "cell_type": "markdown",
      "metadata": {
        "id": "FCWR78SZOaFx"
      },
      "source": [
        "##1.2 Explore data analysis"
      ]
    },
    {
      "cell_type": "code",
      "execution_count": null,
      "metadata": {
        "id": "WuqHWyfEPW31"
      },
      "outputs": [],
      "source": [
        "# Create a function to read the lines of the documents\n",
        "def get_lines(filename):\n",
        "\n",
        "  with open(filename, \"r\") as f:\n",
        "    list_line =  f.readlines()\n",
        "\n",
        "  return list_line"
      ]
    },
    {
      "cell_type": "code",
      "execution_count": null,
      "metadata": {
        "colab": {
          "base_uri": "https://localhost:8080/"
        },
        "id": "uG5E1rpcRI5H",
        "outputId": "6a838d18-e4f5-49c7-b6c6-55a75410a5f3"
      },
      "outputs": [
        {
          "output_type": "execute_result",
          "data": {
            "text/plain": [
              "['###24491034\\n',\n",
              " 'BACKGROUND\\tThe emergence of HIV as a chronic condition means that people living with HIV are required to take more responsibility for the self-management of their condition , including making physical , emotional and social adjustments .\\n',\n",
              " 'BACKGROUND\\tThis paper describes the design and evaluation of Positive Outlook , an online program aiming to enhance the self-management skills of gay men living with HIV .\\n',\n",
              " 'METHODS\\tThis study is designed as a randomised controlled trial in which men living with HIV in Australia will be assigned to either an intervention group or usual care control group .\\n',\n",
              " \"METHODS\\tThe intervention group will participate in the online group program ` Positive Outlook ' .\\n\",\n",
              " 'METHODS\\tThe program is based on self-efficacy theory and uses a self-management approach to enhance skills , confidence and abilities to manage the psychosocial issues associated with HIV in daily life .\\n',\n",
              " 'METHODS\\tParticipants will access the program for a minimum of @ minutes per week over seven weeks .\\n',\n",
              " 'METHODS\\tPrimary outcomes are domain specific self-efficacy , HIV related quality of life , and outcomes of health education .\\n',\n",
              " 'METHODS\\tSecondary outcomes include : depression , anxiety and stress ; general health and quality of life ; adjustment to HIV ; and social support .\\n',\n",
              " 'METHODS\\tData collection will take place at baseline , completion of the intervention ( or eight weeks post randomisation ) and at @ week follow-up .\\n',\n",
              " 'CONCLUSIONS\\tResults of the Positive Outlook study will provide information regarding the effectiveness of online group programs improving health related outcomes for men living with HIV .\\n',\n",
              " 'BACKGROUND\\tACTRN@ .\\n',\n",
              " '\\n',\n",
              " '###20497432\\n',\n",
              " 'BACKGROUND\\tThe aim of this study was to evaluate the efficacy , safety and complications of orbital steroid injection versus oral steroid therapy in the management of thyroid-related ophthalmopathy .\\n',\n",
              " 'METHODS\\tA total of @ patients suffering from thyroid ophthalmopathy were included in this study .\\n',\n",
              " 'METHODS\\tPatients were randomized into two groups : group I included @ patients treated with oral prednisolone and group II included @ patients treated with peribulbar triamcinolone orbital injection .\\n',\n",
              " 'METHODS\\tOnly @ patients in both groups ( @ female and @ male ) completed the study .\\n',\n",
              " 'RESULTS\\tBoth groups showed improvement in symptoms and in clinical evidence of inflammation with improvement of eye movement and proptosis in most cases .\\n',\n",
              " 'RESULTS\\tMean exophthalmometry value before treatment was @ @ mm that decreased to @ @ mm in group I , compared with @ @ mm that decreased to @ @ mm in group II .\\n']"
            ]
          },
          "metadata": {},
          "execution_count": 71
        }
      ],
      "source": [
        "train_lines = get_lines(filenames[0])\n",
        "train_lines[:20]"
      ]
    },
    {
      "cell_type": "code",
      "execution_count": null,
      "metadata": {
        "colab": {
          "base_uri": "https://localhost:8080/"
        },
        "id": "-Kydnm1VRQkL",
        "outputId": "40d2eac0-6775-4870-b73f-828db5a3eb6f"
      },
      "outputs": [
        {
          "output_type": "execute_result",
          "data": {
            "text/plain": [
              "2593169"
            ]
          },
          "metadata": {},
          "execution_count": 72
        }
      ],
      "source": [
        "len(train_lines)"
      ]
    },
    {
      "cell_type": "code",
      "execution_count": null,
      "metadata": {
        "id": "127Y4YICRnBs"
      },
      "outputs": [],
      "source": [
        "# Create a function returns a list of dictionaries of abstract line data\n",
        "def preprocess_text_with_line_numbers(filename):\n",
        "\n",
        "  input_lines = get_lines(filename)\n",
        "  abstract_lines = \"\"\n",
        "  abstract_samples = []\n",
        "\n",
        "  # Loop through each line in the input\n",
        "  for line in input_lines:\n",
        "    if line.startswith(\"###\"):\n",
        "      abstract_id = line\n",
        "      abstract_lines = \"\"\n",
        "\n",
        "    elif line.isspace():\n",
        "      abstract_line_split = abstract_lines.splitlines()\n",
        "\n",
        "      for abstract_line_number, abstract_line in enumerate(abstract_line_split):\n",
        "        line_data = {}\n",
        "        target_text_split = abstract_line.split(\"\\t\")\n",
        "        line_data[\"line_number\"] = abstract_line_number\n",
        "        line_data[\"target\"] = target_text_split[0]\n",
        "        line_data[\"text\"] = target_text_split[1].lower()\n",
        "        line_data[\"total_lines\"] = len(abstract_line_split) - 1 # start from 0\n",
        "        abstract_samples.append(line_data)\n",
        "\n",
        "    else:\n",
        "      abstract_lines += line\n",
        "\n",
        "  return abstract_samples"
      ]
    },
    {
      "cell_type": "code",
      "execution_count": null,
      "metadata": {
        "colab": {
          "base_uri": "https://localhost:8080/",
          "height": 53
        },
        "id": "Hr2LlPXNfUJq",
        "outputId": "8fe9fb9b-cdae-4f31-adaf-6189d4a6fd10"
      },
      "outputs": [
        {
          "output_type": "execute_result",
          "data": {
            "text/plain": [
              "'BACKGROUND\\tThe emergence of HIV as a chronic condition means that people living with HIV are required to take more responsibility for the self-management of their condition , including making physical , emotional and social adjustments .\\n'"
            ],
            "application/vnd.google.colaboratory.intrinsic+json": {
              "type": "string"
            }
          },
          "metadata": {},
          "execution_count": 74
        }
      ],
      "source": [
        "train_lines[1]"
      ]
    },
    {
      "cell_type": "code",
      "execution_count": null,
      "metadata": {
        "colab": {
          "base_uri": "https://localhost:8080/",
          "height": 36
        },
        "id": "9WM1TBn4f4TJ",
        "outputId": "3b2cde98-ab3a-4e7b-fd70-9331d2b67046"
      },
      "outputs": [
        {
          "output_type": "execute_result",
          "data": {
            "text/plain": [
              "'/content/drive/MyDrive/SkimLit_NPL/pubmed-rct'"
            ],
            "application/vnd.google.colaboratory.intrinsic+json": {
              "type": "string"
            }
          },
          "metadata": {},
          "execution_count": 75
        }
      ],
      "source": [
        "pwd"
      ]
    },
    {
      "cell_type": "code",
      "execution_count": null,
      "metadata": {
        "colab": {
          "base_uri": "https://localhost:8080/"
        },
        "id": "eJU1mhF7TCTe",
        "outputId": "68688b9d-7243-49d9-f1f8-cf4e6e0b3e91"
      },
      "outputs": [
        {
          "output_type": "stream",
          "name": "stdout",
          "text": [
            "CPU times: user 7.06 s, sys: 2.62 s, total: 9.68 s\n",
            "Wall time: 25.5 s\n"
          ]
        },
        {
          "output_type": "execute_result",
          "data": {
            "text/plain": [
              "(2211861, 28932, 29493)"
            ]
          },
          "metadata": {},
          "execution_count": 76
        }
      ],
      "source": [
        "%%time\n",
        "train_samples = preprocess_text_with_line_numbers(filenames[0])\n",
        "val_samples = preprocess_text_with_line_numbers(filenames[1])\n",
        "test_samples = preprocess_text_with_line_numbers(filenames[2])\n",
        "len(train_samples), len(val_samples), len(test_samples)"
      ]
    },
    {
      "cell_type": "code",
      "execution_count": null,
      "metadata": {
        "colab": {
          "base_uri": "https://localhost:8080/"
        },
        "id": "Scs09W_BTPwH",
        "outputId": "cfb6b419-e98d-4b0b-b587-41c49332193c"
      },
      "outputs": [
        {
          "output_type": "execute_result",
          "data": {
            "text/plain": [
              "[{'line_number': 0,\n",
              "  'target': 'BACKGROUND',\n",
              "  'text': 'the emergence of hiv as a chronic condition means that people living with hiv are required to take more responsibility for the self-management of their condition , including making physical , emotional and social adjustments .',\n",
              "  'total_lines': 10},\n",
              " {'line_number': 1,\n",
              "  'target': 'BACKGROUND',\n",
              "  'text': 'this paper describes the design and evaluation of positive outlook , an online program aiming to enhance the self-management skills of gay men living with hiv .',\n",
              "  'total_lines': 10},\n",
              " {'line_number': 2,\n",
              "  'target': 'METHODS',\n",
              "  'text': 'this study is designed as a randomised controlled trial in which men living with hiv in australia will be assigned to either an intervention group or usual care control group .',\n",
              "  'total_lines': 10},\n",
              " {'line_number': 3,\n",
              "  'target': 'METHODS',\n",
              "  'text': \"the intervention group will participate in the online group program ` positive outlook ' .\",\n",
              "  'total_lines': 10},\n",
              " {'line_number': 4,\n",
              "  'target': 'METHODS',\n",
              "  'text': 'the program is based on self-efficacy theory and uses a self-management approach to enhance skills , confidence and abilities to manage the psychosocial issues associated with hiv in daily life .',\n",
              "  'total_lines': 10},\n",
              " {'line_number': 5,\n",
              "  'target': 'METHODS',\n",
              "  'text': 'participants will access the program for a minimum of @ minutes per week over seven weeks .',\n",
              "  'total_lines': 10},\n",
              " {'line_number': 6,\n",
              "  'target': 'METHODS',\n",
              "  'text': 'primary outcomes are domain specific self-efficacy , hiv related quality of life , and outcomes of health education .',\n",
              "  'total_lines': 10},\n",
              " {'line_number': 7,\n",
              "  'target': 'METHODS',\n",
              "  'text': 'secondary outcomes include : depression , anxiety and stress ; general health and quality of life ; adjustment to hiv ; and social support .',\n",
              "  'total_lines': 10},\n",
              " {'line_number': 8,\n",
              "  'target': 'METHODS',\n",
              "  'text': 'data collection will take place at baseline , completion of the intervention ( or eight weeks post randomisation ) and at @ week follow-up .',\n",
              "  'total_lines': 10},\n",
              " {'line_number': 9,\n",
              "  'target': 'CONCLUSIONS',\n",
              "  'text': 'results of the positive outlook study will provide information regarding the effectiveness of online group programs improving health related outcomes for men living with hiv .',\n",
              "  'total_lines': 10},\n",
              " {'line_number': 10,\n",
              "  'target': 'BACKGROUND',\n",
              "  'text': 'actrn@ .',\n",
              "  'total_lines': 10},\n",
              " {'line_number': 0,\n",
              "  'target': 'BACKGROUND',\n",
              "  'text': 'the aim of this study was to evaluate the efficacy , safety and complications of orbital steroid injection versus oral steroid therapy in the management of thyroid-related ophthalmopathy .',\n",
              "  'total_lines': 11},\n",
              " {'line_number': 1,\n",
              "  'target': 'METHODS',\n",
              "  'text': 'a total of @ patients suffering from thyroid ophthalmopathy were included in this study .',\n",
              "  'total_lines': 11}]"
            ]
          },
          "metadata": {},
          "execution_count": 77
        }
      ],
      "source": [
        "train_samples[:13]"
      ]
    },
    {
      "cell_type": "code",
      "execution_count": null,
      "metadata": {
        "id": "aRJBu-YMpddq"
      },
      "outputs": [],
      "source": [
        "train_df = pd.DataFrame(train_samples)\n",
        "val_df = pd.DataFrame(val_samples)\n",
        "test_df = pd.DataFrame(test_samples)"
      ]
    },
    {
      "cell_type": "code",
      "execution_count": null,
      "metadata": {
        "colab": {
          "base_uri": "https://localhost:8080/",
          "height": 676
        },
        "id": "660GDgbUpj3O",
        "outputId": "c64caae8-5f31-44cb-f413-260df6dea98e"
      },
      "outputs": [
        {
          "output_type": "execute_result",
          "data": {
            "text/plain": [
              "    line_number       target  \\\n",
              "0             0   BACKGROUND   \n",
              "1             1   BACKGROUND   \n",
              "2             2      METHODS   \n",
              "3             3      METHODS   \n",
              "4             4      METHODS   \n",
              "5             5      METHODS   \n",
              "6             6      METHODS   \n",
              "7             7      METHODS   \n",
              "8             8      METHODS   \n",
              "9             9  CONCLUSIONS   \n",
              "10           10   BACKGROUND   \n",
              "11            0   BACKGROUND   \n",
              "12            1      METHODS   \n",
              "13            2      METHODS   \n",
              "14            3      METHODS   \n",
              "15            4      RESULTS   \n",
              "16            5      RESULTS   \n",
              "17            6      RESULTS   \n",
              "18            7      RESULTS   \n",
              "19            8      RESULTS   \n",
              "\n",
              "                                                 text  total_lines  \n",
              "0   the emergence of hiv as a chronic condition me...           10  \n",
              "1   this paper describes the design and evaluation...           10  \n",
              "2   this study is designed as a randomised control...           10  \n",
              "3   the intervention group will participate in the...           10  \n",
              "4   the program is based on self-efficacy theory a...           10  \n",
              "5   participants will access the program for a min...           10  \n",
              "6   primary outcomes are domain specific self-effi...           10  \n",
              "7   secondary outcomes include : depression , anxi...           10  \n",
              "8   data collection will take place at baseline , ...           10  \n",
              "9   results of the positive outlook study will pro...           10  \n",
              "10                                           actrn@ .           10  \n",
              "11  the aim of this study was to evaluate the effi...           11  \n",
              "12  a total of @ patients suffering from thyroid o...           11  \n",
              "13  patients were randomized into two groups : gro...           11  \n",
              "14  only @ patients in both groups ( @ female and ...           11  \n",
              "15  both groups showed improvement in symptoms and...           11  \n",
              "16  mean exophthalmometry value before treatment w...           11  \n",
              "17  mean initial clinical activity score was @ @ a...           11  \n",
              "18  there was no change in the best-corrected visu...           11  \n",
              "19  there was an increase in body weight , blood s...           11  "
            ],
            "text/html": [
              "\n",
              "  <div id=\"df-23ec06f8-18ce-4d2b-8688-6c94462d5fba\">\n",
              "    <div class=\"colab-df-container\">\n",
              "      <div>\n",
              "<style scoped>\n",
              "    .dataframe tbody tr th:only-of-type {\n",
              "        vertical-align: middle;\n",
              "    }\n",
              "\n",
              "    .dataframe tbody tr th {\n",
              "        vertical-align: top;\n",
              "    }\n",
              "\n",
              "    .dataframe thead th {\n",
              "        text-align: right;\n",
              "    }\n",
              "</style>\n",
              "<table border=\"1\" class=\"dataframe\">\n",
              "  <thead>\n",
              "    <tr style=\"text-align: right;\">\n",
              "      <th></th>\n",
              "      <th>line_number</th>\n",
              "      <th>target</th>\n",
              "      <th>text</th>\n",
              "      <th>total_lines</th>\n",
              "    </tr>\n",
              "  </thead>\n",
              "  <tbody>\n",
              "    <tr>\n",
              "      <th>0</th>\n",
              "      <td>0</td>\n",
              "      <td>BACKGROUND</td>\n",
              "      <td>the emergence of hiv as a chronic condition me...</td>\n",
              "      <td>10</td>\n",
              "    </tr>\n",
              "    <tr>\n",
              "      <th>1</th>\n",
              "      <td>1</td>\n",
              "      <td>BACKGROUND</td>\n",
              "      <td>this paper describes the design and evaluation...</td>\n",
              "      <td>10</td>\n",
              "    </tr>\n",
              "    <tr>\n",
              "      <th>2</th>\n",
              "      <td>2</td>\n",
              "      <td>METHODS</td>\n",
              "      <td>this study is designed as a randomised control...</td>\n",
              "      <td>10</td>\n",
              "    </tr>\n",
              "    <tr>\n",
              "      <th>3</th>\n",
              "      <td>3</td>\n",
              "      <td>METHODS</td>\n",
              "      <td>the intervention group will participate in the...</td>\n",
              "      <td>10</td>\n",
              "    </tr>\n",
              "    <tr>\n",
              "      <th>4</th>\n",
              "      <td>4</td>\n",
              "      <td>METHODS</td>\n",
              "      <td>the program is based on self-efficacy theory a...</td>\n",
              "      <td>10</td>\n",
              "    </tr>\n",
              "    <tr>\n",
              "      <th>5</th>\n",
              "      <td>5</td>\n",
              "      <td>METHODS</td>\n",
              "      <td>participants will access the program for a min...</td>\n",
              "      <td>10</td>\n",
              "    </tr>\n",
              "    <tr>\n",
              "      <th>6</th>\n",
              "      <td>6</td>\n",
              "      <td>METHODS</td>\n",
              "      <td>primary outcomes are domain specific self-effi...</td>\n",
              "      <td>10</td>\n",
              "    </tr>\n",
              "    <tr>\n",
              "      <th>7</th>\n",
              "      <td>7</td>\n",
              "      <td>METHODS</td>\n",
              "      <td>secondary outcomes include : depression , anxi...</td>\n",
              "      <td>10</td>\n",
              "    </tr>\n",
              "    <tr>\n",
              "      <th>8</th>\n",
              "      <td>8</td>\n",
              "      <td>METHODS</td>\n",
              "      <td>data collection will take place at baseline , ...</td>\n",
              "      <td>10</td>\n",
              "    </tr>\n",
              "    <tr>\n",
              "      <th>9</th>\n",
              "      <td>9</td>\n",
              "      <td>CONCLUSIONS</td>\n",
              "      <td>results of the positive outlook study will pro...</td>\n",
              "      <td>10</td>\n",
              "    </tr>\n",
              "    <tr>\n",
              "      <th>10</th>\n",
              "      <td>10</td>\n",
              "      <td>BACKGROUND</td>\n",
              "      <td>actrn@ .</td>\n",
              "      <td>10</td>\n",
              "    </tr>\n",
              "    <tr>\n",
              "      <th>11</th>\n",
              "      <td>0</td>\n",
              "      <td>BACKGROUND</td>\n",
              "      <td>the aim of this study was to evaluate the effi...</td>\n",
              "      <td>11</td>\n",
              "    </tr>\n",
              "    <tr>\n",
              "      <th>12</th>\n",
              "      <td>1</td>\n",
              "      <td>METHODS</td>\n",
              "      <td>a total of @ patients suffering from thyroid o...</td>\n",
              "      <td>11</td>\n",
              "    </tr>\n",
              "    <tr>\n",
              "      <th>13</th>\n",
              "      <td>2</td>\n",
              "      <td>METHODS</td>\n",
              "      <td>patients were randomized into two groups : gro...</td>\n",
              "      <td>11</td>\n",
              "    </tr>\n",
              "    <tr>\n",
              "      <th>14</th>\n",
              "      <td>3</td>\n",
              "      <td>METHODS</td>\n",
              "      <td>only @ patients in both groups ( @ female and ...</td>\n",
              "      <td>11</td>\n",
              "    </tr>\n",
              "    <tr>\n",
              "      <th>15</th>\n",
              "      <td>4</td>\n",
              "      <td>RESULTS</td>\n",
              "      <td>both groups showed improvement in symptoms and...</td>\n",
              "      <td>11</td>\n",
              "    </tr>\n",
              "    <tr>\n",
              "      <th>16</th>\n",
              "      <td>5</td>\n",
              "      <td>RESULTS</td>\n",
              "      <td>mean exophthalmometry value before treatment w...</td>\n",
              "      <td>11</td>\n",
              "    </tr>\n",
              "    <tr>\n",
              "      <th>17</th>\n",
              "      <td>6</td>\n",
              "      <td>RESULTS</td>\n",
              "      <td>mean initial clinical activity score was @ @ a...</td>\n",
              "      <td>11</td>\n",
              "    </tr>\n",
              "    <tr>\n",
              "      <th>18</th>\n",
              "      <td>7</td>\n",
              "      <td>RESULTS</td>\n",
              "      <td>there was no change in the best-corrected visu...</td>\n",
              "      <td>11</td>\n",
              "    </tr>\n",
              "    <tr>\n",
              "      <th>19</th>\n",
              "      <td>8</td>\n",
              "      <td>RESULTS</td>\n",
              "      <td>there was an increase in body weight , blood s...</td>\n",
              "      <td>11</td>\n",
              "    </tr>\n",
              "  </tbody>\n",
              "</table>\n",
              "</div>\n",
              "      <button class=\"colab-df-convert\" onclick=\"convertToInteractive('df-23ec06f8-18ce-4d2b-8688-6c94462d5fba')\"\n",
              "              title=\"Convert this dataframe to an interactive table.\"\n",
              "              style=\"display:none;\">\n",
              "        \n",
              "  <svg xmlns=\"http://www.w3.org/2000/svg\" height=\"24px\"viewBox=\"0 0 24 24\"\n",
              "       width=\"24px\">\n",
              "    <path d=\"M0 0h24v24H0V0z\" fill=\"none\"/>\n",
              "    <path d=\"M18.56 5.44l.94 2.06.94-2.06 2.06-.94-2.06-.94-.94-2.06-.94 2.06-2.06.94zm-11 1L8.5 8.5l.94-2.06 2.06-.94-2.06-.94L8.5 2.5l-.94 2.06-2.06.94zm10 10l.94 2.06.94-2.06 2.06-.94-2.06-.94-.94-2.06-.94 2.06-2.06.94z\"/><path d=\"M17.41 7.96l-1.37-1.37c-.4-.4-.92-.59-1.43-.59-.52 0-1.04.2-1.43.59L10.3 9.45l-7.72 7.72c-.78.78-.78 2.05 0 2.83L4 21.41c.39.39.9.59 1.41.59.51 0 1.02-.2 1.41-.59l7.78-7.78 2.81-2.81c.8-.78.8-2.07 0-2.86zM5.41 20L4 18.59l7.72-7.72 1.47 1.35L5.41 20z\"/>\n",
              "  </svg>\n",
              "      </button>\n",
              "      \n",
              "  <style>\n",
              "    .colab-df-container {\n",
              "      display:flex;\n",
              "      flex-wrap:wrap;\n",
              "      gap: 12px;\n",
              "    }\n",
              "\n",
              "    .colab-df-convert {\n",
              "      background-color: #E8F0FE;\n",
              "      border: none;\n",
              "      border-radius: 50%;\n",
              "      cursor: pointer;\n",
              "      display: none;\n",
              "      fill: #1967D2;\n",
              "      height: 32px;\n",
              "      padding: 0 0 0 0;\n",
              "      width: 32px;\n",
              "    }\n",
              "\n",
              "    .colab-df-convert:hover {\n",
              "      background-color: #E2EBFA;\n",
              "      box-shadow: 0px 1px 2px rgba(60, 64, 67, 0.3), 0px 1px 3px 1px rgba(60, 64, 67, 0.15);\n",
              "      fill: #174EA6;\n",
              "    }\n",
              "\n",
              "    [theme=dark] .colab-df-convert {\n",
              "      background-color: #3B4455;\n",
              "      fill: #D2E3FC;\n",
              "    }\n",
              "\n",
              "    [theme=dark] .colab-df-convert:hover {\n",
              "      background-color: #434B5C;\n",
              "      box-shadow: 0px 1px 3px 1px rgba(0, 0, 0, 0.15);\n",
              "      filter: drop-shadow(0px 1px 2px rgba(0, 0, 0, 0.3));\n",
              "      fill: #FFFFFF;\n",
              "    }\n",
              "  </style>\n",
              "\n",
              "      <script>\n",
              "        const buttonEl =\n",
              "          document.querySelector('#df-23ec06f8-18ce-4d2b-8688-6c94462d5fba button.colab-df-convert');\n",
              "        buttonEl.style.display =\n",
              "          google.colab.kernel.accessAllowed ? 'block' : 'none';\n",
              "\n",
              "        async function convertToInteractive(key) {\n",
              "          const element = document.querySelector('#df-23ec06f8-18ce-4d2b-8688-6c94462d5fba');\n",
              "          const dataTable =\n",
              "            await google.colab.kernel.invokeFunction('convertToInteractive',\n",
              "                                                     [key], {});\n",
              "          if (!dataTable) return;\n",
              "\n",
              "          const docLinkHtml = 'Like what you see? Visit the ' +\n",
              "            '<a target=\"_blank\" href=https://colab.research.google.com/notebooks/data_table.ipynb>data table notebook</a>'\n",
              "            + ' to learn more about interactive tables.';\n",
              "          element.innerHTML = '';\n",
              "          dataTable['output_type'] = 'display_data';\n",
              "          await google.colab.output.renderOutput(dataTable, element);\n",
              "          const docLink = document.createElement('div');\n",
              "          docLink.innerHTML = docLinkHtml;\n",
              "          element.appendChild(docLink);\n",
              "        }\n",
              "      </script>\n",
              "    </div>\n",
              "  </div>\n",
              "  "
            ]
          },
          "metadata": {},
          "execution_count": 79
        }
      ],
      "source": [
        "train_df.head(20)"
      ]
    },
    {
      "cell_type": "code",
      "execution_count": null,
      "metadata": {
        "colab": {
          "base_uri": "https://localhost:8080/"
        },
        "id": "axLyq7CFpmUm",
        "outputId": "554b135b-b3c6-4e33-a5bd-036de309e020"
      },
      "outputs": [
        {
          "output_type": "execute_result",
          "data": {
            "text/plain": [
              "RESULTS        766271\n",
              "METHODS        722586\n",
              "CONCLUSIONS    339714\n",
              "BACKGROUND     196689\n",
              "OBJECTIVE      186601\n",
              "Name: target, dtype: int64"
            ]
          },
          "metadata": {},
          "execution_count": 80
        }
      ],
      "source": [
        "# Distribution of labels in train data\n",
        "train_df.target.value_counts()"
      ]
    },
    {
      "cell_type": "code",
      "execution_count": null,
      "metadata": {
        "colab": {
          "base_uri": "https://localhost:8080/",
          "height": 462
        },
        "id": "iLgpn4VKqFLo",
        "outputId": "7f0b8d01-ae43-4748-9a13-87cfde557f60"
      },
      "outputs": [
        {
          "output_type": "execute_result",
          "data": {
            "text/plain": [
              "<Axes: ylabel='Frequency'>"
            ]
          },
          "metadata": {},
          "execution_count": 81
        },
        {
          "output_type": "display_data",
          "data": {
            "text/plain": [
              "<Figure size 640x480 with 1 Axes>"
            ],
            "image/png": "[encoded data removed]"
          },
          "metadata": {}
        }
      ],
      "source": [
        "# Check the length of different lines\n",
        "train_df[\"total_lines\"].plot.hist()"
      ]
    },
    {
      "cell_type": "code",
      "execution_count": null,
      "metadata": {
        "id": "iz8vphWIrDHW"
      },
      "outputs": [],
      "source": [
        "# Convert abstract text lines into lists\n",
        "train_sentences = train_df.text.tolist()\n",
        "val_sentences = val_df.text.tolist()\n",
        "test_sentences = test_df.text.tolist()"
      ]
    },
    {
      "cell_type": "code",
      "execution_count": null,
      "metadata": {
        "colab": {
          "base_uri": "https://localhost:8080/"
        },
        "id": "8WBe665Ir-uP",
        "outputId": "81a01418-07cd-479d-8860-d9279e704d48"
      },
      "outputs": [
        {
          "output_type": "execute_result",
          "data": {
            "text/plain": [
              "['the emergence of hiv as a chronic condition means that people living with hiv are required to take more responsibility for the self-management of their condition , including making physical , emotional and social adjustments .',\n",
              " 'this paper describes the design and evaluation of positive outlook , an online program aiming to enhance the self-management skills of gay men living with hiv .',\n",
              " 'this study is designed as a randomised controlled trial in which men living with hiv in australia will be assigned to either an intervention group or usual care control group .',\n",
              " \"the intervention group will participate in the online group program ` positive outlook ' .\",\n",
              " 'the program is based on self-efficacy theory and uses a self-management approach to enhance skills , confidence and abilities to manage the psychosocial issues associated with hiv in daily life .',\n",
              " 'participants will access the program for a minimum of @ minutes per week over seven weeks .',\n",
              " 'primary outcomes are domain specific self-efficacy , hiv related quality of life , and outcomes of health education .',\n",
              " 'secondary outcomes include : depression , anxiety and stress ; general health and quality of life ; adjustment to hiv ; and social support .',\n",
              " 'data collection will take place at baseline , completion of the intervention ( or eight weeks post randomisation ) and at @ week follow-up .',\n",
              " 'results of the positive outlook study will provide information regarding the effectiveness of online group programs improving health related outcomes for men living with hiv .',\n",
              " 'actrn@ .',\n",
              " 'the aim of this study was to evaluate the efficacy , safety and complications of orbital steroid injection versus oral steroid therapy in the management of thyroid-related ophthalmopathy .',\n",
              " 'a total of @ patients suffering from thyroid ophthalmopathy were included in this study .',\n",
              " 'patients were randomized into two groups : group i included @ patients treated with oral prednisolone and group ii included @ patients treated with peribulbar triamcinolone orbital injection .',\n",
              " 'only @ patients in both groups ( @ female and @ male ) completed the study .',\n",
              " 'both groups showed improvement in symptoms and in clinical evidence of inflammation with improvement of eye movement and proptosis in most cases .',\n",
              " 'mean exophthalmometry value before treatment was @ @ mm that decreased to @ @ mm in group i , compared with @ @ mm that decreased to @ @ mm in group ii .',\n",
              " 'mean initial clinical activity score was @ @ and @ @ for group i and group ii before treatment , respectively , which dropped to @ @ and @ @ , @ months after treatment , respectively .',\n",
              " 'there was no change in the best-corrected visual acuity in both groups .',\n",
              " 'there was an increase in body weight , blood sugar , blood pressure and gastritis in group i in @ % , @ % , @ % and @ % , respectively , compared with @ % , @ % , @ % and @ % in group ii .']"
            ]
          },
          "metadata": {},
          "execution_count": 83
        }
      ],
      "source": [
        "train_sentences[:20]"
      ]
    },
    {
      "cell_type": "code",
      "execution_count": null,
      "metadata": {
        "colab": {
          "base_uri": "https://localhost:8080/"
        },
        "id": "oerQLWMVsM6S",
        "outputId": "75eeb3a3-c74d-408b-a3eb-1e2f993eaa65"
      },
      "outputs": [
        {
          "output_type": "execute_result",
          "data": {
            "text/plain": [
              "(2211861, 28932, 29493)"
            ]
          },
          "metadata": {},
          "execution_count": 84
        }
      ],
      "source": [
        "len(train_sentences), len(val_sentences), len(test_sentences)"
      ]
    },
    {
      "cell_type": "markdown",
      "metadata": {
        "id": "4QrgFpA6seM8"
      },
      "source": [
        "##1.3 Encoding labels"
      ]
    },
    {
      "cell_type": "code",
      "execution_count": null,
      "metadata": {
        "colab": {
          "base_uri": "https://localhost:8080/"
        },
        "id": "mWyzaAWv2n2E",
        "outputId": "7734fbe2-ade7-4201-f331-9e1371aea483"
      },
      "outputs": [
        {
          "output_type": "stream",
          "name": "stderr",
          "text": [
            "/usr/local/lib/python3.10/dist-packages/sklearn/preprocessing/_encoders.py:868: FutureWarning: `sparse` was renamed to `sparse_output` in version 1.2 and will be removed in 1.4. `sparse_output` is ignored unless you leave `sparse` to its default value.\n",
            "  warnings.warn(\n"
          ]
        }
      ],
      "source": [
        "# Using One Hot Encoder\n",
        "ohe = OneHotEncoder(sparse=False)\n",
        "train_labels_oh = ohe.fit_transform(train_df[\"target\"].to_numpy().reshape(-1,1))\n",
        "val_labels_oh = ohe.transform(val_df[\"target\"].to_numpy().reshape(-1,1))\n",
        "test_labels_oh = ohe.transform(test_df[\"target\"].to_numpy().reshape(-1,1))"
      ]
    },
    {
      "cell_type": "code",
      "execution_count": null,
      "metadata": {
        "colab": {
          "base_uri": "https://localhost:8080/"
        },
        "id": "0yUoFuranwk0",
        "outputId": "39e7922e-cea6-4b5f-f8e5-a8db1b23eee2"
      },
      "outputs": [
        {
          "output_type": "execute_result",
          "data": {
            "text/plain": [
              "array(['BACKGROUND', 'CONCLUSIONS', 'METHODS', 'OBJECTIVE', 'RESULTS'],\n",
              "      dtype=object)"
            ]
          },
          "metadata": {},
          "execution_count": 86
        }
      ],
      "source": [
        "classes = ohe.categories_[0]\n",
        "classes"
      ]
    },
    {
      "cell_type": "code",
      "execution_count": null,
      "metadata": {
        "colab": {
          "base_uri": "https://localhost:8080/"
        },
        "id": "pWYgUVPNoSJk",
        "outputId": "92d8fd38-b72c-480b-a55d-9aa2d59d2fbc"
      },
      "outputs": [
        {
          "output_type": "execute_result",
          "data": {
            "text/plain": [
              "array(['BACKGROUND', 'METHODS', 'CONCLUSIONS', 'RESULTS', 'OBJECTIVE'],\n",
              "      dtype=object)"
            ]
          },
          "metadata": {},
          "execution_count": 87
        }
      ],
      "source": [
        "train_df[\"target\"].unique()"
      ]
    },
    {
      "cell_type": "code",
      "execution_count": null,
      "metadata": {
        "colab": {
          "base_uri": "https://localhost:8080/"
        },
        "id": "LPM8RyNBnhas",
        "outputId": "816a12aa-24c9-4673-b1d1-381cf19d148e"
      },
      "outputs": [
        {
          "output_type": "execute_result",
          "data": {
            "text/plain": [
              "array([[1., 0., 0., 0., 0.],\n",
              "       [1., 0., 0., 0., 0.],\n",
              "       [0., 0., 1., 0., 0.],\n",
              "       [0., 0., 1., 0., 0.],\n",
              "       [0., 0., 1., 0., 0.]])"
            ]
          },
          "metadata": {},
          "execution_count": 88
        }
      ],
      "source": [
        "train_labels_oh[:5]"
      ]
    },
    {
      "cell_type": "code",
      "execution_count": null,
      "metadata": {
        "id": "Hgc9t6d5oXbT"
      },
      "outputs": [],
      "source": [
        "# Using Label Encoder\n",
        "lb = LabelEncoder()\n",
        "train_labels = lb.fit_transform(train_df[\"target\"].to_numpy())\n",
        "val_labels = lb.transform(val_df[\"target\"].to_numpy())\n",
        "test_labels = lb.transform(test_df[\"target\"].to_numpy())"
      ]
    },
    {
      "cell_type": "code",
      "execution_count": null,
      "metadata": {
        "colab": {
          "base_uri": "https://localhost:8080/"
        },
        "id": "uRcC0WzGnCYk",
        "outputId": "fa8769a0-36aa-496d-8f9e-610066362cd2"
      },
      "outputs": [
        {
          "output_type": "execute_result",
          "data": {
            "text/plain": [
              "0          BACKGROUND\n",
              "1          BACKGROUND\n",
              "2             METHODS\n",
              "3             METHODS\n",
              "4             METHODS\n",
              "              ...    \n",
              "2211856       METHODS\n",
              "2211857       METHODS\n",
              "2211858       RESULTS\n",
              "2211859       RESULTS\n",
              "2211860       RESULTS\n",
              "Name: target, Length: 2211861, dtype: object"
            ]
          },
          "metadata": {},
          "execution_count": 90
        }
      ],
      "source": [
        "train_df[\"target\"]"
      ]
    },
    {
      "cell_type": "code",
      "execution_count": null,
      "metadata": {
        "colab": {
          "base_uri": "https://localhost:8080/"
        },
        "id": "mvGfAumu3DN5",
        "outputId": "6e3afd85-3aa2-43b0-fbd2-d163217c2d66"
      },
      "outputs": [
        {
          "output_type": "execute_result",
          "data": {
            "text/plain": [
              "(2211861,)"
            ]
          },
          "metadata": {},
          "execution_count": 91
        }
      ],
      "source": [
        "train_labels.shape"
      ]
    },
    {
      "cell_type": "code",
      "execution_count": null,
      "metadata": {
        "colab": {
          "base_uri": "https://localhost:8080/"
        },
        "id": "Onesujino8jb",
        "outputId": "a553ebf0-1606-4b3b-d167-11653692d818"
      },
      "outputs": [
        {
          "output_type": "stream",
          "name": "stdout",
          "text": [
            "[0 0 2 ... 4 4 4]\n",
            "(2211861,)\n"
          ]
        }
      ],
      "source": [
        "print(train_labels)\n",
        "print(train_labels.shape)"
      ]
    },
    {
      "cell_type": "code",
      "execution_count": null,
      "metadata": {
        "id": "__vAhcZynXS0"
      },
      "outputs": [],
      "source": [
        "# Assign common name\n",
        "X_train = train_sentences\n",
        "y_train = train_labels\n",
        "X_val = val_sentences\n",
        "y_val = val_labels\n",
        "X_test = train_sentences\n",
        "y_test = test_labels"
      ]
    },
    {
      "cell_type": "markdown",
      "metadata": {
        "id": "BqsOep6h3Yef"
      },
      "source": [
        "#2. Build model"
      ]
    },
    {
      "cell_type": "markdown",
      "metadata": {
        "id": "K4kAUvvGnDaF"
      },
      "source": [
        "##2.1 Model 0: MultinomialNB (baseline model)"
      ]
    },
    {
      "cell_type": "code",
      "execution_count": null,
      "metadata": {
        "id": "JgwOpW53lW7N"
      },
      "outputs": [],
      "source": [
        "# Create a pipeline\n",
        "model_0 = Pipeline([\n",
        "    (\"tf-idf\", TfidfVectorizer()),\n",
        "    (\"clf\", MultinomialNB())\n",
        "])\n",
        "# Fit the pipeline to training data\n",
        "model_0.fit(X_train, y_train)"
      ]
    },
    {
      "cell_type": "code",
      "execution_count": null,
      "metadata": {
        "id": "Q1B91z0apSks"
      },
      "outputs": [],
      "source": [
        "# Evaluate with validation data\n",
        "model_0.score(X_val, y_val)"
      ]
    },
    {
      "cell_type": "code",
      "execution_count": null,
      "metadata": {
        "id": "uozPDnmHpovw"
      },
      "outputs": [],
      "source": [
        "# Make prediction\n",
        "y_pred = model_0.predict(X_val)\n",
        "y_pred"
      ]
    },
    {
      "cell_type": "code",
      "execution_count": null,
      "metadata": {
        "id": "_ZVfImPasA58"
      },
      "outputs": [],
      "source": [
        " def calculate_results(y_true, y_pred):\n",
        "\n",
        "   # Calculate model accuracy\n",
        "   model_accuracy = accuracy_score(y_true, y_pred)\n",
        "   # Calculate model precision, recall, f1 score\n",
        "   model_precision, model_recall, model_f1, _ = precision_recall_fscore_support(y_true, y_pred, average=\"weighted\")\n",
        "   model_results = {\"accuracy\": model_accuracy,\n",
        "                    \"precision\": model_precision,\n",
        "                    \"recall\": model_recall,\n",
        "                    \"f1-score\": model_f1}\n",
        "\n",
        "   return model_results"
      ]
    },
    {
      "cell_type": "code",
      "execution_count": null,
      "metadata": {
        "id": "HzAfNwkDtrJv"
      },
      "outputs": [],
      "source": [
        "baseline_results = calculate_results(y_true=y_val,\n",
        "                                     y_pred=y_pred)\n",
        "baseline_results"
      ]
    },
    {
      "cell_type": "markdown",
      "metadata": {
        "id": "pKNeURpXe25A"
      },
      "source": [
        "##2.2 Model 1: Conv1D with token embeddings"
      ]
    },
    {
      "cell_type": "markdown",
      "metadata": {
        "id": "yJ8GTmdnt68r"
      },
      "source": [
        "###2.2.1 Create the token embeddings"
      ]
    },
    {
      "cell_type": "code",
      "execution_count": null,
      "metadata": {
        "colab": {
          "base_uri": "https://localhost:8080/"
        },
        "id": "ljIY_Em7u-si",
        "outputId": "54e7594d-aeb8-427c-ae10-6110cd5aa0db"
      },
      "outputs": [
        {
          "name": "stdout",
          "output_type": "stream",
          "text": [
            "[36, 27, 31, 15, 31, 17, 19, 25, 25, 26]\n",
            "26.229355280462922\n"
          ]
        }
      ],
      "source": [
        "sent_lens = [len(sentence.split()) for sentence in train_sentences]\n",
        "avg_sent_lens = np.mean(sent_lens)\n",
        "print(sent_lens[:10])\n",
        "print(avg_sent_lens)"
      ]
    },
    {
      "cell_type": "code",
      "execution_count": null,
      "metadata": {
        "colab": {
          "base_uri": "https://localhost:8080/",
          "height": 445
        },
        "id": "J-WXl8rvvsim",
        "outputId": "67b5a201-5f2a-484a-d53a-ed53f0813be1"
      },
      "outputs": [
        {
          "data": {
            "image/png": "[encoded data removed]",
            "text/plain": [
              "<Figure size 640x480 with 1 Axes>"
            ]
          },
          "metadata": {},
          "output_type": "display_data"
        }
      ],
      "source": [
        "plt.hist(sent_lens, bins=20);"
      ]
    },
    {
      "cell_type": "code",
      "execution_count": null,
      "metadata": {
        "colab": {
          "base_uri": "https://localhost:8080/"
        },
        "id": "NttR3yZYwQ7Q",
        "outputId": "2641442b-182b-4389-d168-17d585cfe393"
      },
      "outputs": [
        {
          "data": {
            "text/plain": [
              "54"
            ]
          },
          "execution_count": 40,
          "metadata": {},
          "output_type": "execute_result"
        }
      ],
      "source": [
        "# Find the maximum of sentence length covering 95% of samples\n",
        "output_seq_len = int(np.percentile(sent_lens, 95))\n",
        "output_seq_len"
      ]
    },
    {
      "cell_type": "code",
      "execution_count": null,
      "metadata": {
        "id": "PJ-kvDj3_fgq"
      },
      "outputs": [],
      "source": [
        "# Get the max token from the paper https://arxiv.org/pdf/1710.06071.pdf\n",
        "max_tokens = 250000"
      ]
    },
    {
      "cell_type": "code",
      "execution_count": null,
      "metadata": {
        "id": "WGhbVLIB_fjl"
      },
      "outputs": [],
      "source": [
        "# Create text vectorizer\n",
        "text_vectorizer = TextVectorization(max_tokens=max_tokens,\n",
        "                                    output_sequence_length=output_seq_len)"
      ]
    },
    {
      "cell_type": "code",
      "execution_count": null,
      "metadata": {
        "id": "V0vuYP5iAuuX"
      },
      "outputs": [],
      "source": [
        "# Adapt text vectorizer to training sentences\n",
        "train_size = int(0.6*len(train_sentences))\n",
        "train_samples = train_sentences[:train_size]\n",
        "text_vectorizer.adapt(train_samples)"
      ]
    },
    {
      "cell_type": "code",
      "execution_count": null,
      "metadata": {
        "colab": {
          "base_uri": "https://localhost:8080/"
        },
        "id": "VpeMOWwOC0eu",
        "outputId": "f9397819-2b2e-4740-c94c-e40b420a3b8f"
      },
      "outputs": [
        {
          "name": "stdout",
          "output_type": "stream",
          "text": [
            "186308\n",
            "['', '[UNK]', 'the', 'of', 'and', 'in', 'to', 'with', 'a', 'were']\n",
            "['aacontaining', 'aachener', 'aacc', 'aabased', 'aaat', 'aaasurgery', 'aaaspecific', 'aaalanon', 'aaacp', 'aaaanalog']\n"
          ]
        }
      ],
      "source": [
        "token_vocab = text_vectorizer.get_vocabulary()\n",
        "print(len(token_vocab)) \n",
        "print(token_vocab[:10])\n",
        "print(token_vocab[-10:])"
      ]
    },
    {
      "cell_type": "code",
      "execution_count": null,
      "metadata": {
        "colab": {
          "base_uri": "https://localhost:8080/"
        },
        "id": "sbOjpXutAuxO",
        "outputId": "3b3a26db-bac1-4328-ac2f-5e6f63976625"
      },
      "outputs": [
        {
          "name": "stdout",
          "output_type": "stream",
          "text": [
            "the incidence of variceal bleeding for the es and control group was @ % and @ % at @ year and @ % and @ % at @ years , respectively .\n",
            "32\n"
          ]
        }
      ],
      "source": [
        "random.seed(77)\n",
        "target_sent = random.choice(train_sentences)\n",
        "print(target_sent)\n",
        "print(len(target_sent.split()))"
      ]
    },
    {
      "cell_type": "code",
      "execution_count": null,
      "metadata": {
        "colab": {
          "base_uri": "https://localhost:8080/"
        },
        "id": "pxF3cypbBVwX",
        "outputId": "72414770-5643-4bcd-afc4-bf43785696f7"
      },
      "outputs": [
        {
          "data": {
            "text/plain": [
              "<tf.Tensor: shape=(1, 54), dtype=int64, numpy=\n",
              "array([[   2,  202,    3, 4260,  413,   12,    2, 2841,    4,   38,   13,\n",
              "          10,    4,   16,  156,    4,    4,   16,   64,   74,    0,    0,\n",
              "           0,    0,    0,    0,    0,    0,    0,    0,    0,    0,    0,\n",
              "           0,    0,    0,    0,    0,    0,    0,    0,    0,    0,    0,\n",
              "           0,    0,    0,    0,    0,    0,    0,    0,    0,    0]])>"
            ]
          },
          "execution_count": 46,
          "metadata": {},
          "output_type": "execute_result"
        }
      ],
      "source": [
        "vectorized_sent = text_vectorizer([target_sent])\n",
        "vectorized_sent"
      ]
    },
    {
      "cell_type": "code",
      "execution_count": null,
      "metadata": {
        "id": "S89VwjZmAu0C"
      },
      "outputs": [],
      "source": [
        "# Create token embedding layer\n",
        "token_embed = layers.Embedding(input_dim=len(token_vocab),\n",
        "                               output_dim=128,\n",
        "                               mask_zero=True)"
      ]
    },
    {
      "cell_type": "code",
      "execution_count": null,
      "metadata": {
        "colab": {
          "base_uri": "https://localhost:8080/"
        },
        "id": "7AYQ-zhVEfWA",
        "outputId": "f6d767f7-da91-4ea2-9c87-bc6cee535a17"
      },
      "outputs": [
        {
          "name": "stdout",
          "output_type": "stream",
          "text": [
            "(1, 54, 128)\n",
            "tf.Tensor(\n",
            "[[[ 0.04908395  0.01657974 -0.02273843 ...  0.04277274 -0.03694715\n",
            "    0.02346021]\n",
            "  [ 0.00701515  0.01102127  0.00423913 ...  0.03372821  0.00927798\n",
            "    0.02132342]\n",
            "  [-0.02354056 -0.02690263 -0.02039653 ... -0.02386906 -0.03346436\n",
            "    0.04306263]\n",
            "  ...\n",
            "  [-0.00811043  0.04900746  0.00241108 ... -0.0354957   0.04844738\n",
            "    0.04463387]\n",
            "  [-0.00811043  0.04900746  0.00241108 ... -0.0354957   0.04844738\n",
            "    0.04463387]\n",
            "  [-0.00811043  0.04900746  0.00241108 ... -0.0354957   0.04844738\n",
            "    0.04463387]]], shape=(1, 54, 128), dtype=float32)\n"
          ]
        }
      ],
      "source": [
        "embedded_sent = token_embed(vectorized_sent)\n",
        "print(embedded_sent.shape)\n",
        "print(embedded_sent)"
      ]
    },
    {
      "cell_type": "code",
      "execution_count": null,
      "metadata": {
        "id": "uT9oudK5ft5f"
      },
      "outputs": [],
      "source": [
        "def create_token_dataset(sentences, labels, batch_size):\n",
        "  dataset = tf.data.Dataset.from_tensor_slices((sentences, labels)).batch(batch_size).prefetch(tf.data.AUTOTUNE)\n",
        "\n",
        "  return dataset"
      ]
    },
    {
      "cell_type": "code",
      "execution_count": null,
      "metadata": {
        "id": "SWT0dlKzjeLV"
      },
      "outputs": [],
      "source": [
        "# Turn our data into tf datasets\n",
        "BATCH_SIZE = 32\n",
        "train_dataset = create_token_dataset(sentences=train_sentences, labels=train_labels_oh, batch_size=BATCH_SIZE)\n",
        "val_dataset = create_token_dataset(sentences=val_sentences, labels=val_labels_oh, batch_size=BATCH_SIZE)"
      ]
    },
    {
      "cell_type": "code",
      "execution_count": null,
      "metadata": {
        "colab": {
          "base_uri": "https://localhost:8080/"
        },
        "id": "GrSuvsOqEfjQ",
        "outputId": "5595e1b0-16fa-460b-ea01-a47f7c43df67"
      },
      "outputs": [
        {
          "data": {
            "text/plain": [
              "<_PrefetchDataset element_spec=(TensorSpec(shape=(None,), dtype=tf.string, name=None), TensorSpec(shape=(None, 5), dtype=tf.float64, name=None))>"
            ]
          },
          "execution_count": 65,
          "metadata": {},
          "output_type": "execute_result"
        }
      ],
      "source": [
        "train_dataset"
      ]
    },
    {
      "cell_type": "markdown",
      "metadata": {
        "id": "T54vhYNkbxfs"
      },
      "source": [
        "###2.2.2 Create a model"
      ]
    },
    {
      "cell_type": "code",
      "execution_count": null,
      "metadata": {
        "id": "LWguKBELgyCk"
      },
      "outputs": [],
      "source": [
        "INPUT_SHAPE = (1,)\n",
        "OUTPUT_SHAPE = 5"
      ]
    },
    {
      "cell_type": "code",
      "execution_count": null,
      "metadata": {
        "id": "0W7U1CUnfCPa"
      },
      "outputs": [],
      "source": [
        "inputs = Input(shape=INPUT_SHAPE, dtype=tf.string)\n",
        "text_vectors = text_vectorizer(inputs)\n",
        "token_embeddings = token_embed(text_vectors)\n",
        "x = Conv1D(64, kernel_size=5, padding=\"same\", activation=\"relu\")(token_embeddings)\n",
        "x = GlobalMaxPooling1D()(x)\n",
        "outputs = Dense(OUTPUT_SHAPE, activation=\"softmax\")(x)\n",
        "model_1 = Model(inputs, outputs)"
      ]
    },
    {
      "cell_type": "code",
      "execution_count": null,
      "metadata": {
        "id": "j9uulVowhgUA"
      },
      "outputs": [],
      "source": [
        "# Compile the model\n",
        "model_1.compile(loss=\"categorical_crossentropy\",\n",
        "                optimizer=Adam(),\n",
        "                metrics = [\"accuracy\"])"
      ]
    },
    {
      "cell_type": "code",
      "execution_count": null,
      "metadata": {
        "colab": {
          "base_uri": "https://localhost:8080/"
        },
        "id": "gs6Y1hmpg7Ch",
        "outputId": "ee36a6c3-8532-4b5c-988b-0e46ca90a0e1"
      },
      "outputs": [
        {
          "name": "stdout",
          "output_type": "stream",
          "text": [
            "Model: \"model\"\n",
            "_________________________________________________________________\n",
            " Layer (type)                Output Shape              Param #   \n",
            "=================================================================\n",
            " input_1 (InputLayer)        [(None, 1)]               0         \n",
            "                                                                 \n",
            " text_vectorization (TextVec  (None, 55)               0         \n",
            " torization)                                                     \n",
            "                                                                 \n",
            " embedding (Embedding)       (None, 55, 128)           8299648   \n",
            "                                                                 \n",
            " conv1d (Conv1D)             (None, 55, 64)            41024     \n",
            "                                                                 \n",
            " global_max_pooling1d (Globa  (None, 64)               0         \n",
            " lMaxPooling1D)                                                  \n",
            "                                                                 \n",
            " dense (Dense)               (None, 5)                 325       \n",
            "                                                                 \n",
            "=================================================================\n",
            "Total params: 8,340,997\n",
            "Trainable params: 8,340,997\n",
            "Non-trainable params: 0\n",
            "_________________________________________________________________\n"
          ]
        }
      ],
      "source": [
        "model_1.summary()"
      ]
    },
    {
      "cell_type": "code",
      "execution_count": null,
      "metadata": {
        "colab": {
          "base_uri": "https://localhost:8080/"
        },
        "id": "G7eoVQ22k2-9",
        "outputId": "ded6750d-eee9-4a36-af86-7cca4b0c8ce9"
      },
      "outputs": [
        {
          "name": "stdout",
          "output_type": "stream",
          "text": [
            "Epoch 1/5\n",
            "562/562 [==============================] - 47s 64ms/step - loss: 0.8418 - accuracy: 0.6816 - val_loss: 0.5907 - val_accuracy: 0.7816\n",
            "Epoch 2/5\n",
            "562/562 [==============================] - 7s 13ms/step - loss: 0.5808 - accuracy: 0.7864 - val_loss: 0.5419 - val_accuracy: 0.7969\n",
            "Epoch 3/5\n",
            "562/562 [==============================] - 6s 11ms/step - loss: 0.5460 - accuracy: 0.7999 - val_loss: 0.5212 - val_accuracy: 0.8105\n",
            "Epoch 4/5\n",
            "562/562 [==============================] - 4s 7ms/step - loss: 0.5249 - accuracy: 0.8080 - val_loss: 0.5151 - val_accuracy: 0.8088\n",
            "Epoch 5/5\n",
            "562/562 [==============================] - 6s 11ms/step - loss: 0.5294 - accuracy: 0.8075 - val_loss: 0.4941 - val_accuracy: 0.8228\n"
          ]
        }
      ],
      "source": [
        "# Fit the model\n",
        "EPOCHS = 5\n",
        "hist_1 = model_1.fit(train_dataset, epochs = EPOCHS, steps_per_epoch=int(0.1*len(train_dataset)),\n",
        "                     validation_data=val_dataset, validation_steps=int(0.1*len(val_dataset)))"
      ]
    },
    {
      "cell_type": "code",
      "execution_count": null,
      "metadata": {
        "colab": {
          "base_uri": "https://localhost:8080/"
        },
        "id": "FHtyy8hGmOvo",
        "outputId": "7e0974fd-8213-4fca-d260-402bff63380d"
      },
      "outputs": [
        {
          "name": "stdout",
          "output_type": "stream",
          "text": [
            "945/945 [==============================] - 3s 3ms/step\n"
          ]
        },
        {
          "data": {
            "text/plain": [
              "((30212, 5),\n",
              " array([[5.2226859e-01, 2.4168301e-01, 1.3624306e-03, 2.2804917e-01,\n",
              "         6.6368673e-03],\n",
              "        [5.3326100e-01, 3.5680261e-01, 5.6769475e-03, 8.0539860e-02,\n",
              "         2.3719573e-02],\n",
              "        [1.4097455e-01, 3.4738906e-02, 7.7915136e-03, 8.1597000e-01,\n",
              "         5.2508875e-04],\n",
              "        ...,\n",
              "        [7.3430978e-04, 1.6962553e-03, 1.2394770e-02, 2.4261451e-04,\n",
              "         9.8493201e-01],\n",
              "        [1.0664653e-02, 5.5456084e-01, 3.3159364e-02, 5.7125990e-03,\n",
              "         3.9590245e-01],\n",
              "        [4.8314329e-02, 9.3353122e-01, 8.7917615e-03, 3.9701946e-03,\n",
              "         5.3924145e-03]], dtype=float32))"
            ]
          },
          "execution_count": 60,
          "metadata": {},
          "output_type": "execute_result"
        }
      ],
      "source": [
        "# Make predicitons\n",
        "model_1_pred_probs = model_1.predict(val_dataset)\n",
        "model_1_pred_probs.shape, model_1_pred_probs"
      ]
    },
    {
      "cell_type": "code",
      "execution_count": null,
      "metadata": {
        "colab": {
          "base_uri": "https://localhost:8080/"
        },
        "id": "19AObGnfqFMt",
        "outputId": "2033ac61-2c62-4d8a-c64b-3aedc597e3cd"
      },
      "outputs": [
        {
          "data": {
            "text/plain": [
              "<tf.Tensor: shape=(30212,), dtype=int64, numpy=array([0, 0, 3, ..., 4, 1, 1])>"
            ]
          },
          "execution_count": 61,
          "metadata": {},
          "output_type": "execute_result"
        }
      ],
      "source": [
        "model_1_preds = tf.argmax(model_1_pred_probs, axis=1)\n",
        "model_1_preds"
      ]
    },
    {
      "cell_type": "code",
      "execution_count": null,
      "metadata": {
        "colab": {
          "base_uri": "https://localhost:8080/"
        },
        "id": "eaL1MWXPqVFb",
        "outputId": "8bcd6263-d437-4b7b-d79b-d7f1b55e91d5"
      },
      "outputs": [
        {
          "data": {
            "text/plain": [
              "{'accuracy': 0.8210975771216735,\n",
              " 'precision': 0.8227700550409679,\n",
              " 'recall': 0.8210975771216735,\n",
              " 'f1-score': 0.8187352948551208}"
            ]
          },
          "execution_count": 62,
          "metadata": {},
          "output_type": "execute_result"
        }
      ],
      "source": [
        "model_1_results = calculate_results(val_labels, model_1_preds)\n",
        "model_1_results"
      ]
    },
    {
      "cell_type": "markdown",
      "metadata": {
        "id": "bRoXmVctqpG-"
      },
      "source": [
        "##2.3 Model 2: Using Feature extraction with pretrained token embeddings"
      ]
    },
    {
      "cell_type": "code",
      "execution_count": null,
      "metadata": {
        "id": "UDguL1RGr-wJ"
      },
      "outputs": [],
      "source": [
        "MODEL = \"https://tfhub.dev/google/universal-sentence-encoder/4\"\n",
        "tf_hub_embedding_layer = hub.KerasLayer(MODEL, trainable=False)"
      ]
    },
    {
      "cell_type": "code",
      "execution_count": null,
      "metadata": {
        "colab": {
          "base_uri": "https://localhost:8080/",
          "height": 36
        },
        "id": "2Aem8DcXvMI9",
        "outputId": "b5a77b66-6d55-425d-994d-1824f62ce521"
      },
      "outputs": [
        {
          "data": {
            "application/vnd.google.colaboratory.intrinsic+json": {
              "type": "string"
            },
            "text/plain": [
              "'predictors for @ ( oh ) d were intake of vitamin d , eicosapentaenoic acids ( epa ) , docosahexaenoic acids ( dha ) , vitamin d supplement , plasma epa and plasma dha .'"
            ]
          },
          "execution_count": 64,
          "metadata": {},
          "output_type": "execute_result"
        }
      ],
      "source": [
        "# Test the model\n",
        "random.seed(66)\n",
        "random_sent = random.choice(train_sentences)\n",
        "random_sent"
      ]
    },
    {
      "cell_type": "code",
      "execution_count": null,
      "metadata": {
        "colab": {
          "base_uri": "https://localhost:8080/"
        },
        "id": "4zA9Vph9veVc",
        "outputId": "e6ce8545-8191-4183-c640-8507f1efc50d"
      },
      "outputs": [
        {
          "name": "stdout",
          "output_type": "stream",
          "text": [
            "(1, 512)\n",
            "tf.Tensor(\n",
            "[[ 1.93553697e-02 -2.25422308e-02 -6.16349876e-02 -4.76064049e-02\n",
            "   8.05169065e-03 -2.68093478e-02  2.88273431e-02 -1.84032805e-02\n",
            "  -3.94975357e-02 -4.04382218e-03  7.04939887e-02 -1.99950803e-02\n",
            "  -6.03553765e-02  1.76249091e-02 -6.78505227e-02 -6.38464764e-02\n",
            "  -7.10263997e-02 -5.45488782e-02  6.27603233e-02  4.98322910e-03\n",
            "  -4.61170003e-02 -5.84955923e-02 -5.02432398e-02  6.02832548e-02\n",
            "   4.42674942e-02 -2.29931008e-02  6.78203031e-02 -6.44782931e-02\n",
            "   1.17496196e-02  2.07205620e-02 -3.04877739e-02  7.10608661e-02\n",
            "   5.22035435e-02 -7.04922378e-02 -6.72184303e-02 -9.57696699e-03\n",
            "   4.34730202e-02 -2.76727900e-02  1.48939239e-02  3.22517939e-02\n",
            "   6.58591762e-02  6.97717890e-02  2.57945415e-02  5.37854573e-03\n",
            "   5.02500124e-02 -5.54053448e-02 -5.00182509e-02 -4.46328297e-02\n",
            "   4.83350782e-03  5.74679039e-02 -4.30706106e-02 -5.88729791e-02\n",
            "  -2.22078077e-02  4.18582372e-02  6.90527484e-02  3.77562717e-02\n",
            "  -2.12864615e-02 -4.57637291e-03  2.77748145e-02  3.36871520e-02\n",
            "   4.00554612e-02  3.51232919e-03  5.18663437e-04 -1.66492239e-02\n",
            "   6.30968064e-02 -2.08012323e-04  6.02851715e-03 -6.64013624e-02\n",
            "  -3.81935649e-02  5.99854328e-02 -5.27016558e-02  5.89576662e-02\n",
            "  -3.02366037e-02 -9.12312791e-03  5.22268489e-02  5.02650738e-02\n",
            "   6.00320026e-02 -5.00547700e-02  1.14864614e-02  1.07212728e-02\n",
            "   6.74783811e-02  2.11934745e-02  5.21914400e-02  5.03154397e-02\n",
            "   2.80910712e-02  2.31229905e-02  4.28906865e-02 -6.76847994e-02\n",
            "   1.01565011e-03  5.25987223e-02 -6.40685856e-02  2.60146353e-02\n",
            "   4.54770625e-02  5.53234704e-02 -1.20323068e-02  1.80541407e-02\n",
            "   8.57563646e-05  9.89704859e-03  6.02635704e-02 -6.81260787e-03\n",
            "   5.67972288e-02 -3.23500745e-02  6.84911385e-02  5.85615225e-02\n",
            "  -1.33504169e-02 -5.73762842e-02 -5.20305037e-02  5.69296665e-02\n",
            "  -2.43261782e-03 -8.74962285e-03  6.28490448e-02 -9.88682359e-03\n",
            "   2.17327438e-02 -3.89623977e-02 -4.81985137e-02 -1.30772004e-02\n",
            "   3.44056301e-02  3.32137458e-02 -4.02143002e-02 -6.34391084e-02\n",
            "   3.12272832e-02 -1.90972220e-02  6.66221157e-02  1.72296856e-02\n",
            "   4.33928370e-02  6.84054866e-02 -3.98086533e-02 -4.98822778e-02\n",
            "   1.55166667e-02  1.21766441e-02  2.66698338e-02  7.10650235e-02\n",
            "   2.50237137e-02  6.82372153e-02  4.37621661e-02  5.41213863e-02\n",
            "   5.93379922e-02 -6.94041103e-02  3.03738452e-02  6.65445775e-02\n",
            "  -2.32464727e-02  6.70730323e-02 -2.25776024e-02  2.55911052e-03\n",
            "  -1.04688993e-02  4.35741246e-02 -4.05943356e-02  4.08577099e-02\n",
            "  -2.85438504e-02  3.48824002e-02 -5.11231273e-02 -4.07591723e-02\n",
            "  -6.59261718e-02  6.26725405e-02  7.10639209e-02  7.14313937e-03\n",
            "   1.22561241e-02  4.50379178e-02  5.72113134e-02 -6.26347885e-02\n",
            "   6.17605262e-02 -5.30373566e-02 -3.73255461e-02  2.92539634e-02\n",
            "  -5.47102354e-02  3.92732173e-02 -4.69932444e-02 -2.79691219e-02\n",
            "  -5.57462052e-02  1.91788618e-02 -4.49066982e-02 -1.53523907e-02\n",
            "  -2.46308558e-02 -4.71874252e-02  6.27852902e-02  4.65090796e-02\n",
            "   6.71822671e-03 -6.51444793e-02  1.87798813e-02  2.65216436e-02\n",
            "   5.40514768e-04  6.13018908e-02  6.96954876e-02  6.71956316e-02\n",
            "  -5.92079051e-02 -5.28557040e-02  6.83495179e-02 -6.58497363e-02\n",
            "  -6.66534752e-02  4.63310722e-03 -5.60045848e-03 -7.01982081e-02\n",
            "  -5.20750433e-02  5.96172176e-02  3.65195274e-02 -1.16687035e-02\n",
            "   6.82768747e-02 -5.97430728e-02 -5.49408374e-03 -3.58236134e-02\n",
            "   5.51758930e-02  5.14697023e-02 -4.01913114e-02 -2.47026701e-02\n",
            "  -1.08255651e-02  2.49238722e-02  7.49535393e-04  4.49807532e-02\n",
            "   3.57028544e-02  1.92464124e-02  6.47556856e-02  6.67165220e-02\n",
            "  -5.89961074e-02  2.34072227e-02  1.99303031e-03 -6.61869347e-02\n",
            "   2.74200607e-02  5.65612540e-02  6.39318824e-02 -6.09854721e-02\n",
            "   1.54621191e-02  1.83600113e-02 -5.28444983e-02  5.25668785e-02\n",
            "  -6.92127924e-03 -1.29254833e-02  4.40556072e-02  3.44327018e-02\n",
            "   2.55674720e-02 -7.04472736e-02 -3.54493558e-02  2.50044465e-02\n",
            "   3.58727574e-02 -5.97376339e-02 -6.26197383e-02  7.14836828e-03\n",
            "   1.77771896e-02 -5.30080535e-02 -5.15647680e-02  3.35440934e-02\n",
            "   1.82307197e-03  6.86146766e-02  5.66700734e-02  5.77479750e-02\n",
            "  -1.16786556e-02 -2.64167544e-02  5.37015013e-02  3.23518626e-02\n",
            "   2.48309355e-02 -7.09981024e-02 -2.02686824e-02  4.24404927e-02\n",
            "   5.13383076e-02  6.40569925e-02  4.98822406e-02 -1.14750378e-02\n",
            "  -3.79175693e-02  4.09233570e-02 -3.34285013e-02 -1.18146101e-02\n",
            "  -6.71117157e-02  1.13634812e-02 -2.91432124e-02  1.65153239e-02\n",
            "  -9.93084442e-03  6.76423637e-03 -3.69122699e-02  4.12135795e-02\n",
            "  -6.88588023e-02  4.56357412e-02 -4.93718795e-02  9.73833445e-03\n",
            "   1.23977661e-03 -3.17971315e-03 -2.14534942e-02  5.47480993e-02\n",
            "   6.10985048e-02 -4.55191545e-02  5.41157275e-02  4.85933572e-02\n",
            "  -5.96764404e-03  4.14114334e-02 -6.47121295e-02 -6.54064268e-02\n",
            "   5.57877719e-02  2.82403864e-02  3.17127118e-03  3.28620076e-02\n",
            "  -3.95870395e-02 -4.82142791e-02  5.77172935e-02 -5.32072969e-02\n",
            "   6.97036982e-02 -7.07193017e-02 -3.69451605e-02  3.95160690e-02\n",
            "  -6.93865865e-02 -6.77666217e-02 -7.06444234e-02  6.54857978e-02\n",
            "   4.09605540e-02 -2.62178294e-03  4.90651019e-02 -1.95904518e-03\n",
            "   4.91950102e-02  2.89532967e-04 -5.24701998e-02 -5.68752475e-02\n",
            "  -5.04642874e-02 -1.10074589e-02  5.53618185e-02  2.87608281e-02\n",
            "   1.07760504e-02  5.30768633e-02  7.10041523e-02 -1.84651408e-02\n",
            "  -2.69506294e-02 -6.11833669e-02  6.13984354e-02 -6.99117854e-02\n",
            "  -1.54684586e-02  4.35487181e-03  4.75453883e-02  6.28322810e-02\n",
            "   1.28967334e-02  3.45281139e-02  2.62393467e-02 -1.91988307e-04\n",
            "  -3.20626386e-02  5.88572361e-02  6.48948876e-03 -2.57573519e-02\n",
            "   2.38526482e-02  1.71075501e-02  5.03951088e-02 -6.41523525e-02\n",
            "  -3.34965326e-02  1.27541320e-02  1.47517966e-02 -5.31411842e-02\n",
            "   1.90419052e-02 -1.35387117e-02  6.64960444e-02  6.57870770e-02\n",
            "  -4.91124652e-02 -7.10653663e-02 -1.54480664e-02  4.20655757e-02\n",
            "  -6.90919906e-02  4.30837385e-02 -5.64910024e-02 -9.21205804e-03\n",
            "  -1.36675444e-02  3.32123302e-02  4.40343171e-02  4.85098287e-02\n",
            "  -6.88063279e-02  3.54770273e-02 -3.96818779e-02 -2.82193068e-02\n",
            "   6.00608476e-02  4.77452613e-02 -1.41287940e-02  1.30919069e-02\n",
            "   4.63517718e-02  4.20755781e-02  3.85619849e-02  4.43985686e-02\n",
            "  -4.15187515e-02  7.02003241e-02  6.84832409e-02 -3.81636955e-02\n",
            "   4.30530077e-03 -7.10644349e-02 -6.95844889e-02  3.58169414e-02\n",
            "   1.71702337e-02 -4.74984646e-02 -2.16342472e-02 -6.25186712e-02\n",
            "  -6.74813315e-02  2.02847123e-02 -6.07056208e-02 -1.07490160e-02\n",
            "  -4.56548482e-03  2.38368451e-03 -5.63410670e-02 -5.36300093e-02\n",
            "   6.54543489e-02  2.88742036e-02  5.35103530e-02  4.61615734e-02\n",
            "  -4.74150889e-02 -4.61692177e-02 -3.14299837e-02  6.11898601e-02\n",
            "  -1.89212821e-02  1.82924327e-02 -7.00620115e-02 -2.87048966e-02\n",
            "  -4.49855216e-02  4.18535322e-02 -4.38534245e-02  6.15310371e-02\n",
            "  -8.22544377e-03 -8.49012937e-03 -6.34169579e-02  4.68250848e-02\n",
            "   8.46578833e-03  6.44087046e-02 -1.53529728e-02 -4.00916226e-02\n",
            "   3.75875384e-02 -2.20360048e-02  3.31360437e-02  4.16635126e-02\n",
            "   7.14350492e-03  6.26979619e-02  3.42076761e-03  7.06405789e-02\n",
            "  -1.32014146e-02 -4.36781049e-02 -1.55110722e-02 -5.22272736e-02\n",
            "   1.07210372e-02 -7.18840910e-03  4.00139131e-02 -5.29799750e-03\n",
            "   9.58310999e-03  2.10865941e-02 -1.66079309e-02 -5.74714877e-02\n",
            "  -1.38326280e-03 -5.00127822e-02  5.19055016e-02 -5.12806363e-02\n",
            "   1.41215688e-02  3.99475694e-02  6.76646456e-02  5.81498332e-02\n",
            "  -5.95370270e-02  2.96832472e-02 -3.85652669e-02 -2.11778022e-02\n",
            "   1.88989174e-02 -1.66658487e-03 -6.79273158e-02 -4.66470048e-02\n",
            "   5.94894141e-02  1.82033498e-02 -5.58956042e-02  5.82624972e-02\n",
            "   1.41615849e-02 -9.26087610e-03 -2.93638948e-02 -5.38235111e-03\n",
            "  -7.09526613e-02  1.72804836e-02  6.91969320e-02 -2.23161988e-02\n",
            "   4.66208905e-02 -4.44215275e-02  4.88996021e-02  4.24285382e-02\n",
            "  -4.41684909e-02 -2.74834223e-02 -4.32271026e-02  3.47010829e-02\n",
            "   4.76598255e-02  5.80579080e-02 -4.43380289e-02  4.72632498e-02\n",
            "  -4.40309681e-02 -4.34300080e-02 -2.08282340e-02  4.58527505e-02\n",
            "   2.32055169e-02 -6.00452162e-02 -2.61960197e-02  5.51919527e-02\n",
            "  -3.98183689e-02  1.79902073e-02 -4.47691046e-02  1.47204788e-03\n",
            "  -8.06655176e-03 -1.08189490e-02 -5.37556559e-02 -6.52073883e-03\n",
            "  -6.50031567e-02 -4.12672833e-02 -6.01991117e-02  3.03014852e-02\n",
            "   5.42284027e-02 -9.31476615e-03 -3.64907533e-02  2.87822913e-02\n",
            "   4.80696596e-02 -1.33727333e-02 -3.27887721e-02 -3.84708382e-02\n",
            "  -5.75409979e-02  4.94351722e-02  6.07416928e-02 -3.15450132e-02\n",
            "   5.16595058e-02 -7.10609481e-02 -2.26392224e-03  1.61043915e-03\n",
            "   4.63677421e-02  6.92497119e-02  5.25573194e-02  1.36587173e-02]], shape=(1, 512), dtype=float32)\n"
          ]
        }
      ],
      "source": [
        "emb_sent = tf_hub_embedding_layer([random_sent])\n",
        "print(emb_sent.shape)\n",
        "print(emb_sent)"
      ]
    },
    {
      "cell_type": "code",
      "execution_count": null,
      "metadata": {
        "colab": {
          "base_uri": "https://localhost:8080/"
        },
        "id": "PdDGQHJjvwDy",
        "outputId": "2daec78f-a5a4-4057-f490-6f3b5e970e7f"
      },
      "outputs": [
        {
          "name": "stdout",
          "output_type": "stream",
          "text": [
            "Model: \"model_1\"\n",
            "_________________________________________________________________\n",
            " Layer (type)                Output Shape              Param #   \n",
            "=================================================================\n",
            " input_2 (InputLayer)        [(None,)]                 0         \n",
            "                                                                 \n",
            " keras_layer (KerasLayer)    (None, 512)               256797824 \n",
            "                                                                 \n",
            " dense_1 (Dense)             (None, 128)               65664     \n",
            "                                                                 \n",
            " dense_2 (Dense)             (None, 5)                 645       \n",
            "                                                                 \n",
            "=================================================================\n",
            "Total params: 256,864,133\n",
            "Trainable params: 66,309\n",
            "Non-trainable params: 256,797,824\n",
            "_________________________________________________________________\n"
          ]
        }
      ],
      "source": [
        "# Build model using TF Hub layer\n",
        "inputs = Input(shape=[], dtype=tf.string)\n",
        "pretrained_embedding = tf_hub_embedding_layer(inputs)\n",
        "x = Dense(128, activation=\"relu\")(pretrained_embedding)\n",
        "outputs = Dense(OUTPUT_SHAPE, activation=\"softmax\")(x)\n",
        "model_2 = Model(inputs, outputs)\n",
        "\n",
        "# Compile the model\n",
        "model_2.compile(loss=\"categorical_crossentropy\",\n",
        "                optimizer=tf.keras.optimizers.Adam(),\n",
        "                metrics = [\"accuracy\"])\n",
        "\n",
        "model_2.summary()"
      ]
    },
    {
      "cell_type": "code",
      "execution_count": null,
      "metadata": {
        "colab": {
          "base_uri": "https://localhost:8080/"
        },
        "id": "p4mWGsR4U2KE",
        "outputId": "abfd2b64-4424-495f-820c-7f9e5bf67213"
      },
      "outputs": [
        {
          "name": "stdout",
          "output_type": "stream",
          "text": [
            "Epoch 1/3\n",
            "562/562 [==============================] - 10s 14ms/step - loss: 0.9193 - accuracy: 0.6467 - val_loss: 0.7969 - val_accuracy: 0.6878\n",
            "Epoch 2/3\n",
            "562/562 [==============================] - 8s 14ms/step - loss: 0.7720 - accuracy: 0.7007 - val_loss: 0.7562 - val_accuracy: 0.7048\n",
            "Epoch 3/3\n",
            "562/562 [==============================] - 9s 16ms/step - loss: 0.7574 - accuracy: 0.7090 - val_loss: 0.7429 - val_accuracy: 0.7101\n"
          ]
        }
      ],
      "source": [
        "# Fit the model\n",
        "EPOCHS = 3\n",
        "hist_2 = model_2.fit(train_dataset, epochs = EPOCHS, steps_per_epoch=int(0.1*len(train_dataset)),\n",
        "                     validation_data=val_dataset, validation_steps=int(0.1*len(val_dataset)))"
      ]
    },
    {
      "cell_type": "code",
      "execution_count": null,
      "metadata": {
        "colab": {
          "base_uri": "https://localhost:8080/"
        },
        "id": "lLsJd00YVpjB",
        "outputId": "81b1cf51-150c-453d-c872-2355a82f82b3"
      },
      "outputs": [
        {
          "name": "stdout",
          "output_type": "stream",
          "text": [
            "945/945 [==============================] - 12s 12ms/step\n"
          ]
        },
        {
          "data": {
            "text/plain": [
              "{'accuracy': 0.7117701575532901,\n",
              " 'precision': 0.7118816954081416,\n",
              " 'recall': 0.7117701575532901,\n",
              " 'f1-score': 0.7088543939938126}"
            ]
          },
          "execution_count": 68,
          "metadata": {},
          "output_type": "execute_result"
        }
      ],
      "source": [
        "# Make predicitons\n",
        "model_2_pred_probs = model_2.predict(val_dataset)\n",
        "model_2_preds = tf.argmax(model_2_pred_probs, axis=1)\n",
        "model_2_results = calculate_results(val_labels, model_2_preds)\n",
        "model_2_results"
      ]
    },
    {
      "cell_type": "markdown",
      "metadata": {
        "id": "Ieh4qG7TWMbH"
      },
      "source": [
        "##2.3 Model 3: Conv1D with character embeddings"
      ]
    },
    {
      "cell_type": "markdown",
      "metadata": {
        "id": "FraDaPDWb-X1"
      },
      "source": [
        "###2.3.1 Create the character embeddings"
      ]
    },
    {
      "cell_type": "code",
      "execution_count": null,
      "metadata": {
        "id": "CzPPlPMBIjy0"
      },
      "outputs": [],
      "source": [
        "# Create a function split sentences into a characters\n",
        "def split_chars(text):\n",
        "  return \" \".join(list(text))"
      ]
    },
    {
      "cell_type": "code",
      "execution_count": null,
      "metadata": {
        "colab": {
          "base_uri": "https://localhost:8080/",
          "height": 88
        },
        "id": "ONPKmT_tJnva",
        "outputId": "42dcaab7-bb65-487e-f5b7-568e485ce2bc"
      },
      "outputs": [
        {
          "data": {
            "application/vnd.google.colaboratory.intrinsic+json": {
              "type": "string"
            },
            "text/plain": [
              "'s o m a t i c - t y p e   s y m p t o m s   (   i . e .   p a i n   ,   h e a v i n e s s   ,   s w e l l i n g   ,   u n a t t r a c t i v e   l e g s   )   w e r e   p r e s e n t   i n   t w o   ,   p s y c h i c - t y p e   s y m p t o m s   (   i . e .   l e g   -   a n d   p e r s o n a l i t y - r e l a t e d   u n r e s t   a n d   s t r e s s   )   i n   @   a n d   b o t h   c o m p o n e n t s   i n   s e v e n   o f   t h e   @   s u b j e c t s   .'"
            ]
          },
          "execution_count": 51,
          "metadata": {},
          "output_type": "execute_result"
        }
      ],
      "source": [
        "random.seed(66)\n",
        "random_sent = random.choice(train_sentences)\n",
        "random_sent\n",
        "split_chars(random_sent) "
      ]
    },
    {
      "cell_type": "code",
      "execution_count": null,
      "metadata": {
        "colab": {
          "base_uri": "https://localhost:8080/"
        },
        "id": "20eyoTDeKruq",
        "outputId": "ca0385c4-e7be-49ea-e8a4-73f1997421fb"
      },
      "outputs": [
        {
          "data": {
            "text/plain": [
              "(2211861, 28932, 29493)"
            ]
          },
          "execution_count": 52,
          "metadata": {},
          "output_type": "execute_result"
        }
      ],
      "source": [
        "# Turn our data into character-level data\n",
        "train_chars = [split_chars(sentence) for sentence in train_sentences]\n",
        "val_chars = [split_chars(sentence) for sentence in val_sentences]\n",
        "test_chars = [split_chars(sentence) for sentence in test_sentences]\n",
        "len(train_chars), len(val_chars), len(test_chars)"
      ]
    },
    {
      "cell_type": "code",
      "execution_count": null,
      "metadata": {
        "colab": {
          "base_uri": "https://localhost:8080/"
        },
        "id": "OE1BUTlDLJTP",
        "outputId": "99397ccd-7fed-4591-a71b-855165920666"
      },
      "outputs": [
        {
          "data": {
            "text/plain": [
              "147.82646377869133"
            ]
          },
          "execution_count": 53,
          "metadata": {},
          "output_type": "execute_result"
        }
      ],
      "source": [
        "# Calculate average of character length \n",
        "train_char_lens = [len(sentence) for sentence in train_sentences]\n",
        "np.mean(train_char_lens)"
      ]
    },
    {
      "cell_type": "code",
      "execution_count": null,
      "metadata": {
        "colab": {
          "base_uri": "https://localhost:8080/",
          "height": 445
        },
        "id": "EpO0Nb29MOuu",
        "outputId": "e4eb2f89-fb9c-4e26-9d6a-109caaa166a4"
      },
      "outputs": [
        {
          "data": {
            "image/png": "[encoded data removed]",
            "text/plain": [
              "<Figure size 640x480 with 1 Axes>"
            ]
          },
          "metadata": {},
          "output_type": "display_data"
        }
      ],
      "source": [
        "plt.hist(train_char_lens, bins = 15);"
      ]
    },
    {
      "cell_type": "code",
      "execution_count": null,
      "metadata": {
        "colab": {
          "base_uri": "https://localhost:8080/"
        },
        "id": "BfsnpPQkMWmK",
        "outputId": "02058aee-f975-49db-afbb-f8ac49be5b11"
      },
      "outputs": [
        {
          "data": {
            "text/plain": [
              "284"
            ]
          },
          "execution_count": 55,
          "metadata": {},
          "output_type": "execute_result"
        }
      ],
      "source": [
        "output_seq_char_len = int(np.percentile(train_char_lens, 95))\n",
        "output_seq_char_len"
      ]
    },
    {
      "cell_type": "code",
      "execution_count": null,
      "metadata": {
        "colab": {
          "base_uri": "https://localhost:8080/",
          "height": 36
        },
        "id": "S1EnMY0RNm9h",
        "outputId": "05e339e6-77ca-449d-c2cf-7ec4d2dd7513"
      },
      "outputs": [
        {
          "data": {
            "application/vnd.google.colaboratory.intrinsic+json": {
              "type": "string"
            },
            "text/plain": [
              "'abcdefghijklmnopqrstuvwxyz0123456789!\"#$%&\\'()*+,-./:;<=>?@[\\\\]^_`{|}~'"
            ]
          },
          "execution_count": 56,
          "metadata": {},
          "output_type": "execute_result"
        }
      ],
      "source": [
        "import string\n",
        "alphabet = string.ascii_lowercase + string.digits + string.punctuation\n",
        "alphabet"
      ]
    },
    {
      "cell_type": "code",
      "execution_count": null,
      "metadata": {
        "id": "Rry66TnMO5Q-"
      },
      "outputs": [],
      "source": [
        "# Create a character vecterizer\n",
        "NUM_CHAR_TOKENS = len(alphabet) + 2 # for space and ['UKN']\n",
        "char_vectorizer = TextVectorization(max_tokens=NUM_CHAR_TOKENS,\n",
        "                                    output_sequence_length=output_seq_char_len\n",
        "                                    )"
      ]
    },
    {
      "cell_type": "code",
      "execution_count": null,
      "metadata": {
        "id": "wDmPTqFnPrMT"
      },
      "outputs": [],
      "source": [
        "# Adapt character vecterizer for training data\n",
        "train_char_size = int(0.4*len(train_sentences))\n",
        "train_char_samples = train_sentences[:train_char_size]\n",
        "char_vectorizer.adapt(train_char_samples)"
      ]
    },
    {
      "cell_type": "code",
      "execution_count": null,
      "metadata": {
        "colab": {
          "base_uri": "https://localhost:8080/"
        },
        "id": "Ms5PvYTzQErT",
        "outputId": "2cbe30b6-b922-41d5-f4ee-ae3f431a93c8"
      },
      "outputs": [
        {
          "name": "stdout",
          "output_type": "stream",
          "text": [
            "['', '[UNK]', 'the', 'of', 'and', 'in', 'to', 'with', 'a', 'were', 'was', 'patients', 'for', 'group', 'p', 'or', 'at', 'treatment', 'on', 'study', 'after', 'by', 'is', 'groups', 'this', 'as', 'that', 'not', 'no', 'from', 'an', 'randomized', 'between', 'significant', 'significantly', 'compared', 'than', 'placebo', 'control', 'be', 'n', 'trial', 'months', 'mg', 'during', 'two', 'had', 'both', 'clinical', 'mean', 'vs', 'there', 'therapy', 'baseline', 'we', 'weeks', 'all', 'intervention', 'effects', 'more', 'time', 'pain', 'who', 'effect', 'years', 'but', 'are', 'using', 'rate', 'days']\n"
          ]
        }
      ],
      "source": [
        "char_vocab = char_vectorizer.get_vocabulary()\n",
        "print(char_vocab)"
      ]
    },
    {
      "cell_type": "code",
      "execution_count": null,
      "metadata": {
        "colab": {
          "base_uri": "https://localhost:8080/"
        },
        "id": "tW9iiWqXQQqm",
        "outputId": "29e6aaa5-03e4-433b-f136-9f6c3eb3e575"
      },
      "outputs": [
        {
          "data": {
            "text/plain": [
              "(<tf.Tensor: shape=(284,), dtype=int64, numpy=\n",
              " array([ 1,  1,  8, 40,  1, 40,  1,  1,  1,  1, 40,  1,  8,  1,  1,  1,  1,\n",
              "         1,  1,  1, 40,  1,  1,  1,  1,  1,  1,  1,  1,  1, 14,  1,  1,  1,\n",
              "        40,  1, 40,  1,  1,  1,  1,  1,  1,  1,  1,  1,  1,  1,  8,  1,  1,\n",
              "         1,  1,  1,  8,  1,  1,  8, 40,  1,  1,  1,  1,  1,  8,  1,  1,  1,\n",
              "         1, 40,  1,  1,  1,  1,  1,  1,  1,  1,  1,  1,  1,  1,  1,  1,  1,\n",
              "         1,  1,  1, 40,  1,  8,  1,  1,  1,  1,  8, 40,  8,  1,  1,  1,  1,\n",
              "         1,  1,  1, 14,  1,  8,  1,  1,  1,  1,  0,  0,  0,  0,  0,  0,  0,\n",
              "         0,  0,  0,  0,  0,  0,  0,  0,  0,  0,  0,  0,  0,  0,  0,  0,  0,\n",
              "         0,  0,  0,  0,  0,  0,  0,  0,  0,  0,  0,  0,  0,  0,  0,  0,  0,\n",
              "         0,  0,  0,  0,  0,  0,  0,  0,  0,  0,  0,  0,  0,  0,  0,  0,  0,\n",
              "         0,  0,  0,  0,  0,  0,  0,  0,  0,  0,  0,  0,  0,  0,  0,  0,  0,\n",
              "         0,  0,  0,  0,  0,  0,  0,  0,  0,  0,  0,  0,  0,  0,  0,  0,  0,\n",
              "         0,  0,  0,  0,  0,  0,  0,  0,  0,  0,  0,  0,  0,  0,  0,  0,  0,\n",
              "         0,  0,  0,  0,  0,  0,  0,  0,  0,  0,  0,  0,  0,  0,  0,  0,  0,\n",
              "         0,  0,  0,  0,  0,  0,  0,  0,  0,  0,  0,  0,  0,  0,  0,  0,  0,\n",
              "         0,  0,  0,  0,  0,  0,  0,  0,  0,  0,  0,  0,  0,  0,  0,  0,  0,\n",
              "         0,  0,  0,  0,  0,  0,  0,  0,  0,  0,  0,  0])>,\n",
              " 284)"
            ]
          },
          "execution_count": 60,
          "metadata": {},
          "output_type": "execute_result"
        }
      ],
      "source": [
        "random_train_char = random.choice(train_chars)\n",
        "char_vectorizer(random_train_char), len(char_vectorizer(random_train_char))"
      ]
    },
    {
      "cell_type": "code",
      "execution_count": null,
      "metadata": {
        "id": "-wu9k0bfRoKm"
      },
      "outputs": [],
      "source": [
        "# Create a character embedding layer\n",
        "char_embed = layers.Embedding(input_dim=len(char_vocab),\n",
        "                               output_dim=25,\n",
        "                               mask_zero=True)"
      ]
    },
    {
      "cell_type": "code",
      "execution_count": null,
      "metadata": {
        "colab": {
          "base_uri": "https://localhost:8080/"
        },
        "id": "F0N186enfCSJ",
        "outputId": "de6aef72-0ef4-42c8-b238-f35d3ad49a28"
      },
      "outputs": [
        {
          "data": {
            "text/plain": [
              "(TensorShape([1, 284, 25]),\n",
              " <tf.Tensor: shape=(1, 284, 25), dtype=float32, numpy=\n",
              " array([[[ 0.02107743, -0.03810956, -0.01610051, ...,  0.02415358,\n",
              "           0.02659282,  0.04160645],\n",
              "         [ 0.02107743, -0.03810956, -0.01610051, ...,  0.02415358,\n",
              "           0.02659282,  0.04160645],\n",
              "         [-0.01288788,  0.02787746, -0.0081826 , ..., -0.00024718,\n",
              "           0.03833826,  0.02730315],\n",
              "         ...,\n",
              "         [ 0.04013929,  0.01107813,  0.0169828 , ...,  0.04829339,\n",
              "           0.03702415, -0.03775672],\n",
              "         [ 0.04013929,  0.01107813,  0.0169828 , ...,  0.04829339,\n",
              "           0.03702415, -0.03775672],\n",
              "         [ 0.04013929,  0.01107813,  0.0169828 , ...,  0.04829339,\n",
              "           0.03702415, -0.03775672]]], dtype=float32)>)"
            ]
          },
          "execution_count": 62,
          "metadata": {},
          "output_type": "execute_result"
        }
      ],
      "source": [
        "char_embed_example = char_embed(char_vectorizer([random_train_char]))\n",
        "char_embed_example.shape, char_embed_example"
      ]
    },
    {
      "cell_type": "code",
      "execution_count": null,
      "metadata": {
        "id": "z_jNpGRkhUN9"
      },
      "outputs": [],
      "source": [
        "# Create a functiom to create a character dataset\n",
        "def create_char_dataset(chars, labels, batch_size):\n",
        "  dataset = tf.data.Dataset.from_tensor_slices((chars, labels)).batch(BATCH_SIZE).prefetch(tf.data.AUTOTUNE)\n",
        "\n",
        "  return dataset"
      ]
    },
    {
      "cell_type": "code",
      "execution_count": null,
      "metadata": {
        "colab": {
          "base_uri": "https://localhost:8080/"
        },
        "id": "duErSsitkmnt",
        "outputId": "13f62c23-e273-4b89-b509-e98744b7ea52"
      },
      "outputs": [
        {
          "data": {
            "text/plain": [
              "(5627, 945)"
            ]
          },
          "execution_count": 83,
          "metadata": {},
          "output_type": "execute_result"
        }
      ],
      "source": [
        "# Create the character datasets\n",
        "BATCH_SIZE = 32\n",
        "train_char_dataset = create_char_dataset(chars=train_chars, labels=train_labels_oh, batch_size=BATCH_SIZE)\n",
        "val_char_dataset = create_char_dataset(chars=val_chars, labels=val_labels_oh, batch_size=BATCH_SIZE)\n",
        "len(train_char_dataset), len(val_char_dataset)"
      ]
    },
    {
      "cell_type": "code",
      "execution_count": null,
      "metadata": {
        "colab": {
          "base_uri": "https://localhost:8080/"
        },
        "id": "wznAyhmdlVsU",
        "outputId": "8e57466c-7255-4f98-ea9b-bebf9effd4a2"
      },
      "outputs": [
        {
          "data": {
            "text/plain": [
              "(5627, 945, 942)"
            ]
          },
          "execution_count": 84,
          "metadata": {},
          "output_type": "execute_result"
        }
      ],
      "source": [
        "# # Create the character datasets\n",
        "# train_char_dataset = tf.data.Dataset.from_tensor_slices((train_chars, train_labels_oh)).batch(32).prefetch(tf.data.AUTOTUNE)\n",
        "# val_char_dataset = tf.data.Dataset.from_tensor_slices((val_chars, val_labels_oh)).batch(32).prefetch(tf.data.AUTOTUNE)\n",
        "# test_char_dataset = tf.data.Dataset.from_tensor_slices((test_chars, test_labels_oh)).batch(32).prefetch(tf.data.AUTOTUNE)\n",
        "# len(train_char_dataset), len(val_char_dataset), len(test_char_dataset)"
      ]
    },
    {
      "cell_type": "code",
      "execution_count": null,
      "metadata": {
        "colab": {
          "base_uri": "https://localhost:8080/"
        },
        "id": "qnK40Yd3lWAZ",
        "outputId": "6de55be7-322a-470a-8760-740e7160b7e7"
      },
      "outputs": [
        {
          "data": {
            "text/plain": [
              "<_PrefetchDataset element_spec=(TensorSpec(shape=(None,), dtype=tf.string, name=None), TensorSpec(shape=(None, 5), dtype=tf.float64, name=None))>"
            ]
          },
          "execution_count": 85,
          "metadata": {},
          "output_type": "execute_result"
        }
      ],
      "source": [
        "train_char_dataset"
      ]
    },
    {
      "cell_type": "markdown",
      "metadata": {
        "id": "SHWW5R4Ub7En"
      },
      "source": [
        "###2.3.2 Build a model"
      ]
    },
    {
      "cell_type": "code",
      "execution_count": null,
      "metadata": {
        "colab": {
          "base_uri": "https://localhost:8080/"
        },
        "id": "NUnbnn54gVty",
        "outputId": "1a04f11a-46b8-446b-b291-a55b400afbc4"
      },
      "outputs": [
        {
          "name": "stdout",
          "output_type": "stream",
          "text": [
            "Model: \"model_2\"\n",
            "_________________________________________________________________\n",
            " Layer (type)                Output Shape              Param #   \n",
            "=================================================================\n",
            " input_3 (InputLayer)        [(None, 1)]               0         \n",
            "                                                                 \n",
            " text_vectorization_1 (TextV  (None, 290)              0         \n",
            " ectorization)                                                   \n",
            "                                                                 \n",
            " embedding_1 (Embedding)     (None, 290, 25)           700       \n",
            "                                                                 \n",
            " conv1d_1 (Conv1D)           (None, 290, 64)           8064      \n",
            "                                                                 \n",
            " global_max_pooling1d_1 (Glo  (None, 64)               0         \n",
            " balMaxPooling1D)                                                \n",
            "                                                                 \n",
            " dense_3 (Dense)             (None, 5)                 325       \n",
            "                                                                 \n",
            "=================================================================\n",
            "Total params: 9,089\n",
            "Trainable params: 9,089\n",
            "Non-trainable params: 0\n",
            "_________________________________________________________________\n"
          ]
        }
      ],
      "source": [
        "INPUT_SHAPE = (1,)\n",
        "OUTPUT_SHAPE = 5\n",
        "inputs = layers.Input(shape=INPUT_SHAPE, dtype=tf.string)\n",
        "char_vectors = char_vectorizer(inputs)\n",
        "char_embeddings = char_embed(char_vectors)\n",
        "x = Conv1D(64, kernel_size=5, padding=\"same\", activation=\"relu\")(char_embeddings)\n",
        "x = GlobalMaxPooling1D()(x)\n",
        "outputs = Dense(OUTPUT_SHAPE, activation=\"softmax\")(x)\n",
        "model_3 = Model(inputs, outputs)\n",
        "\n",
        "# Compile the model\n",
        "model_3.compile(loss = \"categorical_crossentropy\",\n",
        "                optimizer = Adam(),\n",
        "                metrics = [\"accuracy\"])          \n",
        "\n",
        "model_3.summary()"
      ]
    },
    {
      "cell_type": "code",
      "execution_count": null,
      "metadata": {
        "colab": {
          "base_uri": "https://localhost:8080/"
        },
        "id": "afRv5NhIjz0n",
        "outputId": "59d17b52-ec4e-4554-bc92-0b61a19f3b03"
      },
      "outputs": [
        {
          "name": "stdout",
          "output_type": "stream",
          "text": [
            "Epoch 1/5\n",
            "562/562 [==============================] - 6s 8ms/step - loss: 1.2444 - accuracy: 0.4907 - val_loss: 1.0429 - val_accuracy: 0.5738\n",
            "Epoch 2/5\n",
            "562/562 [==============================] - 3s 5ms/step - loss: 1.0120 - accuracy: 0.5950 - val_loss: 0.9457 - val_accuracy: 0.6300\n",
            "Epoch 3/5\n",
            "562/562 [==============================] - 3s 5ms/step - loss: 0.9304 - accuracy: 0.6331 - val_loss: 0.8681 - val_accuracy: 0.6712\n",
            "Epoch 4/5\n",
            "562/562 [==============================] - 3s 5ms/step - loss: 0.8736 - accuracy: 0.6617 - val_loss: 0.8371 - val_accuracy: 0.6789\n",
            "Epoch 5/5\n",
            "562/562 [==============================] - 4s 6ms/step - loss: 0.8533 - accuracy: 0.6669 - val_loss: 0.8100 - val_accuracy: 0.6938\n"
          ]
        }
      ],
      "source": [
        "EPOCHS = 5\n",
        "hist_3 = model_3.fit(train_char_dataset, steps_per_epoch=int(0.1*len(train_char_dataset)), epochs = EPOCHS,\n",
        "                     validation_data=val_char_dataset, validation_steps=int(0.1*len(val_char_dataset)))"
      ]
    },
    {
      "cell_type": "code",
      "execution_count": null,
      "metadata": {
        "colab": {
          "base_uri": "https://localhost:8080/"
        },
        "id": "WIgcRXLhnEGi",
        "outputId": "2b5fddd5-1290-4e4d-85af-75e0a772cefb"
      },
      "outputs": [
        {
          "name": "stdout",
          "output_type": "stream",
          "text": [
            "945/945 [==============================] - 2s 2ms/step\n"
          ]
        },
        {
          "data": {
            "text/plain": [
              "{'accuracy': 0.6792665166159142,\n",
              " 'precision': 0.6844614153677404,\n",
              " 'recall': 0.6792665166159142,\n",
              " 'f1-score': 0.6753520847073154}"
            ]
          },
          "execution_count": 88,
          "metadata": {},
          "output_type": "execute_result"
        }
      ],
      "source": [
        "# Make predicitons\n",
        "model_3_pred_probs = model_3.predict(val_char_dataset)\n",
        "model_3_preds = tf.argmax(model_3_pred_probs, axis=1)\n",
        "model_3_results = calculate_results(val_labels, model_3_preds)\n",
        "model_3_results"
      ]
    },
    {
      "cell_type": "markdown",
      "metadata": {
        "id": "7NSDWmi3n1Fk"
      },
      "source": [
        "##2.4 Model 4: Combining pretrained token embeddings + characters embeddings"
      ]
    },
    {
      "cell_type": "code",
      "execution_count": null,
      "metadata": {
        "id": "Drz4IFRypk4X"
      },
      "outputs": [],
      "source": [
        "# Setup a token model\n",
        "OUTPUT_SHAPE = 5\n",
        "token_inputs = Input(shape=[], dtype=tf.string)\n",
        "token_embeddings = tf_hub_embedding_layer(token_inputs)\n",
        "token_outputs = Dense(128, activation=\"relu\")(token_embeddings)\n",
        "token_model = Model(token_inputs, token_outputs)\n",
        "\n",
        "# Setup character model\n",
        "char_inputs = Input(shape=(1), dtype=tf.string)\n",
        "char_vectors = char_vectorizer(char_inputs)\n",
        "char_embeddings = char_embed(char_vectors)\n",
        "char_bi_lstm = layers.Bidirectional(layers.LSTM(24))(char_embeddings)\n",
        "char_model = Model(char_inputs, char_bi_lstm)\n",
        "\n",
        "# Concatenate token and char models\n",
        "token_char_concat = Concatenate(name=\"token_char_model\")([token_model.output, char_model.output])\n",
        "\n",
        "# Adding Dropout layer and output layer\n",
        "x = Dropout(0.5)(token_char_concat)\n",
        "x = Dense(128, activation=\"relu\")(x)\n",
        "x = Dropout(0.5)(x)\n",
        "outputs = Dense(OUTPUT_SHAPE, activation=\"softmax\")(x)\n",
        "\n",
        "model_4 = Model(inputs=[token_model.input, char_model.input],\n",
        "                outputs=outputs)"
      ]
    },
    {
      "cell_type": "code",
      "execution_count": null,
      "metadata": {
        "colab": {
          "base_uri": "https://localhost:8080/"
        },
        "id": "MuMjBjgz3KGv",
        "outputId": "ad7d34a1-90fa-49ad-deea-ec96148518b8"
      },
      "outputs": [
        {
          "name": "stdout",
          "output_type": "stream",
          "text": [
            "Model: \"model_5\"\n",
            "__________________________________________________________________________________________________\n",
            " Layer (type)                   Output Shape         Param #     Connected to                     \n",
            "==================================================================================================\n",
            " input_5 (InputLayer)           [(None, 1)]          0           []                               \n",
            "                                                                                                  \n",
            " input_4 (InputLayer)           [(None,)]            0           []                               \n",
            "                                                                                                  \n",
            " text_vectorization_1 (TextVect  (None, 290)         0           ['input_5[0][0]']                \n",
            " orization)                                                                                       \n",
            "                                                                                                  \n",
            " keras_layer (KerasLayer)       (None, 512)          256797824   ['input_4[0][0]']                \n",
            "                                                                                                  \n",
            " embedding_1 (Embedding)        (None, 290, 25)      700         ['text_vectorization_1[1][0]']   \n",
            "                                                                                                  \n",
            " dense_4 (Dense)                (None, 128)          65664       ['keras_layer[1][0]']            \n",
            "                                                                                                  \n",
            " bidirectional (Bidirectional)  (None, 48)           9600        ['embedding_1[1][0]']            \n",
            "                                                                                                  \n",
            " token_char_model (Concatenate)  (None, 176)         0           ['dense_4[0][0]',                \n",
            "                                                                  'bidirectional[0][0]']          \n",
            "                                                                                                  \n",
            " dropout (Dropout)              (None, 176)          0           ['token_char_model[0][0]']       \n",
            "                                                                                                  \n",
            " dense_5 (Dense)                (None, 128)          22656       ['dropout[0][0]']                \n",
            "                                                                                                  \n",
            " dropout_1 (Dropout)            (None, 128)          0           ['dense_5[0][0]']                \n",
            "                                                                                                  \n",
            " dense_6 (Dense)                (None, 5)            645         ['dropout_1[0][0]']              \n",
            "                                                                                                  \n",
            "==================================================================================================\n",
            "Total params: 256,897,089\n",
            "Trainable params: 99,265\n",
            "Non-trainable params: 256,797,824\n",
            "__________________________________________________________________________________________________\n"
          ]
        }
      ],
      "source": [
        "model_4.summary()"
      ]
    },
    {
      "cell_type": "code",
      "execution_count": null,
      "metadata": {
        "colab": {
          "base_uri": "https://localhost:8080/",
          "height": 856
        },
        "id": "-AU0TVPe32u3",
        "outputId": "6592430b-9693-4004-cd6c-a2d8472b62c4"
      },
      "outputs": [
        {
          "data": {
            "image/png": "[encoded data removed]",
            "text/plain": [
              "<IPython.core.display.Image object>"
            ]
          },
          "execution_count": 91,
          "metadata": {},
          "output_type": "execute_result"
        }
      ],
      "source": [
        "# Plot model\n",
        "plot_model(model_4)"
      ]
    },
    {
      "cell_type": "code",
      "execution_count": null,
      "metadata": {
        "id": "y3_i-BRqdkIW"
      },
      "outputs": [],
      "source": [
        "# Compile the model\n",
        "model_4.compile(loss = \"categorical_crossentropy\",\n",
        "                optimizer = Adam(),\n",
        "                metrics = [\"accuracy\"])   "
      ]
    },
    {
      "cell_type": "code",
      "execution_count": null,
      "metadata": {
        "id": "6bktOk1uhvo9"
      },
      "outputs": [],
      "source": [
        "# Create a function to get char-token dataset\n",
        "def create_char_token_dataset(sentences, chars, labels, batch_size):\n",
        "  char_token_data = tf.data.Dataset.from_tensor_slices((sentences, chars))\n",
        "  char_token_labels = tf.data.Dataset.from_tensor_slices(labels)\n",
        "  char_token_dataset = tf.data.Dataset.zip((char_token_data, char_token_labels)).batch(batch_size).prefetch(tf.data.AUTOTUNE)\n",
        "\n",
        "  return char_token_dataset"
      ]
    },
    {
      "cell_type": "code",
      "execution_count": null,
      "metadata": {
        "id": "hwzPbXOpmGns"
      },
      "outputs": [],
      "source": [
        "# Create the char-token datasets\n",
        "BATCH_SIZE = 32\n",
        "train_char_token_dataset = create_char_token_dataset(sentences=train_sentences, chars=train_chars, labels=train_labels_oh, batch_size=BATCH_SIZE)\n",
        "val_char_token_dataset = create_char_token_dataset(sentences=val_sentences, chars=val_chars, labels=val_labels_oh, batch_size=BATCH_SIZE)"
      ]
    },
    {
      "cell_type": "code",
      "execution_count": null,
      "metadata": {
        "colab": {
          "base_uri": "https://localhost:8080/"
        },
        "id": "ftFNNcGPm4OI",
        "outputId": "df3268e5-02eb-4fad-e75f-b094c243da2f"
      },
      "outputs": [
        {
          "data": {
            "text/plain": [
              "(<_PrefetchDataset element_spec=((TensorSpec(shape=(None,), dtype=tf.string, name=None), TensorSpec(shape=(None,), dtype=tf.string, name=None)), TensorSpec(shape=(None, 5), dtype=tf.float64, name=None))>,\n",
              " <_PrefetchDataset element_spec=((TensorSpec(shape=(None,), dtype=tf.string, name=None), TensorSpec(shape=(None,), dtype=tf.string, name=None)), TensorSpec(shape=(None, 5), dtype=tf.float64, name=None))>)"
            ]
          },
          "execution_count": 95,
          "metadata": {},
          "output_type": "execute_result"
        }
      ],
      "source": [
        "train_char_token_dataset, val_char_token_dataset"
      ]
    },
    {
      "cell_type": "code",
      "execution_count": null,
      "metadata": {
        "id": "94rwZtKQfDvD"
      },
      "outputs": [],
      "source": [
        "# # Create the datasets\n",
        "# train_char_token_data = tf.data.Dataset.from_tensor_slices((train_sentences, train_chars))\n",
        "# train_char_token_labels = tf.data.Dataset.from_tensor_slices(train_labels_oh)\n",
        "# train_char_token_dataset = tf.data.Dataset.zip((train_char_token_data, train_char_token_labels)).batch(32).prefetch(tf.data.AUTOTUNE)\n",
        "\n",
        "# val_char_token_data = tf.data.Dataset.from_tensor_slices((val_sentences, val_chars))\n",
        "# val_char_token_labels = tf.data.Dataset.from_tensor_slices(val_labels_oh)\n",
        "# val_char_token_dataset = tf.data.Dataset.zip((val_char_token_data, val_char_token_labels)).batch(32).prefetch(tf.data.AUTOTUNE)"
      ]
    },
    {
      "cell_type": "code",
      "execution_count": null,
      "metadata": {
        "colab": {
          "base_uri": "https://localhost:8080/"
        },
        "id": "_91Ee1rBiWRk",
        "outputId": "7722d0e8-29f3-47c5-934d-3bb3edc3e9a2"
      },
      "outputs": [
        {
          "name": "stdout",
          "output_type": "stream",
          "text": [
            "Epoch 1/4\n",
            "1125/1125 [==============================] - 70s 52ms/step - loss: 0.8869 - accuracy: 0.6532 - val_loss: 0.7179 - val_accuracy: 0.7260\n",
            "Epoch 2/4\n",
            "1125/1125 [==============================] - 56s 49ms/step - loss: 0.7574 - accuracy: 0.7141 - val_loss: 0.6708 - val_accuracy: 0.7500\n",
            "Epoch 3/4\n",
            "1125/1125 [==============================] - 55s 49ms/step - loss: 0.7415 - accuracy: 0.7195 - val_loss: 0.6426 - val_accuracy: 0.7566\n",
            "Epoch 4/4\n",
            "1125/1125 [==============================] - 58s 52ms/step - loss: 0.7047 - accuracy: 0.7343 - val_loss: 0.6271 - val_accuracy: 0.7639\n"
          ]
        }
      ],
      "source": [
        "# Fit model\n",
        "EPOCHS = 4\n",
        "hist_4 = model_4.fit(train_char_token_dataset, epochs = EPOCHS, steps_per_epoch=int(0.2*len(train_char_token_dataset)),\n",
        "                     validation_data=val_char_token_dataset, validation_steps=int(0.2*len(val_char_token_dataset)))"
      ]
    },
    {
      "cell_type": "code",
      "execution_count": null,
      "metadata": {
        "colab": {
          "base_uri": "https://localhost:8080/"
        },
        "id": "njgjT1zEagUq",
        "outputId": "e5e2f3ff-6586-4d20-aa91-93877e8dd86f"
      },
      "outputs": [
        {
          "name": "stdout",
          "output_type": "stream",
          "text": [
            "945/945 [==============================] - 22s 20ms/step\n"
          ]
        },
        {
          "data": {
            "text/plain": [
              "{'accuracy': 0.7613200052959089,\n",
              " 'precision': 0.7582691535752631,\n",
              " 'recall': 0.7613200052959089,\n",
              " 'f1-score': 0.7571185963557757}"
            ]
          },
          "execution_count": 99,
          "metadata": {},
          "output_type": "execute_result"
        }
      ],
      "source": [
        "# Make predicitons\n",
        "model_4_pred_probs = model_4.predict(val_char_token_dataset)\n",
        "model_4_preds = tf.argmax(model_4_pred_probs, axis=1)\n",
        "model_4_results = calculate_results(val_labels, model_4_preds)\n",
        "model_4_results"
      ]
    },
    {
      "cell_type": "markdown",
      "metadata": {
        "id": "rejXcOVfbB9Y"
      },
      "source": [
        "##2.5 Model_5: Tranfer learning with pretrained token embeddings + character embeddings + positional embeddings"
      ]
    },
    {
      "cell_type": "markdown",
      "metadata": {
        "id": "dCP0EsSHj5sr"
      },
      "source": [
        "###2.5.1 Create positional embeddings"
      ]
    },
    {
      "cell_type": "code",
      "execution_count": null,
      "metadata": {
        "colab": {
          "base_uri": "https://localhost:8080/",
          "height": 363
        },
        "id": "qOSs2ahp7mR6",
        "outputId": "be5fe974-e820-4c08-ecc7-42a37ca87f06"
      },
      "outputs": [
        {
          "data": {
            "text/html": [
              "\n",
              "  <div id=\"df-cc306f38-7df6-4ae2-ba8f-6cdf8bd24912\">\n",
              "    <div class=\"colab-df-container\">\n",
              "      <div>\n",
              "<style scoped>\n",
              "    .dataframe tbody tr th:only-of-type {\n",
              "        vertical-align: middle;\n",
              "    }\n",
              "\n",
              "    .dataframe tbody tr th {\n",
              "        vertical-align: top;\n",
              "    }\n",
              "\n",
              "    .dataframe thead th {\n",
              "        text-align: right;\n",
              "    }\n",
              "</style>\n",
              "<table border=\"1\" class=\"dataframe\">\n",
              "  <thead>\n",
              "    <tr style=\"text-align: right;\">\n",
              "      <th></th>\n",
              "      <th>line_number</th>\n",
              "      <th>target</th>\n",
              "      <th>text</th>\n",
              "      <th>total_lines</th>\n",
              "    </tr>\n",
              "  </thead>\n",
              "  <tbody>\n",
              "    <tr>\n",
              "      <th>0</th>\n",
              "      <td>0</td>\n",
              "      <td>BACKGROUND</td>\n",
              "      <td>the emergence of hiv as a chronic condition me...</td>\n",
              "      <td>10</td>\n",
              "    </tr>\n",
              "    <tr>\n",
              "      <th>1</th>\n",
              "      <td>1</td>\n",
              "      <td>BACKGROUND</td>\n",
              "      <td>this paper describes the design and evaluation...</td>\n",
              "      <td>10</td>\n",
              "    </tr>\n",
              "    <tr>\n",
              "      <th>2</th>\n",
              "      <td>2</td>\n",
              "      <td>METHODS</td>\n",
              "      <td>this study is designed as a randomised control...</td>\n",
              "      <td>10</td>\n",
              "    </tr>\n",
              "    <tr>\n",
              "      <th>3</th>\n",
              "      <td>3</td>\n",
              "      <td>METHODS</td>\n",
              "      <td>the intervention group will participate in the...</td>\n",
              "      <td>10</td>\n",
              "    </tr>\n",
              "    <tr>\n",
              "      <th>4</th>\n",
              "      <td>4</td>\n",
              "      <td>METHODS</td>\n",
              "      <td>the program is based on self-efficacy theory a...</td>\n",
              "      <td>10</td>\n",
              "    </tr>\n",
              "    <tr>\n",
              "      <th>5</th>\n",
              "      <td>5</td>\n",
              "      <td>METHODS</td>\n",
              "      <td>participants will access the program for a min...</td>\n",
              "      <td>10</td>\n",
              "    </tr>\n",
              "    <tr>\n",
              "      <th>6</th>\n",
              "      <td>6</td>\n",
              "      <td>METHODS</td>\n",
              "      <td>primary outcomes are domain specific self-effi...</td>\n",
              "      <td>10</td>\n",
              "    </tr>\n",
              "    <tr>\n",
              "      <th>7</th>\n",
              "      <td>7</td>\n",
              "      <td>METHODS</td>\n",
              "      <td>secondary outcomes include : depression , anxi...</td>\n",
              "      <td>10</td>\n",
              "    </tr>\n",
              "    <tr>\n",
              "      <th>8</th>\n",
              "      <td>8</td>\n",
              "      <td>METHODS</td>\n",
              "      <td>data collection will take place at baseline , ...</td>\n",
              "      <td>10</td>\n",
              "    </tr>\n",
              "    <tr>\n",
              "      <th>9</th>\n",
              "      <td>9</td>\n",
              "      <td>CONCLUSIONS</td>\n",
              "      <td>results of the positive outlook study will pro...</td>\n",
              "      <td>10</td>\n",
              "    </tr>\n",
              "  </tbody>\n",
              "</table>\n",
              "</div>\n",
              "      <button class=\"colab-df-convert\" onclick=\"convertToInteractive('df-cc306f38-7df6-4ae2-ba8f-6cdf8bd24912')\"\n",
              "              title=\"Convert this dataframe to an interactive table.\"\n",
              "              style=\"display:none;\">\n",
              "        \n",
              "  <svg xmlns=\"http://www.w3.org/2000/svg\" height=\"24px\"viewBox=\"0 0 24 24\"\n",
              "       width=\"24px\">\n",
              "    <path d=\"M0 0h24v24H0V0z\" fill=\"none\"/>\n",
              "    <path d=\"M18.56 5.44l.94 2.06.94-2.06 2.06-.94-2.06-.94-.94-2.06-.94 2.06-2.06.94zm-11 1L8.5 8.5l.94-2.06 2.06-.94-2.06-.94L8.5 2.5l-.94 2.06-2.06.94zm10 10l.94 2.06.94-2.06 2.06-.94-2.06-.94-.94-2.06-.94 2.06-2.06.94z\"/><path d=\"M17.41 7.96l-1.37-1.37c-.4-.4-.92-.59-1.43-.59-.52 0-1.04.2-1.43.59L10.3 9.45l-7.72 7.72c-.78.78-.78 2.05 0 2.83L4 21.41c.39.39.9.59 1.41.59.51 0 1.02-.2 1.41-.59l7.78-7.78 2.81-2.81c.8-.78.8-2.07 0-2.86zM5.41 20L4 18.59l7.72-7.72 1.47 1.35L5.41 20z\"/>\n",
              "  </svg>\n",
              "      </button>\n",
              "      \n",
              "  <style>\n",
              "    .colab-df-container {\n",
              "      display:flex;\n",
              "      flex-wrap:wrap;\n",
              "      gap: 12px;\n",
              "    }\n",
              "\n",
              "    .colab-df-convert {\n",
              "      background-color: #E8F0FE;\n",
              "      border: none;\n",
              "      border-radius: 50%;\n",
              "      cursor: pointer;\n",
              "      display: none;\n",
              "      fill: #1967D2;\n",
              "      height: 32px;\n",
              "      padding: 0 0 0 0;\n",
              "      width: 32px;\n",
              "    }\n",
              "\n",
              "    .colab-df-convert:hover {\n",
              "      background-color: #E2EBFA;\n",
              "      box-shadow: 0px 1px 2px rgba(60, 64, 67, 0.3), 0px 1px 3px 1px rgba(60, 64, 67, 0.15);\n",
              "      fill: #174EA6;\n",
              "    }\n",
              "\n",
              "    [theme=dark] .colab-df-convert {\n",
              "      background-color: #3B4455;\n",
              "      fill: #D2E3FC;\n",
              "    }\n",
              "\n",
              "    [theme=dark] .colab-df-convert:hover {\n",
              "      background-color: #434B5C;\n",
              "      box-shadow: 0px 1px 3px 1px rgba(0, 0, 0, 0.15);\n",
              "      filter: drop-shadow(0px 1px 2px rgba(0, 0, 0, 0.3));\n",
              "      fill: #FFFFFF;\n",
              "    }\n",
              "  </style>\n",
              "\n",
              "      <script>\n",
              "        const buttonEl =\n",
              "          document.querySelector('#df-cc306f38-7df6-4ae2-ba8f-6cdf8bd24912 button.colab-df-convert');\n",
              "        buttonEl.style.display =\n",
              "          google.colab.kernel.accessAllowed ? 'block' : 'none';\n",
              "\n",
              "        async function convertToInteractive(key) {\n",
              "          const element = document.querySelector('#df-cc306f38-7df6-4ae2-ba8f-6cdf8bd24912');\n",
              "          const dataTable =\n",
              "            await google.colab.kernel.invokeFunction('convertToInteractive',\n",
              "                                                     [key], {});\n",
              "          if (!dataTable) return;\n",
              "\n",
              "          const docLinkHtml = 'Like what you see? Visit the ' +\n",
              "            '<a target=\"_blank\" href=https://colab.research.google.com/notebooks/data_table.ipynb>data table notebook</a>'\n",
              "            + ' to learn more about interactive tables.';\n",
              "          element.innerHTML = '';\n",
              "          dataTable['output_type'] = 'display_data';\n",
              "          await google.colab.output.renderOutput(dataTable, element);\n",
              "          const docLink = document.createElement('div');\n",
              "          docLink.innerHTML = docLinkHtml;\n",
              "          element.appendChild(docLink);\n",
              "        }\n",
              "      </script>\n",
              "    </div>\n",
              "  </div>\n",
              "  "
            ],
            "text/plain": [
              "   line_number       target  \\\n",
              "0            0   BACKGROUND   \n",
              "1            1   BACKGROUND   \n",
              "2            2      METHODS   \n",
              "3            3      METHODS   \n",
              "4            4      METHODS   \n",
              "5            5      METHODS   \n",
              "6            6      METHODS   \n",
              "7            7      METHODS   \n",
              "8            8      METHODS   \n",
              "9            9  CONCLUSIONS   \n",
              "\n",
              "                                                text  total_lines  \n",
              "0  the emergence of hiv as a chronic condition me...           10  \n",
              "1  this paper describes the design and evaluation...           10  \n",
              "2  this study is designed as a randomised control...           10  \n",
              "3  the intervention group will participate in the...           10  \n",
              "4  the program is based on self-efficacy theory a...           10  \n",
              "5  participants will access the program for a min...           10  \n",
              "6  primary outcomes are domain specific self-effi...           10  \n",
              "7  secondary outcomes include : depression , anxi...           10  \n",
              "8  data collection will take place at baseline , ...           10  \n",
              "9  results of the positive outlook study will pro...           10  "
            ]
          },
          "execution_count": 64,
          "metadata": {},
          "output_type": "execute_result"
        }
      ],
      "source": [
        "train_df[:10]"
      ]
    },
    {
      "cell_type": "code",
      "execution_count": null,
      "metadata": {
        "colab": {
          "base_uri": "https://localhost:8080/",
          "height": 445
        },
        "id": "thNnjK9x7peX",
        "outputId": "39d1f85c-6fec-4725-c1ba-27bf414f465d"
      },
      "outputs": [
        {
          "data": {
            "image/png": "[encoded data removed]",
            "text/plain": [
              "<Figure size 640x480 with 1 Axes>"
            ]
          },
          "metadata": {},
          "output_type": "display_data"
        }
      ],
      "source": [
        "train_df[\"line_number\"].plot.hist();"
      ]
    },
    {
      "cell_type": "code",
      "execution_count": null,
      "metadata": {
        "colab": {
          "base_uri": "https://localhost:8080/"
        },
        "id": "2q0jzsNn-Zah",
        "outputId": "17ddb3e1-4b91-49e3-f14a-915ff662c8aa"
      },
      "outputs": [
        {
          "data": {
            "text/plain": [
              "0     190654\n",
              "1     190654\n",
              "2     190654\n",
              "3     190644\n",
              "4     190357\n",
              "5     189080\n",
              "6     185551\n",
              "7     177967\n",
              "8     164187\n",
              "9     143835\n",
              "10    117871\n",
              "11     90168\n",
              "12     64864\n",
              "13     44350\n",
              "14     29186\n",
              "15     18785\n",
              "16     11803\n",
              "17      7392\n",
              "18      4688\n",
              "19      3030\n",
              "20      1925\n",
              "21      1268\n",
              "22       814\n",
              "23       564\n",
              "24       398\n",
              "25       288\n",
              "26       214\n",
              "27       159\n",
              "28       118\n",
              "29        88\n",
              "30        64\n",
              "31        55\n",
              "32        42\n",
              "33        34\n",
              "34        21\n",
              "35        17\n",
              "36        12\n",
              "37         9\n",
              "40         6\n",
              "38         6\n",
              "39         6\n",
              "41         5\n",
              "42         5\n",
              "43         5\n",
              "44         4\n",
              "45         4\n",
              "46         3\n",
              "47         2\n",
              "48         2\n",
              "49         2\n",
              "50         1\n",
              "Name: line_number, dtype: int64"
            ]
          },
          "execution_count": 66,
          "metadata": {},
          "output_type": "execute_result"
        }
      ],
      "source": [
        "train_df[\"line_number\"].value_counts()"
      ]
    },
    {
      "cell_type": "code",
      "execution_count": null,
      "metadata": {
        "colab": {
          "base_uri": "https://localhost:8080/"
        },
        "id": "e-TWLSMT8tjl",
        "outputId": "3a334145-1df2-4b4a-f40f-7d2e6fe29e41"
      },
      "outputs": [
        {
          "data": {
            "text/plain": [
              "<tf.Tensor: shape=(2211861, 35), dtype=float32, numpy=\n",
              "array([[1., 0., 0., ..., 0., 0., 0.],\n",
              "       [0., 1., 0., ..., 0., 0., 0.],\n",
              "       [0., 0., 1., ..., 0., 0., 0.],\n",
              "       ...,\n",
              "       [0., 0., 0., ..., 0., 0., 0.],\n",
              "       [0., 0., 0., ..., 0., 0., 0.],\n",
              "       [0., 0., 0., ..., 0., 0., 0.]], dtype=float32)>"
            ]
          },
          "execution_count": 67,
          "metadata": {},
          "output_type": "execute_result"
        }
      ],
      "source": [
        "# Create one-hot-encoded tensors of line-number by TF\n",
        "train_line_number_oh = tf.one_hot(train_df[\"line_number\"].to_numpy(), depth=35)\n",
        "val_line_number_oh = tf.one_hot(val_df[\"line_number\"].to_numpy(), depth=35)\n",
        "test_line_number_oh = tf.one_hot(test_df[\"line_number\"].to_numpy(), depth=35)\n",
        "train_line_number_oh"
      ]
    },
    {
      "cell_type": "code",
      "execution_count": null,
      "metadata": {
        "colab": {
          "base_uri": "https://localhost:8080/",
          "height": 445
        },
        "id": "O8RTY_FZ_2x0",
        "outputId": "0d50e815-c3ea-44b3-9be9-3d0ce585222e"
      },
      "outputs": [
        {
          "data": {
            "image/png": "[encoded data removed]",
            "text/plain": [
              "<Figure size 640x480 with 1 Axes>"
            ]
          },
          "metadata": {},
          "output_type": "display_data"
        }
      ],
      "source": [
        "train_df[\"total_lines\"].plot.hist();"
      ]
    },
    {
      "cell_type": "code",
      "execution_count": null,
      "metadata": {
        "colab": {
          "base_uri": "https://localhost:8080/"
        },
        "id": "UEeWYrG-A1Hf",
        "outputId": "bcd7ccdd-c3a0-4ccd-b405-aed82846c81e"
      },
      "outputs": [
        {
          "data": {
            "text/plain": [
              "20.0"
            ]
          },
          "execution_count": 69,
          "metadata": {},
          "output_type": "execute_result"
        }
      ],
      "source": [
        "np.percentile(train_df[\"total_lines\"], 98)"
      ]
    },
    {
      "cell_type": "code",
      "execution_count": null,
      "metadata": {
        "colab": {
          "base_uri": "https://localhost:8080/"
        },
        "id": "qbN-k_wi-Dq1",
        "outputId": "296eef09-57f2-45fc-f814-42f7c283781f"
      },
      "outputs": [
        {
          "data": {
            "text/plain": [
              "<tf.Tensor: shape=(2211861, 20), dtype=float32, numpy=\n",
              "array([[0., 0., 0., ..., 0., 0., 0.],\n",
              "       [0., 0., 0., ..., 0., 0., 0.],\n",
              "       [0., 0., 0., ..., 0., 0., 0.],\n",
              "       ...,\n",
              "       [0., 0., 0., ..., 0., 0., 0.],\n",
              "       [0., 0., 0., ..., 0., 0., 0.],\n",
              "       [0., 0., 0., ..., 0., 0., 0.]], dtype=float32)>"
            ]
          },
          "execution_count": 70,
          "metadata": {},
          "output_type": "execute_result"
        }
      ],
      "source": [
        "# Create one-hot-encoded tensors of total_line by TF\n",
        "train_total_lines_oh = tf.one_hot(train_df[\"total_lines\"].to_numpy(), depth=20)\n",
        "val_total_lines_oh = tf.one_hot(val_df[\"total_lines\"].to_numpy(), depth=20)\n",
        "test_total_lines_oh = tf.one_hot(test_df[\"total_lines\"].to_numpy(), depth=20)\n",
        "train_total_lines_oh"
      ]
    },
    {
      "cell_type": "code",
      "execution_count": null,
      "metadata": {
        "id": "UB_aEzgrciZ_"
      },
      "outputs": [],
      "source": [
        "# Create a function to get char-token-position dataset\n",
        "BATCH_SIZE = 32\n",
        "def create_char_token_pos_dataset(line_number_oh, total_lines_oh, sentences, chars, labels, batch_size):\n",
        "  char_token_pos_data = tf.data.Dataset.from_tensor_slices((line_number_oh, \n",
        "                                                            total_lines_oh, \n",
        "                                                            sentences, \n",
        "                                                            chars))\n",
        "  char_token_pos_labels = tf.data.Dataset.from_tensor_slices(labels)\n",
        "  char_token_pos_dataset = tf.data.Dataset.zip((char_token_pos_data, char_token_pos_labels)).batch(32).prefetch(tf.data.AUTOTUNE)\n",
        "\n",
        "  return char_token_pos_dataset"
      ]
    },
    {
      "cell_type": "code",
      "execution_count": null,
      "metadata": {
        "id": "In4XBn7mcpQO"
      },
      "outputs": [],
      "source": [
        "train_char_token_pos_dataset = create_char_token_pos_dataset(line_number_oh=train_line_number_oh, \n",
        "                                                             total_lines_oh=train_total_lines_oh, \n",
        "                                                             sentences=train_sentences, \n",
        "                                                             chars=train_chars, \n",
        "                                                             labels=train_labels_oh, \n",
        "                                                             batch_size=BATCH_SIZE)\n",
        "val_char_token_pos_dataset = create_char_token_pos_dataset(line_number_oh=val_line_number_oh, \n",
        "                                                           total_lines_oh=val_total_lines_oh, \n",
        "                                                           sentences=val_sentences, \n",
        "                                                           chars=val_chars, \n",
        "                                                           labels=val_labels_oh, \n",
        "                                                           batch_size=BATCH_SIZE)\n",
        "test_char_token_pos_dataset = create_char_token_pos_dataset(line_number_oh=test_line_number_oh, \n",
        "                                                           total_lines_oh=test_total_lines_oh, \n",
        "                                                           sentences=test_sentences, \n",
        "                                                           chars=test_chars, \n",
        "                                                           labels=test_labels_oh, \n",
        "                                                           batch_size=BATCH_SIZE)"
      ]
    },
    {
      "cell_type": "code",
      "execution_count": null,
      "metadata": {
        "colab": {
          "base_uri": "https://localhost:8080/"
        },
        "id": "xXX2fzRLcwKx",
        "outputId": "a6e2b303-1a6e-4c76-9c8e-e5ebffa1140f"
      },
      "outputs": [
        {
          "data": {
            "text/plain": [
              "((TensorSpec(shape=(None, 35), dtype=tf.float32, name=None),\n",
              "  TensorSpec(shape=(None, 20), dtype=tf.float32, name=None),\n",
              "  TensorSpec(shape=(None,), dtype=tf.string, name=None),\n",
              "  TensorSpec(shape=(None,), dtype=tf.string, name=None)),\n",
              " TensorSpec(shape=(None, 5), dtype=tf.float64, name=None))"
            ]
          },
          "execution_count": 73,
          "metadata": {},
          "output_type": "execute_result"
        }
      ],
      "source": [
        "train_char_token_pos_dataset.element_spec"
      ]
    },
    {
      "cell_type": "markdown",
      "metadata": {
        "id": "-JR3tV2yD9nc"
      },
      "source": [
        "###2.5.1 Combine all of those things into a model"
      ]
    },
    {
      "cell_type": "code",
      "execution_count": null,
      "metadata": {
        "colab": {
          "base_uri": "https://localhost:8080/"
        },
        "id": "6tYKDAsbBTWG",
        "outputId": "ef4e4564-09e9-435f-f47d-14f967e234ea"
      },
      "outputs": [
        {
          "name": "stdout",
          "output_type": "stream",
          "text": [
            "Model: \"model_4\"\n",
            "__________________________________________________________________________________________________\n",
            " Layer (type)                   Output Shape         Param #     Connected to                     \n",
            "==================================================================================================\n",
            " char_inputs (InputLayer)       [(None, 1)]          0           []                               \n",
            "                                                                                                  \n",
            " token_inputs (InputLayer)      [(None,)]            0           []                               \n",
            "                                                                                                  \n",
            " text_vectorization_1 (TextVect  (None, 284)         0           ['char_inputs[0][0]']            \n",
            " orization)                                                                                       \n",
            "                                                                                                  \n",
            " keras_layer (KerasLayer)       (None, 512)          256797824   ['token_inputs[0][0]']           \n",
            "                                                                                                  \n",
            " embedding_1 (Embedding)        (None, 284, 25)      1750        ['text_vectorization_1[0][0]']   \n",
            "                                                                                                  \n",
            " dense (Dense)                  (None, 128)          65664       ['keras_layer[0][0]']            \n",
            "                                                                                                  \n",
            " bidirectional (Bidirectional)  (None, 48)           9600        ['embedding_1[0][0]']            \n",
            "                                                                                                  \n",
            " char_token_embeddings (Concate  (None, 176)         0           ['dense[0][0]',                  \n",
            " nate)                                                            'bidirectional[0][0]']          \n",
            "                                                                                                  \n",
            " line_number_inputs (InputLayer  [(None, 35)]        0           []                               \n",
            " )                                                                                                \n",
            "                                                                                                  \n",
            " total_line_inputs (InputLayer)  [(None, 20)]        0           []                               \n",
            "                                                                                                  \n",
            " dense_3 (Dense)                (None, 256)          45312       ['char_token_embeddings[0][0]']  \n",
            "                                                                                                  \n",
            " dense_1 (Dense)                (None, 32)           1152        ['line_number_inputs[0][0]']     \n",
            "                                                                                                  \n",
            " dense_2 (Dense)                (None, 32)           672         ['total_line_inputs[0][0]']      \n",
            "                                                                                                  \n",
            " dropout (Dropout)              (None, 256)          0           ['dense_3[0][0]']                \n",
            "                                                                                                  \n",
            " char_token_positional_embeddin  (None, 320)         0           ['dense_1[0][0]',                \n",
            " gs (Concatenate)                                                 'dense_2[0][0]',                \n",
            "                                                                  'dropout[0][0]']                \n",
            "                                                                                                  \n",
            " output_layer (Dense)           (None, 5)            1605        ['char_token_positional_embedding\n",
            "                                                                 s[0][0]']                        \n",
            "                                                                                                  \n",
            "==================================================================================================\n",
            "Total params: 256,923,579\n",
            "Trainable params: 125,755\n",
            "Non-trainable params: 256,797,824\n",
            "__________________________________________________________________________________________________\n"
          ]
        }
      ],
      "source": [
        "OUTPUT_SHAPE = 5\n",
        "# Setup a token model\n",
        "MODEL = \"https://tfhub.dev/google/universal-sentence-encoder/4\"\n",
        "tf_hub_embedding_layer = hub.KerasLayer(MODEL, trainable=False)\n",
        "token_inputs = Input(shape=[], dtype=tf.string, name=\"token_inputs\")\n",
        "token_embeddings = tf_hub_embedding_layer(token_inputs)\n",
        "token_outputs = Dense(128, activation=\"relu\")(token_embeddings)\n",
        "token_model = Model(inputs=token_inputs,\n",
        "                    outputs=token_outputs)\n",
        "\n",
        "# Setup character model\n",
        "char_inputs = Input(shape=(1,), dtype=tf.string, name=\"char_inputs\")\n",
        "char_vectors = char_vectorizer(char_inputs)\n",
        "char_embeddings = char_embed(char_vectors)\n",
        "char_bi_lstm = layers.Bidirectional(layers.LSTM(24))(char_embeddings)\n",
        "char_model = Model(inputs=char_inputs, \n",
        "                   outputs=char_bi_lstm)\n",
        "\n",
        "# Setup line number model\n",
        "line_number_inputs = Input(shape=(35,), dtype=tf.float32, name=\"line_number_inputs\")\n",
        "x = Dense(32, activation=\"relu\")(line_number_inputs)\n",
        "line_number_model = Model(inputs=line_number_inputs, \n",
        "                          outputs=x)\n",
        "\n",
        "# Setup totol line model\n",
        "total_lines_inputs = Input(shape=(20,), dtype=tf.float32, name=\"total_line_inputs\")\n",
        "y = Dense(32, activation=\"relu\")(total_lines_inputs)\n",
        "total_lines_model = Model(inputs=total_lines_inputs, \n",
        "                          outputs=y)\n",
        "\n",
        "# Concatenate token and char models\n",
        "combined_embeddings = Concatenate(name=\"char_token_embeddings\")([token_model.output,\n",
        "                                     char_model.output])\n",
        "\n",
        "# Add some Dense and Dropout layers\n",
        "z = Dense(256, activation=\"relu\")(combined_embeddings)\n",
        "dropout = Dropout(0.5)(z)\n",
        "\n",
        "# Concatenate combined_embeddings with positinal embeddings\n",
        "final_embeddings = Concatenate(name=\"char_token_positional_embeddings\")([line_number_model.output,\n",
        "                                 total_lines_model.output,\n",
        "                                 dropout])\n",
        "\n",
        "# Create output layer\n",
        "output_layer = Dense(OUTPUT_SHAPE, activation=\"softmax\", name=\"output_layer\")(final_embeddings)\n",
        "\n",
        "# Creat a model\n",
        "model_5 = Model(inputs=[line_number_model.input,\n",
        "                        total_lines_model.input,\n",
        "                        token_model.input,\n",
        "                        char_model.input],\n",
        "                outputs=output_layer)\n",
        "\n",
        "model_5.summary()"
      ]
    },
    {
      "cell_type": "code",
      "execution_count": null,
      "metadata": {
        "colab": {
          "base_uri": "https://localhost:8080/",
          "height": 856
        },
        "id": "XoUZfQ3PFWSO",
        "outputId": "9199b581-b7a7-4991-c5a1-37844cac1ba6"
      },
      "outputs": [
        {
          "data": {
            "image/png": "[encoded data removed]",
            "text/plain": [
              "<IPython.core.display.Image object>"
            ]
          },
          "execution_count": 78,
          "metadata": {},
          "output_type": "execute_result"
        }
      ],
      "source": [
        "plot_model(model_5)"
      ]
    },
    {
      "cell_type": "code",
      "execution_count": null,
      "metadata": {
        "id": "3ELuxaN7H1a1"
      },
      "outputs": [],
      "source": [
        "# compile the final model\n",
        "model_5.compile(loss=tf.keras.losses.CategoricalCrossentropy(label_smoothing=0.2), # hepls to prevent overfiting\n",
        "                optimizer=tf.keras.optimizers.Adam(),\n",
        "                metrics=[\"accuracy\"])"
      ]
    },
    {
      "cell_type": "code",
      "execution_count": null,
      "metadata": {
        "colab": {
          "base_uri": "https://localhost:8080/"
        },
        "id": "dK0UsodwPyxS",
        "outputId": "0c9dcbd0-354b-460f-f4df-83067d3f35ac"
      },
      "outputs": [
        {
          "name": "stdout",
          "output_type": "stream",
          "text": [
            "Epoch 1/3\n",
            "562/562 [==============================] - 36s 63ms/step - loss: 1.0580 - accuracy: 0.7514 - val_loss: 0.9792 - val_accuracy: 0.8009\n",
            "Epoch 2/3\n",
            "562/562 [==============================] - 39s 70ms/step - loss: 0.9619 - accuracy: 0.8191 - val_loss: 0.9469 - val_accuracy: 0.8275\n",
            "Epoch 3/3\n",
            "562/562 [==============================] - 32s 57ms/step - loss: 0.9447 - accuracy: 0.8258 - val_loss: 0.9361 - val_accuracy: 0.8334\n",
            "CPU times: user 2min 10s, sys: 8.17 s, total: 2min 18s\n",
            "Wall time: 1min 46s\n"
          ]
        }
      ],
      "source": [
        "# Fit the model\n",
        "%%time\n",
        "EPOCHS = 3\n",
        "hist_5 = model_5.fit(train_char_token_pos_dataset, \n",
        "                     steps_per_epoch=int(0.1*len(train_char_token_pos_dataset)), \n",
        "                     epochs=EPOCHS,\n",
        "                     validation_data=val_char_token_pos_dataset,\n",
        "                     validation_steps=int(0.1*len(val_char_token_pos_dataset)))"
      ]
    },
    {
      "cell_type": "code",
      "execution_count": null,
      "metadata": {
        "colab": {
          "base_uri": "https://localhost:8080/"
        },
        "id": "xyIi5K_nQ9ft",
        "outputId": "32ceb7a9-0f90-476c-d5fc-7fad6346fc53"
      },
      "outputs": [
        {
          "name": "stdout",
          "output_type": "stream",
          "text": [
            "945/945 [==============================] - 24s 26ms/step\n"
          ]
        },
        {
          "data": {
            "text/plain": [
              "{'accuracy': 0.8362240169469085,\n",
              " 'precision': 0.8347712245558687,\n",
              " 'recall': 0.8362240169469085,\n",
              " 'f1-score': 0.8350263444499741}"
            ]
          },
          "execution_count": 277,
          "metadata": {},
          "output_type": "execute_result"
        }
      ],
      "source": [
        "# Make predicitons\n",
        "model_5_pred_probs = model_5.predict(val_char_token_pos_dataset)\n",
        "model_5_preds = tf.argmax(model_5_pred_probs, axis=1)\n",
        "model_5_results = calculate_results(val_labels, model_5_preds)\n",
        "model_5_results"
      ]
    },
    {
      "cell_type": "code",
      "execution_count": null,
      "metadata": {
        "colab": {
          "base_uri": "https://localhost:8080/",
          "height": 237
        },
        "id": "RSbQ4QzWSTKH",
        "outputId": "e4bba56f-51f8-4104-ca00-57a75a937902"
      },
      "outputs": [
        {
          "data": {
            "text/html": [
              "\n",
              "  <div id=\"df-a05cd7fb-00f0-47ea-a33b-e4301c96aaed\">\n",
              "    <div class=\"colab-df-container\">\n",
              "      <div>\n",
              "<style scoped>\n",
              "    .dataframe tbody tr th:only-of-type {\n",
              "        vertical-align: middle;\n",
              "    }\n",
              "\n",
              "    .dataframe tbody tr th {\n",
              "        vertical-align: top;\n",
              "    }\n",
              "\n",
              "    .dataframe thead th {\n",
              "        text-align: right;\n",
              "    }\n",
              "</style>\n",
              "<table border=\"1\" class=\"dataframe\">\n",
              "  <thead>\n",
              "    <tr style=\"text-align: right;\">\n",
              "      <th></th>\n",
              "      <th>accuracy</th>\n",
              "      <th>precision</th>\n",
              "      <th>recall</th>\n",
              "      <th>f1-score</th>\n",
              "    </tr>\n",
              "  </thead>\n",
              "  <tbody>\n",
              "    <tr>\n",
              "      <th>model_0_baseline</th>\n",
              "      <td>0.721832</td>\n",
              "      <td>0.718647</td>\n",
              "      <td>0.721832</td>\n",
              "      <td>0.698925</td>\n",
              "    </tr>\n",
              "    <tr>\n",
              "      <th>model_1_custom_token_embedding</th>\n",
              "      <td>0.821098</td>\n",
              "      <td>0.822770</td>\n",
              "      <td>0.821098</td>\n",
              "      <td>0.818735</td>\n",
              "    </tr>\n",
              "    <tr>\n",
              "      <th>model_2_pretrained_model_token_embedding</th>\n",
              "      <td>0.711770</td>\n",
              "      <td>0.711882</td>\n",
              "      <td>0.711770</td>\n",
              "      <td>0.708854</td>\n",
              "    </tr>\n",
              "    <tr>\n",
              "      <th>model_3_custom_char_embedding</th>\n",
              "      <td>0.679267</td>\n",
              "      <td>0.684461</td>\n",
              "      <td>0.679267</td>\n",
              "      <td>0.675352</td>\n",
              "    </tr>\n",
              "    <tr>\n",
              "      <th>model_4_char_token_embedding</th>\n",
              "      <td>0.761320</td>\n",
              "      <td>0.758269</td>\n",
              "      <td>0.761320</td>\n",
              "      <td>0.757119</td>\n",
              "    </tr>\n",
              "    <tr>\n",
              "      <th>model_5_char_token_pos_embedding</th>\n",
              "      <td>0.846650</td>\n",
              "      <td>0.847097</td>\n",
              "      <td>0.846650</td>\n",
              "      <td>0.843805</td>\n",
              "    </tr>\n",
              "  </tbody>\n",
              "</table>\n",
              "</div>\n",
              "      <button class=\"colab-df-convert\" onclick=\"convertToInteractive('df-a05cd7fb-00f0-47ea-a33b-e4301c96aaed')\"\n",
              "              title=\"Convert this dataframe to an interactive table.\"\n",
              "              style=\"display:none;\">\n",
              "        \n",
              "  <svg xmlns=\"http://www.w3.org/2000/svg\" height=\"24px\"viewBox=\"0 0 24 24\"\n",
              "       width=\"24px\">\n",
              "    <path d=\"M0 0h24v24H0V0z\" fill=\"none\"/>\n",
              "    <path d=\"M18.56 5.44l.94 2.06.94-2.06 2.06-.94-2.06-.94-.94-2.06-.94 2.06-2.06.94zm-11 1L8.5 8.5l.94-2.06 2.06-.94-2.06-.94L8.5 2.5l-.94 2.06-2.06.94zm10 10l.94 2.06.94-2.06 2.06-.94-2.06-.94-.94-2.06-.94 2.06-2.06.94z\"/><path d=\"M17.41 7.96l-1.37-1.37c-.4-.4-.92-.59-1.43-.59-.52 0-1.04.2-1.43.59L10.3 9.45l-7.72 7.72c-.78.78-.78 2.05 0 2.83L4 21.41c.39.39.9.59 1.41.59.51 0 1.02-.2 1.41-.59l7.78-7.78 2.81-2.81c.8-.78.8-2.07 0-2.86zM5.41 20L4 18.59l7.72-7.72 1.47 1.35L5.41 20z\"/>\n",
              "  </svg>\n",
              "      </button>\n",
              "      \n",
              "  <style>\n",
              "    .colab-df-container {\n",
              "      display:flex;\n",
              "      flex-wrap:wrap;\n",
              "      gap: 12px;\n",
              "    }\n",
              "\n",
              "    .colab-df-convert {\n",
              "      background-color: #E8F0FE;\n",
              "      border: none;\n",
              "      border-radius: 50%;\n",
              "      cursor: pointer;\n",
              "      display: none;\n",
              "      fill: #1967D2;\n",
              "      height: 32px;\n",
              "      padding: 0 0 0 0;\n",
              "      width: 32px;\n",
              "    }\n",
              "\n",
              "    .colab-df-convert:hover {\n",
              "      background-color: #E2EBFA;\n",
              "      box-shadow: 0px 1px 2px rgba(60, 64, 67, 0.3), 0px 1px 3px 1px rgba(60, 64, 67, 0.15);\n",
              "      fill: #174EA6;\n",
              "    }\n",
              "\n",
              "    [theme=dark] .colab-df-convert {\n",
              "      background-color: #3B4455;\n",
              "      fill: #D2E3FC;\n",
              "    }\n",
              "\n",
              "    [theme=dark] .colab-df-convert:hover {\n",
              "      background-color: #434B5C;\n",
              "      box-shadow: 0px 1px 3px 1px rgba(0, 0, 0, 0.15);\n",
              "      filter: drop-shadow(0px 1px 2px rgba(0, 0, 0, 0.3));\n",
              "      fill: #FFFFFF;\n",
              "    }\n",
              "  </style>\n",
              "\n",
              "      <script>\n",
              "        const buttonEl =\n",
              "          document.querySelector('#df-a05cd7fb-00f0-47ea-a33b-e4301c96aaed button.colab-df-convert');\n",
              "        buttonEl.style.display =\n",
              "          google.colab.kernel.accessAllowed ? 'block' : 'none';\n",
              "\n",
              "        async function convertToInteractive(key) {\n",
              "          const element = document.querySelector('#df-a05cd7fb-00f0-47ea-a33b-e4301c96aaed');\n",
              "          const dataTable =\n",
              "            await google.colab.kernel.invokeFunction('convertToInteractive',\n",
              "                                                     [key], {});\n",
              "          if (!dataTable) return;\n",
              "\n",
              "          const docLinkHtml = 'Like what you see? Visit the ' +\n",
              "            '<a target=\"_blank\" href=https://colab.research.google.com/notebooks/data_table.ipynb>data table notebook</a>'\n",
              "            + ' to learn more about interactive tables.';\n",
              "          element.innerHTML = '';\n",
              "          dataTable['output_type'] = 'display_data';\n",
              "          await google.colab.output.renderOutput(dataTable, element);\n",
              "          const docLink = document.createElement('div');\n",
              "          docLink.innerHTML = docLinkHtml;\n",
              "          element.appendChild(docLink);\n",
              "        }\n",
              "      </script>\n",
              "    </div>\n",
              "  </div>\n",
              "  "
            ],
            "text/plain": [
              "                                          accuracy  precision    recall  \\\n",
              "model_0_baseline                          0.721832   0.718647  0.721832   \n",
              "model_1_custom_token_embedding            0.821098   0.822770  0.821098   \n",
              "model_2_pretrained_model_token_embedding  0.711770   0.711882  0.711770   \n",
              "model_3_custom_char_embedding             0.679267   0.684461  0.679267   \n",
              "model_4_char_token_embedding              0.761320   0.758269  0.761320   \n",
              "model_5_char_token_pos_embedding          0.846650   0.847097  0.846650   \n",
              "\n",
              "                                          f1-score  \n",
              "model_0_baseline                          0.698925  \n",
              "model_1_custom_token_embedding            0.818735  \n",
              "model_2_pretrained_model_token_embedding  0.708854  \n",
              "model_3_custom_char_embedding             0.675352  \n",
              "model_4_char_token_embedding              0.757119  \n",
              "model_5_char_token_pos_embedding          0.843805  "
            ]
          },
          "execution_count": 117,
          "metadata": {},
          "output_type": "execute_result"
        }
      ],
      "source": [
        "# Compare model results\n",
        "all_model_results = pd.DataFrame({\"model_0_baseline\": baseline_results,\n",
        "                                  \"model_1_custom_token_embedding\": model_1_results,\n",
        "                                  \"model_2_pretrained_model_token_embedding\": model_2_results,\n",
        "                                  \"model_3_custom_char_embedding\": model_3_results,\n",
        "                                  \"model_4_char_token_embedding\": model_4_results,\n",
        "                                  \"model_5_char_token_pos_embedding\": model_5_results})\n",
        "all_model_results = all_model_results.T\n",
        "all_model_results"
      ]
    },
    {
      "cell_type": "code",
      "execution_count": null,
      "metadata": {
        "colab": {
          "base_uri": "https://localhost:8080/",
          "height": 906
        },
        "id": "I9IEmlCuhC_w",
        "outputId": "73572f7b-c758-478a-f6d2-7ca767f0ff85"
      },
      "outputs": [
        {
          "data": {
            "image/png": "[encoded data removed]",
            "text/plain": [
              "<Figure size 1000x700 with 1 Axes>"
            ]
          },
          "metadata": {},
          "output_type": "display_data"
        }
      ],
      "source": [
        "  all_model_results.plot(kind=\"bar\", figsize=(10,7)).legend(bbox_to_anchor=(1, 1));"
      ]
    },
    {
      "cell_type": "markdown",
      "metadata": {
        "id": "nYxy56I3rMX0"
      },
      "source": [
        "#3 Hypertuning\n",
        "\n",
        "\n",
        "\n",
        "\n"
      ]
    },
    {
      "cell_type": "markdown",
      "metadata": {
        "id": "xpFbE8KAuvHG"
      },
      "source": [
        "## We will choose the model 5 for tuning"
      ]
    },
    {
      "cell_type": "markdown",
      "metadata": {
        "id": "NQC8QzLrwj_W"
      },
      "source": [
        "##3.1 Create a Keras tuner"
      ]
    },
    {
      "cell_type": "code",
      "execution_count": null,
      "metadata": {
        "colab": {
          "base_uri": "https://localhost:8080/"
        },
        "id": "kq9doxE7doxf",
        "outputId": "3babd930-51a0-4a51-8729-6d03431eeb9b"
      },
      "outputs": [
        {
          "data": {
            "text/plain": [
              "(<_PrefetchDataset element_spec=((TensorSpec(shape=(None, 25), dtype=tf.float32, name=None), TensorSpec(shape=(None, 20), dtype=tf.float32, name=None), TensorSpec(shape=(None,), dtype=tf.string, name=None), TensorSpec(shape=(None,), dtype=tf.string, name=None)), TensorSpec(shape=(None, 5), dtype=tf.float64, name=None))>,\n",
              " <_PrefetchDataset element_spec=((TensorSpec(shape=(None, 25), dtype=tf.float32, name=None), TensorSpec(shape=(None, 20), dtype=tf.float32, name=None), TensorSpec(shape=(None,), dtype=tf.string, name=None), TensorSpec(shape=(None,), dtype=tf.string, name=None)), TensorSpec(shape=(None, 5), dtype=tf.float64, name=None))>)"
            ]
          },
          "execution_count": 131,
          "metadata": {},
          "output_type": "execute_result"
        }
      ],
      "source": [
        "train_char_token_pos_dataset, val_char_token_pos_dataset"
      ]
    },
    {
      "cell_type": "code",
      "execution_count": null,
      "metadata": {
        "id": "ElLFI8Hzpivg"
      },
      "outputs": [],
      "source": [
        "MODEL = \"https://tfhub.dev/google/universal-sentence-encoder/4\""
      ]
    },
    {
      "cell_type": "code",
      "execution_count": null,
      "metadata": {
        "id": "aOs1NanzdwZ_"
      },
      "outputs": [],
      "source": [
        "def build_model(hp):\n",
        "  # Setup a token model\n",
        "  tf_hub_embedding_layer = hub.KerasLayer(MODEL, trainable=False)\n",
        "  token_inputs = Input(shape=[], dtype=tf.string, name=\"token_inputs\")\n",
        "  token_embeddings = tf_hub_embedding_layer(token_inputs)\n",
        "  token_outputs = Dense(hp.Int(\"dense_units\", min_value=32, max_value=160, step=32), activation=\"relu\")(token_embeddings)\n",
        "  token_model = Model(inputs=token_inputs,\n",
        "                      outputs=token_outputs)\n",
        "\n",
        "  # Setup character model\n",
        "  char_inputs = Input(shape=(1,), dtype=tf.string, name=\"char_inputs\")\n",
        "  char_vectors = char_vectorizer(char_inputs)\n",
        "  char_embeddings = char_embed(char_vectors)\n",
        "  char_bi_lstm = layers.Bidirectional(layers.LSTM(hp.Int(\"lstm_units\", min_value=8, max_value=32, step=8)))(char_embeddings)\n",
        "  char_model = Model(inputs=char_inputs, \n",
        "                    outputs=char_bi_lstm)\n",
        "\n",
        "  # Setup line number model\n",
        "  line_number_inputs = Input(shape=(25,), dtype=tf.float32, name=\"line_number_inputs\")\n",
        "  x = Dense(hp.Int(\"line_dense_units\", min_value=16, max_value=64, step=16), activation=\"relu\")(line_number_inputs)\n",
        "  line_number_model = Model(inputs=line_number_inputs, \n",
        "                            outputs=x)\n",
        "\n",
        "  # Setup totol line model\n",
        "  total_lines_inputs = Input(shape=(20,), dtype=tf.float32, name=\"total_line_inputs\")\n",
        "  y = Dense(hp.Int(\"total_dense_units\", min_value=16, max_value=64, step=16), activation=\"relu\")(total_lines_inputs)\n",
        "  total_lines_model = Model(inputs=total_lines_inputs, \n",
        "                            outputs=y)\n",
        "\n",
        "  # Concatenate token and char models\n",
        "  combined_embeddings = Concatenate(name=\"char_token_embeddings\")([token_model.output,\n",
        "                                      char_model.output])\n",
        "\n",
        "  # Add some Dense and Dropout layers\n",
        "  z = Dense(hp.Int(\"dense_units_2\", min_value=64, max_value=256, step=32), activation=\"relu\")(combined_embeddings)\n",
        "  dropout = Dropout(hp.Float(\"dropout\", min_value=0.2, max_value=0.5, step=0.1))(z)\n",
        "\n",
        "  # Concatenate combined_embeddings with positinal embeddings\n",
        "  final_embeddings = Concatenate(name=\"char_token_positional_embeddings\")([line_number_model.output,\n",
        "                                  total_lines_model.output,\n",
        "                                  dropout])\n",
        "\n",
        "  # Create output layer\n",
        "  output_layer = Dense(5, activation=\"softmax\", name=\"output_layer\")(final_embeddings)\n",
        "\n",
        "  # Creat a model\n",
        "  model = Model(inputs=[line_number_model.input,\n",
        "                        total_lines_model.input,\n",
        "                        token_model.input,\n",
        "                        char_model.input],\n",
        "                outputs=output_layer)\n",
        "\n",
        "  # Compile the model\n",
        "  model.compile(loss=\"categorical_crossentropy\",\n",
        "                optimizer=Adam(learning_rate=hp.Choice('learning_rate', values=[1e-2, 1e-3, 1e-4])),\n",
        "                metrics=[\"accuracy\"])\n",
        "  return model"
      ]
    },
    {
      "cell_type": "code",
      "execution_count": null,
      "metadata": {
        "id": "HYfGhX8Nrxcy"
      },
      "outputs": [],
      "source": [
        "tuner = 0\n",
        "tuner = kt.RandomSearch(\n",
        "    build_model,\n",
        "    objective='val_loss',\n",
        "    max_trials=10)"
      ]
    },
    {
      "cell_type": "code",
      "execution_count": null,
      "metadata": {
        "id": "tMkP5dD3spPG"
      },
      "outputs": [],
      "source": [
        "EPOCHS = 3\n",
        "BATCH_SIZE = 32\n",
        "results = tuner.search(train_char_token_pos_dataset.take(round(0.1*len(train_char_token_pos_dataset))), \n",
        "                       epochs=EPOCHS,\n",
        "                       validation_data=val_char_token_pos_dataset.take(round(0.1*len(val_char_token_pos_dataset))))"
      ]
    },
    {
      "cell_type": "code",
      "execution_count": null,
      "metadata": {
        "id": "JtQYKXd3vgz8"
      },
      "outputs": [],
      "source": [
        "best_model = tuner.get_best_models()"
      ]
    },
    {
      "cell_type": "code",
      "execution_count": null,
      "metadata": {
        "colab": {
          "base_uri": "https://localhost:8080/"
        },
        "id": "Lb9v6QAwzJZK",
        "outputId": "c93cf545-624e-48ae-cf67-11db51d2b752"
      },
      "outputs": [
        {
          "data": {
            "text/plain": [
              "[<keras.engine.functional.Functional at 0x7f09a246a890>]"
            ]
          },
          "execution_count": 100,
          "metadata": {},
          "output_type": "execute_result"
        }
      ],
      "source": [
        "best_model"
      ]
    },
    {
      "cell_type": "code",
      "execution_count": null,
      "metadata": {
        "colab": {
          "base_uri": "https://localhost:8080/"
        },
        "id": "XAggsjp59bN4",
        "outputId": "fcfcd86b-c574-463a-b24e-e4401425ddf9"
      },
      "outputs": [
        {
          "name": "stdout",
          "output_type": "stream",
          "text": [
            "Model: \"model_4\"\n",
            "__________________________________________________________________________________________________\n",
            " Layer (type)                   Output Shape         Param #     Connected to                     \n",
            "==================================================================================================\n",
            " char_inputs (InputLayer)       [(None, 1)]          0           []                               \n",
            "                                                                                                  \n",
            " token_inputs (InputLayer)      [(None,)]            0           []                               \n",
            "                                                                                                  \n",
            " text_vectorization_1 (TextVect  (None, 290)         0           ['char_inputs[0][0]']            \n",
            " orization)                                                                                       \n",
            "                                                                                                  \n",
            " keras_layer (KerasLayer)       (None, 512)          256797824   ['token_inputs[0][0]']           \n",
            "                                                                                                  \n",
            " embedding_1 (Embedding)        (None, 290, 25)      700         ['text_vectorization_1[5][0]']   \n",
            "                                                                                                  \n",
            " dense (Dense)                  (None, 128)          65664       ['keras_layer[0][0]']            \n",
            "                                                                                                  \n",
            " bidirectional (Bidirectional)  (None, 16)           2176        ['embedding_1[5][0]']            \n",
            "                                                                                                  \n",
            " char_token_embeddings (Concate  (None, 144)         0           ['dense[0][0]',                  \n",
            " nate)                                                            'bidirectional[0][0]']          \n",
            "                                                                                                  \n",
            " line_number_inputs (InputLayer  [(None, 25)]        0           []                               \n",
            " )                                                                                                \n",
            "                                                                                                  \n",
            " total_line_inputs (InputLayer)  [(None, 20)]        0           []                               \n",
            "                                                                                                  \n",
            " dense_3 (Dense)                (None, 256)          37120       ['char_token_embeddings[0][0]']  \n",
            "                                                                                                  \n",
            " dense_1 (Dense)                (None, 64)           1664        ['line_number_inputs[0][0]']     \n",
            "                                                                                                  \n",
            " dense_2 (Dense)                (None, 64)           1344        ['total_line_inputs[0][0]']      \n",
            "                                                                                                  \n",
            " dropout (Dropout)              (None, 256)          0           ['dense_3[0][0]']                \n",
            "                                                                                                  \n",
            " char_token_positional_embeddin  (None, 384)         0           ['dense_1[0][0]',                \n",
            " gs (Concatenate)                                                 'dense_2[0][0]',                \n",
            "                                                                  'dropout[0][0]']                \n",
            "                                                                                                  \n",
            " output_layer (Dense)           (None, 5)            1925        ['char_token_positional_embedding\n",
            "                                                                 s[0][0]']                        \n",
            "                                                                                                  \n",
            "==================================================================================================\n",
            "Total params: 256,908,417\n",
            "Trainable params: 110,593\n",
            "Non-trainable params: 256,797,824\n",
            "__________________________________________________________________________________________________\n",
            "None\n",
            "Model: \"model_4\"\n",
            "__________________________________________________________________________________________________\n",
            " Layer (type)                   Output Shape         Param #     Connected to                     \n",
            "==================================================================================================\n",
            " char_inputs (InputLayer)       [(None, 1)]          0           []                               \n",
            "                                                                                                  \n",
            " token_inputs (InputLayer)      [(None,)]            0           []                               \n",
            "                                                                                                  \n",
            " text_vectorization_1 (TextVect  (None, 290)         0           ['char_inputs[0][0]']            \n",
            " orization)                                                                                       \n",
            "                                                                                                  \n",
            " keras_layer (KerasLayer)       (None, 512)          256797824   ['token_inputs[0][0]']           \n",
            "                                                                                                  \n",
            " embedding_1 (Embedding)        (None, 290, 25)      700         ['text_vectorization_1[6][0]']   \n",
            "                                                                                                  \n",
            " dense (Dense)                  (None, 128)          65664       ['keras_layer[0][0]']            \n",
            "                                                                                                  \n",
            " bidirectional (Bidirectional)  (None, 32)           5376        ['embedding_1[6][0]']            \n",
            "                                                                                                  \n",
            " char_token_embeddings (Concate  (None, 160)         0           ['dense[0][0]',                  \n",
            " nate)                                                            'bidirectional[0][0]']          \n",
            "                                                                                                  \n",
            " line_number_inputs (InputLayer  [(None, 25)]        0           []                               \n",
            " )                                                                                                \n",
            "                                                                                                  \n",
            " total_line_inputs (InputLayer)  [(None, 20)]        0           []                               \n",
            "                                                                                                  \n",
            " dense_3 (Dense)                (None, 256)          41216       ['char_token_embeddings[0][0]']  \n",
            "                                                                                                  \n",
            " dense_1 (Dense)                (None, 32)           832         ['line_number_inputs[0][0]']     \n",
            "                                                                                                  \n",
            " dense_2 (Dense)                (None, 16)           336         ['total_line_inputs[0][0]']      \n",
            "                                                                                                  \n",
            " dropout (Dropout)              (None, 256)          0           ['dense_3[0][0]']                \n",
            "                                                                                                  \n",
            " char_token_positional_embeddin  (None, 304)         0           ['dense_1[0][0]',                \n",
            " gs (Concatenate)                                                 'dense_2[0][0]',                \n",
            "                                                                  'dropout[0][0]']                \n",
            "                                                                                                  \n",
            " output_layer (Dense)           (None, 5)            1525        ['char_token_positional_embedding\n",
            "                                                                 s[0][0]']                        \n",
            "                                                                                                  \n",
            "==================================================================================================\n",
            "Total params: 256,913,473\n",
            "Trainable params: 115,649\n",
            "Non-trainable params: 256,797,824\n",
            "__________________________________________________________________________________________________\n",
            "None\n"
          ]
        }
      ],
      "source": [
        "for model in tuner.get_best_models(num_models=2):\n",
        "    print(model.summary())\n"
      ]
    },
    {
      "cell_type": "code",
      "execution_count": null,
      "metadata": {
        "colab": {
          "base_uri": "https://localhost:8080/"
        },
        "id": "Nj3YIGnQ-hWk",
        "outputId": "bf24f96a-aa2b-4fe5-bb40-3e9e58ff1b21"
      },
      "outputs": [
        {
          "data": {
            "text/plain": [
              "[<keras_tuner.engine.hyperparameters.hyperparameters.HyperParameters at 0x7f0992d07100>]"
            ]
          },
          "execution_count": 106,
          "metadata": {},
          "output_type": "execute_result"
        }
      ],
      "source": [
        "best_hyperparameters = tuner.get_best_hyperparameters()\n",
        "best_hyperparameters"
      ]
    },
    {
      "cell_type": "code",
      "execution_count": null,
      "metadata": {
        "colab": {
          "base_uri": "https://localhost:8080/"
        },
        "id": "3hA3AIgw_M-e",
        "outputId": "1f22308b-cfc7-41d4-fb39-fe317a34a690"
      },
      "outputs": [
        {
          "name": "stdout",
          "output_type": "stream",
          "text": [
            "\n",
            "Best model 1 hyperparameters:\n",
            "dense_units: 128\n",
            "lstm_units: 8\n",
            "line_dense_units: 64\n",
            "total_dense_units: 64\n",
            "dense_units_2: 256\n",
            "dropout: 0.4\n",
            "learning_rate: 0.001\n"
          ]
        }
      ],
      "source": [
        "for idx, model in enumerate(best_model):\n",
        "    print(f\"\\nBest model {idx + 1} hyperparameters:\")\n",
        "    for hp_name, hp_value in best_hyperparameters[idx].values.items():\n",
        "        print(f\"{hp_name}: {hp_value}\")"
      ]
    },
    {
      "cell_type": "markdown",
      "metadata": {
        "id": "twVCJFAN_bDT"
      },
      "source": [
        "##3.2 Pick the most hyperparameter for fitting full of dataset"
      ]
    },
    {
      "cell_type": "code",
      "execution_count": null,
      "metadata": {
        "id": "XMlTvcHJ_5ph"
      },
      "outputs": [],
      "source": [
        "OUTPUT_SHAPE = 5\n",
        "# Setup a token model\n",
        "MODEL = \"https://tfhub.dev/google/universal-sentence-encoder/4\"\n",
        "tf_hub_embedding_layer = hub.KerasLayer(MODEL, trainable=False)\n",
        "token_inputs = Input(shape=[], dtype=tf.string, name=\"token_inputs\")\n",
        "token_embeddings = tf_hub_embedding_layer(token_inputs)\n",
        "token_outputs = Dense(128, activation=\"relu\")(token_embeddings)\n",
        "token_model = Model(inputs=token_inputs,\n",
        "                    outputs=token_outputs)\n",
        "\n",
        "# Setup character model\n",
        "char_inputs = Input(shape=(1,), dtype=tf.string, name=\"char_inputs\")\n",
        "char_vectors = char_vectorizer(char_inputs)\n",
        "char_embeddings = char_embed(char_vectors)\n",
        "char_bi_lstm = layers.Bidirectional(layers.LSTM(8))(char_embeddings)\n",
        "char_model = Model(inputs=char_inputs, \n",
        "                   outputs=char_bi_lstm)\n",
        "\n",
        "# Setup line number model\n",
        "line_number_inputs = Input(shape=(35,), dtype=tf.float32, name=\"line_number_inputs\")\n",
        "x = Dense(64, activation=\"relu\")(line_number_inputs)\n",
        "line_number_model = Model(inputs=line_number_inputs, \n",
        "                          outputs=x)\n",
        "\n",
        "# Setup totol line model\n",
        "total_lines_inputs = Input(shape=(20,), dtype=tf.float32, name=\"total_line_inputs\")\n",
        "y = Dense(64, activation=\"relu\")(total_lines_inputs)\n",
        "total_lines_model = Model(inputs=total_lines_inputs, \n",
        "                          outputs=y)\n",
        "\n",
        "# Concatenate token and char models\n",
        "combined_embeddings = Concatenate(name=\"char_token_embeddings\")([token_model.output,\n",
        "                                     char_model.output])\n",
        "\n",
        "# Add some Dense and Dropout layers\n",
        "z = Dense(256, activation=\"relu\")(combined_embeddings)\n",
        "dropout = Dropout(0.5)(z)\n",
        "\n",
        "# Concatenate combined_embeddings with positinal embeddings\n",
        "final_embeddings = Concatenate(name=\"char_token_positional_embeddings\")([line_number_model.output,\n",
        "                                 total_lines_model.output,\n",
        "                                 dropout])\n",
        "\n",
        "# Create output layer\n",
        "output_layer = Dense(OUTPUT_SHAPE, activation=\"softmax\", name=\"output_layer\")(final_embeddings)\n",
        "\n",
        "# Creat a model\n",
        "model_5 = Model(inputs=[line_number_model.input,\n",
        "                        total_lines_model.input,\n",
        "                        token_model.input,\n",
        "                        char_model.input],\n",
        "                outputs=output_layer)\n"
      ]
    },
    {
      "cell_type": "code",
      "execution_count": null,
      "metadata": {
        "colab": {
          "base_uri": "https://localhost:8080/",
          "height": 854
        },
        "id": "bmNd-sh9U1uD",
        "outputId": "559e0329-20d2-4438-83ea-2946ce80c636"
      },
      "outputs": [
        {
          "data": {
            "image/png": "[encoded data removed]",
            "text/plain": [
              "<IPython.core.display.Image object>"
            ]
          },
          "execution_count": 80,
          "metadata": {},
          "output_type": "execute_result"
        }
      ],
      "source": [
        "plot_model(model_5)"
      ]
    },
    {
      "cell_type": "code",
      "execution_count": null,
      "metadata": {
        "id": "aTSaJ8jAKZi5"
      },
      "outputs": [],
      "source": [
        " # Compile the model\n",
        "model_5.compile(loss=tf.keras.losses.CategoricalCrossentropy(),\n",
        "              optimizer=Adam(learning_rate=0.01),\n",
        "              metrics=[\"accuracy\"])"
      ]
    },
    {
      "cell_type": "code",
      "execution_count": null,
      "metadata": {
        "id": "OMxeSp7E6_5O"
      },
      "outputs": [],
      "source": [
        "# Create a function to build a TensorBoard callback\n",
        "def create_tensorboard():\n",
        "  log_dir = os.path.join(\"/content/drive/MyDrive/SkimLit_NPL/pubmed-rct/logs\", datetime.now().strftime(\"%y%m%d-%H%M%S\"))\n",
        "\n",
        "  return TensorBoard(log_dir)"
      ]
    },
    {
      "cell_type": "code",
      "execution_count": null,
      "metadata": {
        "id": "b9KPe1tD9J_n"
      },
      "outputs": [],
      "source": [
        "# Create Earlystopping callback\n",
        "early_stopping = EarlyStopping(monitor=\"val_accuracy\", patience=3)"
      ]
    },
    {
      "cell_type": "code",
      "execution_count": null,
      "metadata": {
        "id": "-Te-olabxc1U"
      },
      "outputs": [],
      "source": [
        "checkpoint_callback = ModelCheckpoint(\n",
        "    filepath='/content/drive/MyDrive/SkimLit_NPL/pubmed-rct/checkpoints/2-weights.{epoch:02d}-{val_loss:.2f}',\n",
        "    monitor='val_loss',\n",
        "    verbose=1,\n",
        "    save_best_only=False,\n",
        "    save_weights_only=True,\n",
        "    mode='auto',\n",
        "    save_freq='epoch',\n",
        "    save_format='tf')"
      ]
    },
    {
      "cell_type": "code",
      "execution_count": null,
      "metadata": {
        "colab": {
          "background_save": true,
          "base_uri": "https://localhost:8080/"
        },
        "id": "-r6XJQucAVXr",
        "outputId": "fe072c86-b0eb-4a37-84f6-ae2e6392551a"
      },
      "outputs": [
        {
          "name": "stdout",
          "output_type": "stream",
          "text": [
            "Epoch 1/10\n",
            "69121/69121 [==============================] - ETA: 0s - loss: 0.3240 - accuracy: 0.8791\n",
            "Epoch 1: saving model to /content/drive/MyDrive/SkimLit_NPL/pubmed-rct/checkpoints/2-weights.01-0.30\n",
            "69121/69121 [==============================] - 3489s 50ms/step - loss: 0.3240 - accuracy: 0.8791 - val_loss: 0.3045 - val_accuracy: 0.8860\n",
            "Epoch 2/10\n",
            "69120/69121 [============================>.] - ETA: 0s - loss: 0.3203 - accuracy: 0.8807\n",
            "Epoch 2: saving model to /content/drive/MyDrive/SkimLit_NPL/pubmed-rct/checkpoints/2-weights.02-0.31\n",
            "69121/69121 [==============================] - 3479s 50ms/step - loss: 0.3203 - accuracy: 0.8807 - val_loss: 0.3062 - val_accuracy: 0.8849\n",
            "Epoch 3/10\n",
            "69120/69121 [============================>.] - ETA: 0s - loss: 0.3187 - accuracy: 0.8814\n",
            "Epoch 3: saving model to /content/drive/MyDrive/SkimLit_NPL/pubmed-rct/checkpoints/2-weights.03-0.31\n",
            "69121/69121 [==============================] - 3412s 49ms/step - loss: 0.3187 - accuracy: 0.8814 - val_loss: 0.3053 - val_accuracy: 0.8851\n",
            "Epoch 4/10\n",
            "47102/69121 [===================>..........] - ETA: 17:19 - loss: 0.3176 - accuracy: 0.8819"
          ]
        }
      ],
      "source": [
        "# Fit the model\n",
        "%%time\n",
        "EPOCHS = 10\n",
        "hist_5 = model_5.fit(train_char_token_pos_dataset, \n",
        "                     epochs=EPOCHS,\n",
        "                     validation_data=val_char_token_pos_dataset,\n",
        "                     callbacks=[checkpoint_callback, early_stopping, create_tensorboard()])"
      ]
    },
    {
      "cell_type": "markdown",
      "metadata": {
        "id": "Mmc0gCS9DHsA"
      },
      "source": [
        "#4. Evaluate on test dataset"
      ]
    },
    {
      "cell_type": "code",
      "execution_count": null,
      "metadata": {
        "id": "5pEY3uWy8xOB"
      },
      "outputs": [],
      "source": [
        "def load_best_checkpoint(checkpoint_dir, metric='val_loss', mode='min'):\n",
        "    # Get a list of all checkpoint files in the directory\n",
        "    checkpoint_files = glob.glob(checkpoint_dir + \"2-weights.*\")\n",
        "\n",
        "    # Sort the checkpoint files based on the metric value\n",
        "    sorted_checkpoint = sorted(checkpoint_files, key=lambda x: float(x.split('-')[-1].split('.')[0]))\n",
        "\n",
        "    # Select the best checkpoint file based on the metric and mode\n",
        "    if mode == 'min':\n",
        "      element = sorted_checkpoint[0]\n",
        "      element_without_extension = os.path.splitext(element)[0]\n",
        "      best_checkpoint_file = element_without_extension\n",
        "    elif mode == 'max':\n",
        "      element = sorted_checkpoint[-1]\n",
        "      element_without_extension = os.path.splitext(element)[0]\n",
        "      best_checkpoint_file = element_without_extension\n",
        "    else:\n",
        "      raise ValueError(\"Invalid mode. Must be 'min' or 'max'.\")\n",
        "\n",
        "    # Load the weights from the best checkpoint file\n",
        "    model_5.load_weights(best_checkpoint_file)\n",
        "\n",
        "    return model_5"
      ]
    },
    {
      "cell_type": "code",
      "execution_count": null,
      "metadata": {
        "id": "Z_DrX63s4Spl"
      },
      "outputs": [],
      "source": [
        "checkpoint_dir = \"/content/drive/MyDrive/SkimLit_NPL/pubmed-rct/checkpoints/\"\n",
        "loaded_model = load_best_checkpoint(checkpoint_dir, metric='val_loss', mode='min')"
      ]
    },
    {
      "cell_type": "code",
      "execution_count": null,
      "metadata": {
        "colab": {
          "base_uri": "https://localhost:8080/"
        },
        "id": "-z6a_gKkBQdI",
        "outputId": "52d0b767-75aa-4381-809e-cda4dacc354d"
      },
      "outputs": [
        {
          "name": "stderr",
          "output_type": "stream",
          "text": [
            "WARNING:tensorflow:No training configuration found in save file, so the model was *not* compiled. Compile it manually.\n"
          ]
        },
        {
          "data": {
            "text/plain": [
              "<tensorflow.python.checkpoint.checkpoint.CheckpointLoadStatus at 0x7fc6ce60d930>"
            ]
          },
          "execution_count": 116,
          "metadata": {},
          "output_type": "execute_result"
        }
      ],
      "source": [
        "import keras\n",
        "model_5 = keras.models.load_model(\"/content/drive/MyDrive/SkimLit_NPL/pubmed-rct/models/20230524-195239532098\")\n",
        "model_5.load_weights(\"/content/drive/MyDrive/SkimLit_NPL/pubmed-rct/checkpoints/2-weights.01-0.30\")"
      ]
    },
    {
      "cell_type": "code",
      "execution_count": null,
      "metadata": {
        "colab": {
          "base_uri": "https://localhost:8080/"
        },
        "id": "3unnyUsxBhZr",
        "outputId": "e2ae5323-c873-47e3-c0e3-0da7f5dc9dc8"
      },
      "outputs": [
        {
          "data": {
            "text/plain": [
              "array([[1., 0., 0., 0., 0.],\n",
              "       [1., 0., 0., 0., 0.],\n",
              "       [1., 0., 0., 0., 0.],\n",
              "       ...,\n",
              "       [0., 0., 0., 0., 1.],\n",
              "       [0., 1., 0., 0., 0.],\n",
              "       [0., 1., 0., 0., 0.]])"
            ]
          },
          "execution_count": 85,
          "metadata": {},
          "output_type": "execute_result"
        }
      ],
      "source": [
        "test_labels_oh"
      ]
    },
    {
      "cell_type": "code",
      "execution_count": null,
      "metadata": {
        "colab": {
          "base_uri": "https://localhost:8080/"
        },
        "id": "QrmdL21ICt8p",
        "outputId": "78504d47-f377-4145-e8a5-7f15d8c51b77"
      },
      "outputs": [
        {
          "data": {
            "text/plain": [
              "<_PrefetchDataset element_spec=((TensorSpec(shape=(None, 35), dtype=tf.float32, name=None), TensorSpec(shape=(None, 20), dtype=tf.float32, name=None), TensorSpec(shape=(None,), dtype=tf.string, name=None), TensorSpec(shape=(None,), dtype=tf.string, name=None)), TensorSpec(shape=(None, 5), dtype=tf.float64, name=None))>"
            ]
          },
          "execution_count": 86,
          "metadata": {},
          "output_type": "execute_result"
        }
      ],
      "source": [
        "test_char_token_pos_dataset"
      ]
    },
    {
      "cell_type": "code",
      "execution_count": null,
      "metadata": {
        "colab": {
          "base_uri": "https://localhost:8080/"
        },
        "id": "s_Wdc_oCCPA7",
        "outputId": "91921166-2c02-4eab-9f96-db41085686a5"
      },
      "outputs": [
        {
          "name": "stdout",
          "output_type": "stream",
          "text": [
            "922/922 [==============================] - 24s 21ms/step\n"
          ]
        },
        {
          "data": {
            "text/plain": [
              "{'accuracy': 0.8840402807445834,\n",
              " 'precision': 0.8855787236314059,\n",
              " 'recall': 0.8840402807445834,\n",
              " 'f1-score': 0.882550567428959}"
            ]
          },
          "execution_count": 117,
          "metadata": {},
          "output_type": "execute_result"
        }
      ],
      "source": [
        "# Make predicitons with test datasets\n",
        "model_5_pred_probs = model_5.predict(test_char_token_pos_dataset)\n",
        "model_5_preds = tf.argmax(model_5_pred_probs, axis=1)\n",
        "model_5_results = calculate_results(test_labels, model_5_preds)\n",
        "model_5_results"
      ]
    },
    {
      "cell_type": "code",
      "execution_count": null,
      "metadata": {
        "colab": {
          "base_uri": "https://localhost:8080/"
        },
        "id": "Wz6__yZfFNVZ",
        "outputId": "33fb2d03-2b04-46ab-ae0b-2800188cacf0"
      },
      "outputs": [
        {
          "name": "stdout",
          "output_type": "stream",
          "text": [
            "922/922 [==============================] - 19s 21ms/step\n"
          ]
        },
        {
          "data": {
            "text/plain": [
              "{'accuracy': 0.8840402807445834,\n",
              " 'precision': 0.8855787236314059,\n",
              " 'recall': 0.8840402807445834,\n",
              " 'f1-score': 0.882550567428959}"
            ]
          },
          "execution_count": 99,
          "metadata": {},
          "output_type": "execute_result"
        }
      ],
      "source": [
        "model_5_pred_probs = loaded_model.predict(test_char_token_pos_dataset)\n",
        "model_5_preds = tf.argmax(model_5_pred_probs, axis=1)\n",
        "model_5_results = calculate_results(test_labels, model_5_preds)\n",
        "model_5_results"
      ]
    },
    {
      "cell_type": "markdown",
      "metadata": {
        "id": "QSNjk7K9K-aq"
      },
      "source": [
        "#5 Save and load the model"
      ]
    },
    {
      "cell_type": "markdown",
      "metadata": {
        "id": "Q7ZPyHnjLXTI"
      },
      "source": [
        "##5.1 Save model"
      ]
    },
    {
      "cell_type": "code",
      "execution_count": null,
      "metadata": {
        "colab": {
          "base_uri": "https://localhost:8080/"
        },
        "id": "v-HpFyInGadb",
        "outputId": "e59c1594-b5d6-42cf-c8bc-5d3a1a7df8c1"
      },
      "outputs": [
        {
          "name": "stdout",
          "output_type": "stream",
          "text": [
            "mkdir: cannot create directory ‘models’: File exists\n"
          ]
        }
      ],
      "source": [
        "!mkdir models"
      ]
    },
    {
      "cell_type": "code",
      "execution_count": null,
      "metadata": {
        "colab": {
          "base_uri": "https://localhost:8080/"
        },
        "id": "HutIqrUBUXRt",
        "outputId": "c04c6e15-1283-41ca-b6bf-c89b5cb5042f"
      },
      "outputs": [
        {
          "name": "stdout",
          "output_type": "stream",
          "text": [
            "/content/drive/MyDrive/SkimLit_NPL/pubmed-rct\n"
          ]
        }
      ],
      "source": [
        "%cd /content/drive/MyDrive/SkimLit_NPL/pubmed-rct"
      ]
    },
    {
      "cell_type": "code",
      "execution_count": null,
      "metadata": {
        "id": "-KmSxHYPCvNf"
      },
      "outputs": [],
      "source": [
        "# Create a function to save a model\n",
        "import os\n",
        "from datetime import datetime\n",
        "def save_model(model, save_dir=\"./models\", save_format=\"tf\"):\n",
        "    \n",
        "    # generate a timestamp for the model name\n",
        "    timestamp = datetime.now().strftime(\"%Y%m%d-%H%M%S%f\")\n",
        "    \n",
        "    # set the file extension based on the save format\n",
        "    if save_format == \"h5\":\n",
        "        file_ext = \".h5\"\n",
        "    elif save_format == \"tf\":\n",
        "        file_ext = \"\"\n",
        "    else:\n",
        "        raise ValueError(f\"Unsupported save format: {save_format}\")\n",
        "    \n",
        "    # create the file path for the saved model\n",
        "    file_path = os.path.join(save_dir, f\"{timestamp}{file_ext}\")\n",
        "    \n",
        "    # save the model\n",
        "    model.save(file_path, save_format=save_format)\n",
        "    \n",
        "    # print the file path for reference\n",
        "    print(f\"Saved model to {file_path}\")\n"
      ]
    },
    {
      "cell_type": "code",
      "execution_count": null,
      "metadata": {
        "colab": {
          "base_uri": "https://localhost:8080/"
        },
        "id": "fZOdn4_5F3BM",
        "outputId": "6f66bede-fe4e-4dc7-989c-7d06d0941898"
      },
      "outputs": [
        {
          "name": "stderr",
          "output_type": "stream",
          "text": [
            "WARNING:tensorflow:Compiled the loaded model, but the compiled metrics have yet to be built. `model.compile_metrics` will be empty until you train or evaluate the model.\n",
            "WARNING:absl:Found untraced functions such as lstm_cell_1_layer_call_fn, lstm_cell_1_layer_call_and_return_conditional_losses, lstm_cell_2_layer_call_fn, lstm_cell_2_layer_call_and_return_conditional_losses while saving (showing 4 of 4). These functions will not be directly callable after loading.\n"
          ]
        },
        {
          "name": "stdout",
          "output_type": "stream",
          "text": [
            "Saved model to ./models/20230524-195239532098\n"
          ]
        }
      ],
      "source": [
        "save_model(model_5)"
      ]
    },
    {
      "cell_type": "markdown",
      "metadata": {
        "id": "1IT4n7h3GIEV"
      },
      "source": [
        "##5.2 Load model"
      ]
    },
    {
      "cell_type": "code",
      "execution_count": null,
      "metadata": {
        "colab": {
          "base_uri": "https://localhost:8080/"
        },
        "id": "7dW83hw4LbT-",
        "outputId": "32acf543-abe8-4319-dccd-340062b7182d"
      },
      "outputs": [
        {
          "name": "stdout",
          "output_type": "stream",
          "text": [
            "20230516-055852470025\n"
          ]
        }
      ],
      "source": [
        "!ls pubmed-rct/models"
      ]
    },
    {
      "cell_type": "code",
      "execution_count": null,
      "metadata": {
        "id": "3ROauGYSLdl3"
      },
      "outputs": [],
      "source": [
        "# Set the file path to the saved model\n",
        "file_path = \"/content/drive/MyDrive/SkimLit_NPL/pubmed-rct/models/20230516-055852470025\"\n",
        "\n",
        "# Load the model from TensorFlow format\n",
        "loaded_model = tf.keras.models.load_model(file_path)"
      ]
    },
    {
      "cell_type": "code",
      "execution_count": null,
      "metadata": {
        "colab": {
          "base_uri": "https://localhost:8080/"
        },
        "id": "A84ViacCLw3h",
        "outputId": "1f44e773-1d06-40a8-aa84-603bab425104"
      },
      "outputs": [
        {
          "name": "stdout",
          "output_type": "stream",
          "text": [
            "922/922 [==============================] - 17s 18ms/step\n"
          ]
        },
        {
          "data": {
            "text/plain": [
              "{'accuracy': 0.8840402807445834,\n",
              " 'precision': 0.8855787236314059,\n",
              " 'recall': 0.8840402807445834,\n",
              " 'f1-score': 0.882550567428959}"
            ]
          },
          "execution_count": 100,
          "metadata": {},
          "output_type": "execute_result"
        }
      ],
      "source": [
        "# Make predicitons with test datasets\n",
        "model_5_pred_probs = loaded_model.predict(test_char_token_pos_dataset)\n",
        "model_5_preds = tf.argmax(model_5_pred_probs, axis=1)\n",
        "model_5_results = calculate_results(test_labels, model_5_preds)\n",
        "model_5_results"
      ]
    },
    {
      "cell_type": "markdown",
      "metadata": {
        "id": "8nB1vJqGL30h"
      },
      "source": [
        "##5.3 Creaeta a function to predict new instances\n",
        "test_sentences[1]"
      ]
    },
    {
      "cell_type": "code",
      "execution_count": null,
      "metadata": {
        "colab": {
          "base_uri": "https://localhost:8080/",
          "height": 423
        },
        "id": "2n3zI2cCVKY-",
        "outputId": "9a2abf8a-a574-40fd-b2dc-13302d55c022"
      },
      "outputs": [
        {
          "data": {
            "text/html": [
              "\n",
              "  <div id=\"df-7382ec7a-314a-4f25-b5bf-5a2363483858\">\n",
              "    <div class=\"colab-df-container\">\n",
              "      <div>\n",
              "<style scoped>\n",
              "    .dataframe tbody tr th:only-of-type {\n",
              "        vertical-align: middle;\n",
              "    }\n",
              "\n",
              "    .dataframe tbody tr th {\n",
              "        vertical-align: top;\n",
              "    }\n",
              "\n",
              "    .dataframe thead th {\n",
              "        text-align: right;\n",
              "    }\n",
              "</style>\n",
              "<table border=\"1\" class=\"dataframe\">\n",
              "  <thead>\n",
              "    <tr style=\"text-align: right;\">\n",
              "      <th></th>\n",
              "      <th>line_number</th>\n",
              "      <th>target</th>\n",
              "      <th>text</th>\n",
              "      <th>total_lines</th>\n",
              "    </tr>\n",
              "  </thead>\n",
              "  <tbody>\n",
              "    <tr>\n",
              "      <th>0</th>\n",
              "      <td>0</td>\n",
              "      <td>BACKGROUND</td>\n",
              "      <td>many pathogenic processes and diseases are the...</td>\n",
              "      <td>10</td>\n",
              "    </tr>\n",
              "    <tr>\n",
              "      <th>1</th>\n",
              "      <td>1</td>\n",
              "      <td>BACKGROUND</td>\n",
              "      <td>it was recently demonstrated that supraphysiol...</td>\n",
              "      <td>10</td>\n",
              "    </tr>\n",
              "    <tr>\n",
              "      <th>2</th>\n",
              "      <td>2</td>\n",
              "      <td>BACKGROUND</td>\n",
              "      <td>in the present study , we examined the associa...</td>\n",
              "      <td>10</td>\n",
              "    </tr>\n",
              "    <tr>\n",
              "      <th>3</th>\n",
              "      <td>3</td>\n",
              "      <td>BACKGROUND</td>\n",
              "      <td>in addition , we compared plasma levels of map...</td>\n",
              "      <td>10</td>\n",
              "    </tr>\n",
              "    <tr>\n",
              "      <th>4</th>\n",
              "      <td>4</td>\n",
              "      <td>METHODS</td>\n",
              "      <td>a total of @ mi patients and @ control persons...</td>\n",
              "      <td>10</td>\n",
              "    </tr>\n",
              "    <tr>\n",
              "      <th>...</th>\n",
              "      <td>...</td>\n",
              "      <td>...</td>\n",
              "      <td>...</td>\n",
              "      <td>...</td>\n",
              "    </tr>\n",
              "    <tr>\n",
              "      <th>29488</th>\n",
              "      <td>7</td>\n",
              "      <td>RESULTS</td>\n",
              "      <td>bone loss at the median forearm site was signi...</td>\n",
              "      <td>11</td>\n",
              "    </tr>\n",
              "    <tr>\n",
              "      <th>29489</th>\n",
              "      <td>8</td>\n",
              "      <td>RESULTS</td>\n",
              "      <td>breast tenderness occurred in @ percent of the...</td>\n",
              "      <td>11</td>\n",
              "    </tr>\n",
              "    <tr>\n",
              "      <th>29490</th>\n",
              "      <td>9</td>\n",
              "      <td>RESULTS</td>\n",
              "      <td>vaginal bleeding occurred at some time in @ pe...</td>\n",
              "      <td>11</td>\n",
              "    </tr>\n",
              "    <tr>\n",
              "      <th>29491</th>\n",
              "      <td>10</td>\n",
              "      <td>CONCLUSIONS</td>\n",
              "      <td>in postmenopausal women with low bone density ...</td>\n",
              "      <td>11</td>\n",
              "    </tr>\n",
              "    <tr>\n",
              "      <th>29492</th>\n",
              "      <td>11</td>\n",
              "      <td>CONCLUSIONS</td>\n",
              "      <td>although the exercise-estrogen regimen was mor...</td>\n",
              "      <td>11</td>\n",
              "    </tr>\n",
              "  </tbody>\n",
              "</table>\n",
              "<p>29493 rows × 4 columns</p>\n",
              "</div>\n",
              "      <button class=\"colab-df-convert\" onclick=\"convertToInteractive('df-7382ec7a-314a-4f25-b5bf-5a2363483858')\"\n",
              "              title=\"Convert this dataframe to an interactive table.\"\n",
              "              style=\"display:none;\">\n",
              "        \n",
              "  <svg xmlns=\"http://www.w3.org/2000/svg\" height=\"24px\"viewBox=\"0 0 24 24\"\n",
              "       width=\"24px\">\n",
              "    <path d=\"M0 0h24v24H0V0z\" fill=\"none\"/>\n",
              "    <path d=\"M18.56 5.44l.94 2.06.94-2.06 2.06-.94-2.06-.94-.94-2.06-.94 2.06-2.06.94zm-11 1L8.5 8.5l.94-2.06 2.06-.94-2.06-.94L8.5 2.5l-.94 2.06-2.06.94zm10 10l.94 2.06.94-2.06 2.06-.94-2.06-.94-.94-2.06-.94 2.06-2.06.94z\"/><path d=\"M17.41 7.96l-1.37-1.37c-.4-.4-.92-.59-1.43-.59-.52 0-1.04.2-1.43.59L10.3 9.45l-7.72 7.72c-.78.78-.78 2.05 0 2.83L4 21.41c.39.39.9.59 1.41.59.51 0 1.02-.2 1.41-.59l7.78-7.78 2.81-2.81c.8-.78.8-2.07 0-2.86zM5.41 20L4 18.59l7.72-7.72 1.47 1.35L5.41 20z\"/>\n",
              "  </svg>\n",
              "      </button>\n",
              "      \n",
              "  <style>\n",
              "    .colab-df-container {\n",
              "      display:flex;\n",
              "      flex-wrap:wrap;\n",
              "      gap: 12px;\n",
              "    }\n",
              "\n",
              "    .colab-df-convert {\n",
              "      background-color: #E8F0FE;\n",
              "      border: none;\n",
              "      border-radius: 50%;\n",
              "      cursor: pointer;\n",
              "      display: none;\n",
              "      fill: #1967D2;\n",
              "      height: 32px;\n",
              "      padding: 0 0 0 0;\n",
              "      width: 32px;\n",
              "    }\n",
              "\n",
              "    .colab-df-convert:hover {\n",
              "      background-color: #E2EBFA;\n",
              "      box-shadow: 0px 1px 2px rgba(60, 64, 67, 0.3), 0px 1px 3px 1px rgba(60, 64, 67, 0.15);\n",
              "      fill: #174EA6;\n",
              "    }\n",
              "\n",
              "    [theme=dark] .colab-df-convert {\n",
              "      background-color: #3B4455;\n",
              "      fill: #D2E3FC;\n",
              "    }\n",
              "\n",
              "    [theme=dark] .colab-df-convert:hover {\n",
              "      background-color: #434B5C;\n",
              "      box-shadow: 0px 1px 3px 1px rgba(0, 0, 0, 0.15);\n",
              "      filter: drop-shadow(0px 1px 2px rgba(0, 0, 0, 0.3));\n",
              "      fill: #FFFFFF;\n",
              "    }\n",
              "  </style>\n",
              "\n",
              "      <script>\n",
              "        const buttonEl =\n",
              "          document.querySelector('#df-7382ec7a-314a-4f25-b5bf-5a2363483858 button.colab-df-convert');\n",
              "        buttonEl.style.display =\n",
              "          google.colab.kernel.accessAllowed ? 'block' : 'none';\n",
              "\n",
              "        async function convertToInteractive(key) {\n",
              "          const element = document.querySelector('#df-7382ec7a-314a-4f25-b5bf-5a2363483858');\n",
              "          const dataTable =\n",
              "            await google.colab.kernel.invokeFunction('convertToInteractive',\n",
              "                                                     [key], {});\n",
              "          if (!dataTable) return;\n",
              "\n",
              "          const docLinkHtml = 'Like what you see? Visit the ' +\n",
              "            '<a target=\"_blank\" href=https://colab.research.google.com/notebooks/data_table.ipynb>data table notebook</a>'\n",
              "            + ' to learn more about interactive tables.';\n",
              "          element.innerHTML = '';\n",
              "          dataTable['output_type'] = 'display_data';\n",
              "          await google.colab.output.renderOutput(dataTable, element);\n",
              "          const docLink = document.createElement('div');\n",
              "          docLink.innerHTML = docLinkHtml;\n",
              "          element.appendChild(docLink);\n",
              "        }\n",
              "      </script>\n",
              "    </div>\n",
              "  </div>\n",
              "  "
            ],
            "text/plain": [
              "       line_number       target  \\\n",
              "0                0   BACKGROUND   \n",
              "1                1   BACKGROUND   \n",
              "2                2   BACKGROUND   \n",
              "3                3   BACKGROUND   \n",
              "4                4      METHODS   \n",
              "...            ...          ...   \n",
              "29488            7      RESULTS   \n",
              "29489            8      RESULTS   \n",
              "29490            9      RESULTS   \n",
              "29491           10  CONCLUSIONS   \n",
              "29492           11  CONCLUSIONS   \n",
              "\n",
              "                                                    text  total_lines  \n",
              "0      many pathogenic processes and diseases are the...           10  \n",
              "1      it was recently demonstrated that supraphysiol...           10  \n",
              "2      in the present study , we examined the associa...           10  \n",
              "3      in addition , we compared plasma levels of map...           10  \n",
              "4      a total of @ mi patients and @ control persons...           10  \n",
              "...                                                  ...          ...  \n",
              "29488  bone loss at the median forearm site was signi...           11  \n",
              "29489  breast tenderness occurred in @ percent of the...           11  \n",
              "29490  vaginal bleeding occurred at some time in @ pe...           11  \n",
              "29491  in postmenopausal women with low bone density ...           11  \n",
              "29492  although the exercise-estrogen regimen was mor...           11  \n",
              "\n",
              "[29493 rows x 4 columns]"
            ]
          },
          "execution_count": 86,
          "metadata": {},
          "output_type": "execute_result"
        }
      ],
      "source": [
        "test_df"
      ]
    },
    {
      "cell_type": "code",
      "execution_count": null,
      "metadata": {
        "id": "PpER2kjL9ni2",
        "colab": {
          "base_uri": "https://localhost:8080/"
        },
        "outputId": "6f433839-5537-477d-a7b0-819684078ba1"
      },
      "outputs": [
        {
          "output_type": "stream",
          "name": "stderr",
          "text": [
            "WARNING:tensorflow:No training configuration found in save file, so the model was *not* compiled. Compile it manually.\n"
          ]
        },
        {
          "output_type": "execute_result",
          "data": {
            "text/plain": [
              "<tensorflow.python.checkpoint.checkpoint.CheckpointLoadStatus at 0x7fce0de61810>"
            ]
          },
          "metadata": {},
          "execution_count": 7
        }
      ],
      "source": [
        "model_5 = keras.models.load_model(\"/content/drive/MyDrive/SkimLit_NPL/pubmed-rct/models/20230524-195239532098\")\n",
        "model_5.load_weights(\"/content/drive/MyDrive/SkimLit_NPL/pubmed-rct/checkpoints/2-weights.01-0.30\")"
      ]
    },
    {
      "cell_type": "code",
      "execution_count": null,
      "metadata": {
        "id": "ihQil1a-VQ-i"
      },
      "outputs": [],
      "source": [
        "def prepare_input(input_text):\n",
        "  input_sentences = input_text.split(\".\")\n",
        "  abstract_samples = []\n",
        "  for abstract_line_number, abstract_line in enumerate(input_sentences):\n",
        "    line_data = {}\n",
        "    line_data[\"line_number\"] = abstract_line_number\n",
        "    line_data[\"text\"] = abstract_line.lower()\n",
        "    line_data[\"total_lines\"] = len(input_sentences)\n",
        "    abstract_samples.append(line_data)\n",
        "  input_df = pd.DataFrame(abstract_samples)\n",
        "  input_chars = [\" \".join(list(sentence)) for sentence in input_sentences]\n",
        "  input_line_number_oh = tf.one_hot(input_df[\"line_number\"].to_numpy(), depth=35)\n",
        "  input_total_lines_oh = tf.one_hot(input_df[\"total_lines\"].to_numpy(), depth=20)\n",
        "  \n",
        "  # return char_token_pos_dataset\n",
        "  return [input_line_number_oh.numpy(), input_total_lines_oh.numpy(), np.array(input_sentences), np.array(input_chars)]"
      ]
    },
    {
      "cell_type": "code",
      "execution_count": null,
      "metadata": {
        "colab": {
          "base_uri": "https://localhost:8080/"
        },
        "id": "VvQUpvawlEdZ",
        "outputId": "8fbfa0e2-529a-430e-f864-ea9f590f91ac"
      },
      "outputs": [
        {
          "output_type": "stream",
          "name": "stdout",
          "text": [
            "1/1 [==============================] - 0s 70ms/step\n",
            "[[5.0706601e-01 3.2402463e-03 1.9441505e-03 4.8769897e-01 5.0514256e-05]\n",
            " [9.6052672e-06 3.0348193e-08 9.9966896e-01 1.4763894e-04 1.7377448e-04]\n",
            " [7.2840139e-02 1.2261264e-02 7.5679636e-01 4.4974308e-02 1.1312787e-01]\n",
            " [2.1578874e-02 2.2904674e-02 8.9166504e-01 5.4896157e-03 5.8361888e-02]\n",
            " [1.6787235e-02 1.6536580e-01 5.4152197e-01 2.1358670e-03 2.7418914e-01]]\n"
          ]
        }
      ],
      "source": [
        "input_text = \"The title should summarize the abstract and convince the reviewers that the topic is important, relevant, and innovative. To create a winning title, write out 6 to 10 key words found in the abstract and string them into various sentences. Once you have a sentence that adequately conveys the meaning of the work, try to condense the title yet still convey the essential message. Some organizations require a special format for the title, such as all uppercase letters, all bolded, or in italics. Be sure to check the instructions\"\n",
        "\n",
        "inputs = prepare_input(input_text)\n",
        "predictions = model_5.predict(inputs)\n",
        "print(predictions)"
      ]
    },
    {
      "cell_type": "code",
      "execution_count": null,
      "metadata": {
        "id": "tEobt0Of4acr"
      },
      "outputs": [],
      "source": [
        "def prediction(input_text):\n",
        "  classes = ['BACKGROUND', 'CONCLUSIONS', 'METHODS', 'OBJECTIVE', 'RESULTS']\n",
        "  input_text_split = input_text.split(\".\")\n",
        "  index = np.argmax(predictions, axis=1)\n",
        "  results = [classes[i] for i in index]\n",
        "  new_order = ['OBJECTIVE', 'BACKGROUND', 'METHODS', 'RESULTS', 'CONCLUSIONS']\n",
        "  for order_class in new_order:\n",
        "    current_sentences = list()\n",
        "    for idx, input_class in enumerate(results):\n",
        "      if input_class == order_class:\n",
        "        current_sentences.append(input_text_split[idx])\n",
        "    current_sentences = '.'.join(current_sentences)\n",
        "    print(f\"{order_class}: {current_sentences}\")\n",
        "  return current_sentences"
      ]
    },
    {
      "cell_type": "code",
      "execution_count": null,
      "metadata": {
        "colab": {
          "base_uri": "https://localhost:8080/",
          "height": 142
        },
        "id": "2hUrY8AKunK1",
        "outputId": "d4e2da2d-466a-478b-b8eb-fe32b36eaf4c"
      },
      "outputs": [
        {
          "output_type": "stream",
          "name": "stdout",
          "text": [
            "OBJECTIVE: \n",
            "BACKGROUND: The title should summarize the abstract and convince the reviewers that the topic is important, relevant, and innovative\n",
            "METHODS:  To create a winning title, write out 6 to 10 key words found in the abstract and string them into various sentences. Once you have a sentence that adequately conveys the meaning of the work, try to condense the title yet still convey the essential message. Some organizations require a special format for the title, such as all uppercase letters, all bolded, or in italics. Be sure to check the instructions\n",
            "RESULTS: \n",
            "CONCLUSIONS: \n"
          ]
        },
        {
          "output_type": "execute_result",
          "data": {
            "text/plain": [
              "''"
            ],
            "application/vnd.google.colaboratory.intrinsic+json": {
              "type": "string"
            }
          },
          "metadata": {},
          "execution_count": 97
        }
      ],
      "source": [
        "prediction(input_text)"
      ]
    }
  ]
}